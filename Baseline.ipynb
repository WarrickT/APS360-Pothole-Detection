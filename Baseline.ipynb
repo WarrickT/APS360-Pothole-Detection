{
  "nbformat": 4,
  "nbformat_minor": 0,
  "metadata": {
    "colab": {
      "provenance": []
    },
    "kernelspec": {
      "name": "python3",
      "display_name": "Python 3"
    },
    "language_info": {
      "name": "python"
    }
  },
  "cells": [
    {
      "cell_type": "code",
      "source": [
        "!pip install ultralytics opencv-python"
      ],
      "metadata": {
        "colab": {
          "base_uri": "https://localhost:8080/"
        },
        "id": "RSJFoVgVcoFJ",
        "outputId": "3b468d00-9955-4e53-b77b-7018b388f3d9"
      },
      "execution_count": null,
      "outputs": [
        {
          "output_type": "stream",
          "name": "stdout",
          "text": [
            "Collecting ultralytics\n",
            "  Downloading ultralytics-8.3.165-py3-none-any.whl.metadata (37 kB)\n",
            "Requirement already satisfied: opencv-python in /usr/local/lib/python3.11/dist-packages (4.11.0.86)\n",
            "Requirement already satisfied: numpy>=1.23.0 in /usr/local/lib/python3.11/dist-packages (from ultralytics) (2.0.2)\n",
            "Requirement already satisfied: matplotlib>=3.3.0 in /usr/local/lib/python3.11/dist-packages (from ultralytics) (3.10.0)\n",
            "Requirement already satisfied: pillow>=7.1.2 in /usr/local/lib/python3.11/dist-packages (from ultralytics) (11.2.1)\n",
            "Requirement already satisfied: pyyaml>=5.3.1 in /usr/local/lib/python3.11/dist-packages (from ultralytics) (6.0.2)\n",
            "Requirement already satisfied: requests>=2.23.0 in /usr/local/lib/python3.11/dist-packages (from ultralytics) (2.32.3)\n",
            "Requirement already satisfied: scipy>=1.4.1 in /usr/local/lib/python3.11/dist-packages (from ultralytics) (1.15.3)\n",
            "Requirement already satisfied: torch>=1.8.0 in /usr/local/lib/python3.11/dist-packages (from ultralytics) (2.6.0+cu124)\n",
            "Requirement already satisfied: torchvision>=0.9.0 in /usr/local/lib/python3.11/dist-packages (from ultralytics) (0.21.0+cu124)\n",
            "Requirement already satisfied: tqdm>=4.64.0 in /usr/local/lib/python3.11/dist-packages (from ultralytics) (4.67.1)\n",
            "Requirement already satisfied: psutil in /usr/local/lib/python3.11/dist-packages (from ultralytics) (5.9.5)\n",
            "Requirement already satisfied: py-cpuinfo in /usr/local/lib/python3.11/dist-packages (from ultralytics) (9.0.0)\n",
            "Requirement already satisfied: pandas>=1.1.4 in /usr/local/lib/python3.11/dist-packages (from ultralytics) (2.2.2)\n",
            "Collecting ultralytics-thop>=2.0.0 (from ultralytics)\n",
            "  Downloading ultralytics_thop-2.0.14-py3-none-any.whl.metadata (9.4 kB)\n",
            "Requirement already satisfied: contourpy>=1.0.1 in /usr/local/lib/python3.11/dist-packages (from matplotlib>=3.3.0->ultralytics) (1.3.2)\n",
            "Requirement already satisfied: cycler>=0.10 in /usr/local/lib/python3.11/dist-packages (from matplotlib>=3.3.0->ultralytics) (0.12.1)\n",
            "Requirement already satisfied: fonttools>=4.22.0 in /usr/local/lib/python3.11/dist-packages (from matplotlib>=3.3.0->ultralytics) (4.58.5)\n",
            "Requirement already satisfied: kiwisolver>=1.3.1 in /usr/local/lib/python3.11/dist-packages (from matplotlib>=3.3.0->ultralytics) (1.4.8)\n",
            "Requirement already satisfied: packaging>=20.0 in /usr/local/lib/python3.11/dist-packages (from matplotlib>=3.3.0->ultralytics) (24.2)\n",
            "Requirement already satisfied: pyparsing>=2.3.1 in /usr/local/lib/python3.11/dist-packages (from matplotlib>=3.3.0->ultralytics) (3.2.3)\n",
            "Requirement already satisfied: python-dateutil>=2.7 in /usr/local/lib/python3.11/dist-packages (from matplotlib>=3.3.0->ultralytics) (2.9.0.post0)\n",
            "Requirement already satisfied: pytz>=2020.1 in /usr/local/lib/python3.11/dist-packages (from pandas>=1.1.4->ultralytics) (2025.2)\n",
            "Requirement already satisfied: tzdata>=2022.7 in /usr/local/lib/python3.11/dist-packages (from pandas>=1.1.4->ultralytics) (2025.2)\n",
            "Requirement already satisfied: charset-normalizer<4,>=2 in /usr/local/lib/python3.11/dist-packages (from requests>=2.23.0->ultralytics) (3.4.2)\n",
            "Requirement already satisfied: idna<4,>=2.5 in /usr/local/lib/python3.11/dist-packages (from requests>=2.23.0->ultralytics) (3.10)\n",
            "Requirement already satisfied: urllib3<3,>=1.21.1 in /usr/local/lib/python3.11/dist-packages (from requests>=2.23.0->ultralytics) (2.4.0)\n",
            "Requirement already satisfied: certifi>=2017.4.17 in /usr/local/lib/python3.11/dist-packages (from requests>=2.23.0->ultralytics) (2025.7.9)\n",
            "Requirement already satisfied: filelock in /usr/local/lib/python3.11/dist-packages (from torch>=1.8.0->ultralytics) (3.18.0)\n",
            "Requirement already satisfied: typing-extensions>=4.10.0 in /usr/local/lib/python3.11/dist-packages (from torch>=1.8.0->ultralytics) (4.14.1)\n",
            "Requirement already satisfied: networkx in /usr/local/lib/python3.11/dist-packages (from torch>=1.8.0->ultralytics) (3.5)\n",
            "Requirement already satisfied: jinja2 in /usr/local/lib/python3.11/dist-packages (from torch>=1.8.0->ultralytics) (3.1.6)\n",
            "Requirement already satisfied: fsspec in /usr/local/lib/python3.11/dist-packages (from torch>=1.8.0->ultralytics) (2025.3.2)\n",
            "Collecting nvidia-cuda-nvrtc-cu12==12.4.127 (from torch>=1.8.0->ultralytics)\n",
            "  Downloading nvidia_cuda_nvrtc_cu12-12.4.127-py3-none-manylinux2014_x86_64.whl.metadata (1.5 kB)\n",
            "Collecting nvidia-cuda-runtime-cu12==12.4.127 (from torch>=1.8.0->ultralytics)\n",
            "  Downloading nvidia_cuda_runtime_cu12-12.4.127-py3-none-manylinux2014_x86_64.whl.metadata (1.5 kB)\n",
            "Collecting nvidia-cuda-cupti-cu12==12.4.127 (from torch>=1.8.0->ultralytics)\n",
            "  Downloading nvidia_cuda_cupti_cu12-12.4.127-py3-none-manylinux2014_x86_64.whl.metadata (1.6 kB)\n",
            "Collecting nvidia-cudnn-cu12==9.1.0.70 (from torch>=1.8.0->ultralytics)\n",
            "  Downloading nvidia_cudnn_cu12-9.1.0.70-py3-none-manylinux2014_x86_64.whl.metadata (1.6 kB)\n",
            "Collecting nvidia-cublas-cu12==12.4.5.8 (from torch>=1.8.0->ultralytics)\n",
            "  Downloading nvidia_cublas_cu12-12.4.5.8-py3-none-manylinux2014_x86_64.whl.metadata (1.5 kB)\n",
            "Collecting nvidia-cufft-cu12==11.2.1.3 (from torch>=1.8.0->ultralytics)\n",
            "  Downloading nvidia_cufft_cu12-11.2.1.3-py3-none-manylinux2014_x86_64.whl.metadata (1.5 kB)\n",
            "Collecting nvidia-curand-cu12==10.3.5.147 (from torch>=1.8.0->ultralytics)\n",
            "  Downloading nvidia_curand_cu12-10.3.5.147-py3-none-manylinux2014_x86_64.whl.metadata (1.5 kB)\n",
            "Collecting nvidia-cusolver-cu12==11.6.1.9 (from torch>=1.8.0->ultralytics)\n",
            "  Downloading nvidia_cusolver_cu12-11.6.1.9-py3-none-manylinux2014_x86_64.whl.metadata (1.6 kB)\n",
            "Collecting nvidia-cusparse-cu12==12.3.1.170 (from torch>=1.8.0->ultralytics)\n",
            "  Downloading nvidia_cusparse_cu12-12.3.1.170-py3-none-manylinux2014_x86_64.whl.metadata (1.6 kB)\n",
            "Requirement already satisfied: nvidia-cusparselt-cu12==0.6.2 in /usr/local/lib/python3.11/dist-packages (from torch>=1.8.0->ultralytics) (0.6.2)\n",
            "Requirement already satisfied: nvidia-nccl-cu12==2.21.5 in /usr/local/lib/python3.11/dist-packages (from torch>=1.8.0->ultralytics) (2.21.5)\n",
            "Requirement already satisfied: nvidia-nvtx-cu12==12.4.127 in /usr/local/lib/python3.11/dist-packages (from torch>=1.8.0->ultralytics) (12.4.127)\n",
            "Collecting nvidia-nvjitlink-cu12==12.4.127 (from torch>=1.8.0->ultralytics)\n",
            "  Downloading nvidia_nvjitlink_cu12-12.4.127-py3-none-manylinux2014_x86_64.whl.metadata (1.5 kB)\n",
            "Requirement already satisfied: triton==3.2.0 in /usr/local/lib/python3.11/dist-packages (from torch>=1.8.0->ultralytics) (3.2.0)\n",
            "Requirement already satisfied: sympy==1.13.1 in /usr/local/lib/python3.11/dist-packages (from torch>=1.8.0->ultralytics) (1.13.1)\n",
            "Requirement already satisfied: mpmath<1.4,>=1.1.0 in /usr/local/lib/python3.11/dist-packages (from sympy==1.13.1->torch>=1.8.0->ultralytics) (1.3.0)\n",
            "Requirement already satisfied: six>=1.5 in /usr/local/lib/python3.11/dist-packages (from python-dateutil>=2.7->matplotlib>=3.3.0->ultralytics) (1.17.0)\n",
            "Requirement already satisfied: MarkupSafe>=2.0 in /usr/local/lib/python3.11/dist-packages (from jinja2->torch>=1.8.0->ultralytics) (3.0.2)\n",
            "Downloading ultralytics-8.3.165-py3-none-any.whl (1.0 MB)\n",
            "\u001b[2K   \u001b[90m━━━━━━━━━━━━━━━━━━━━━━━━━━━━━━━━━━━━━━━━\u001b[0m \u001b[32m1.0/1.0 MB\u001b[0m \u001b[31m24.3 MB/s\u001b[0m eta \u001b[36m0:00:00\u001b[0m\n",
            "\u001b[?25hDownloading nvidia_cublas_cu12-12.4.5.8-py3-none-manylinux2014_x86_64.whl (363.4 MB)\n",
            "\u001b[2K   \u001b[90m━━━━━━━━━━━━━━━━━━━━━━━━━━━━━━━━━━━━━━━━\u001b[0m \u001b[32m363.4/363.4 MB\u001b[0m \u001b[31m3.8 MB/s\u001b[0m eta \u001b[36m0:00:00\u001b[0m\n",
            "\u001b[?25hDownloading nvidia_cuda_cupti_cu12-12.4.127-py3-none-manylinux2014_x86_64.whl (13.8 MB)\n",
            "\u001b[2K   \u001b[90m━━━━━━━━━━━━━━━━━━━━━━━━━━━━━━━━━━━━━━━━\u001b[0m \u001b[32m13.8/13.8 MB\u001b[0m \u001b[31m120.4 MB/s\u001b[0m eta \u001b[36m0:00:00\u001b[0m\n",
            "\u001b[?25hDownloading nvidia_cuda_nvrtc_cu12-12.4.127-py3-none-manylinux2014_x86_64.whl (24.6 MB)\n",
            "\u001b[2K   \u001b[90m━━━━━━━━━━━━━━━━━━━━━━━━━━━━━━━━━━━━━━━━\u001b[0m \u001b[32m24.6/24.6 MB\u001b[0m \u001b[31m96.3 MB/s\u001b[0m eta \u001b[36m0:00:00\u001b[0m\n",
            "\u001b[?25hDownloading nvidia_cuda_runtime_cu12-12.4.127-py3-none-manylinux2014_x86_64.whl (883 kB)\n",
            "\u001b[2K   \u001b[90m━━━━━━━━━━━━━━━━━━━━━━━━━━━━━━━━━━━━━━━━\u001b[0m \u001b[32m883.7/883.7 kB\u001b[0m \u001b[31m57.2 MB/s\u001b[0m eta \u001b[36m0:00:00\u001b[0m\n",
            "\u001b[?25hDownloading nvidia_cudnn_cu12-9.1.0.70-py3-none-manylinux2014_x86_64.whl (664.8 MB)\n",
            "\u001b[2K   \u001b[90m━━━━━━━━━━━━━━━━━━━━━━━━━━━━━━━━━━━━━━━━\u001b[0m \u001b[32m664.8/664.8 MB\u001b[0m \u001b[31m1.2 MB/s\u001b[0m eta \u001b[36m0:00:00\u001b[0m\n",
            "\u001b[?25hDownloading nvidia_cufft_cu12-11.2.1.3-py3-none-manylinux2014_x86_64.whl (211.5 MB)\n",
            "\u001b[2K   \u001b[90m━━━━━━━━━━━━━━━━━━━━━━━━━━━━━━━━━━━━━━━━\u001b[0m \u001b[32m211.5/211.5 MB\u001b[0m \u001b[31m5.8 MB/s\u001b[0m eta \u001b[36m0:00:00\u001b[0m\n",
            "\u001b[?25hDownloading nvidia_curand_cu12-10.3.5.147-py3-none-manylinux2014_x86_64.whl (56.3 MB)\n",
            "\u001b[2K   \u001b[90m━━━━━━━━━━━━━━━━━━━━━━━━━━━━━━━━━━━━━━━━\u001b[0m \u001b[32m56.3/56.3 MB\u001b[0m \u001b[31m13.0 MB/s\u001b[0m eta \u001b[36m0:00:00\u001b[0m\n",
            "\u001b[?25hDownloading nvidia_cusolver_cu12-11.6.1.9-py3-none-manylinux2014_x86_64.whl (127.9 MB)\n",
            "\u001b[2K   \u001b[90m━━━━━━━━━━━━━━━━━━━━━━━━━━━━━━━━━━━━━━━━\u001b[0m \u001b[32m127.9/127.9 MB\u001b[0m \u001b[31m6.8 MB/s\u001b[0m eta \u001b[36m0:00:00\u001b[0m\n",
            "\u001b[?25hDownloading nvidia_cusparse_cu12-12.3.1.170-py3-none-manylinux2014_x86_64.whl (207.5 MB)\n",
            "\u001b[2K   \u001b[90m━━━━━━━━━━━━━━━━━━━━━━━━━━━━━━━━━━━━━━━━\u001b[0m \u001b[32m207.5/207.5 MB\u001b[0m \u001b[31m5.9 MB/s\u001b[0m eta \u001b[36m0:00:00\u001b[0m\n",
            "\u001b[?25hDownloading nvidia_nvjitlink_cu12-12.4.127-py3-none-manylinux2014_x86_64.whl (21.1 MB)\n",
            "\u001b[2K   \u001b[90m━━━━━━━━━━━━━━━━━━━━━━━━━━━━━━━━━━━━━━━━\u001b[0m \u001b[32m21.1/21.1 MB\u001b[0m \u001b[31m44.3 MB/s\u001b[0m eta \u001b[36m0:00:00\u001b[0m\n",
            "\u001b[?25hDownloading ultralytics_thop-2.0.14-py3-none-any.whl (26 kB)\n",
            "Installing collected packages: nvidia-nvjitlink-cu12, nvidia-curand-cu12, nvidia-cufft-cu12, nvidia-cuda-runtime-cu12, nvidia-cuda-nvrtc-cu12, nvidia-cuda-cupti-cu12, nvidia-cublas-cu12, nvidia-cusparse-cu12, nvidia-cudnn-cu12, nvidia-cusolver-cu12, ultralytics-thop, ultralytics\n",
            "  Attempting uninstall: nvidia-nvjitlink-cu12\n",
            "    Found existing installation: nvidia-nvjitlink-cu12 12.5.82\n",
            "    Uninstalling nvidia-nvjitlink-cu12-12.5.82:\n",
            "      Successfully uninstalled nvidia-nvjitlink-cu12-12.5.82\n",
            "  Attempting uninstall: nvidia-curand-cu12\n",
            "    Found existing installation: nvidia-curand-cu12 10.3.6.82\n",
            "    Uninstalling nvidia-curand-cu12-10.3.6.82:\n",
            "      Successfully uninstalled nvidia-curand-cu12-10.3.6.82\n",
            "  Attempting uninstall: nvidia-cufft-cu12\n",
            "    Found existing installation: nvidia-cufft-cu12 11.2.3.61\n",
            "    Uninstalling nvidia-cufft-cu12-11.2.3.61:\n",
            "      Successfully uninstalled nvidia-cufft-cu12-11.2.3.61\n",
            "  Attempting uninstall: nvidia-cuda-runtime-cu12\n",
            "    Found existing installation: nvidia-cuda-runtime-cu12 12.5.82\n",
            "    Uninstalling nvidia-cuda-runtime-cu12-12.5.82:\n",
            "      Successfully uninstalled nvidia-cuda-runtime-cu12-12.5.82\n",
            "  Attempting uninstall: nvidia-cuda-nvrtc-cu12\n",
            "    Found existing installation: nvidia-cuda-nvrtc-cu12 12.5.82\n",
            "    Uninstalling nvidia-cuda-nvrtc-cu12-12.5.82:\n",
            "      Successfully uninstalled nvidia-cuda-nvrtc-cu12-12.5.82\n",
            "  Attempting uninstall: nvidia-cuda-cupti-cu12\n",
            "    Found existing installation: nvidia-cuda-cupti-cu12 12.5.82\n",
            "    Uninstalling nvidia-cuda-cupti-cu12-12.5.82:\n",
            "      Successfully uninstalled nvidia-cuda-cupti-cu12-12.5.82\n",
            "  Attempting uninstall: nvidia-cublas-cu12\n",
            "    Found existing installation: nvidia-cublas-cu12 12.5.3.2\n",
            "    Uninstalling nvidia-cublas-cu12-12.5.3.2:\n",
            "      Successfully uninstalled nvidia-cublas-cu12-12.5.3.2\n",
            "  Attempting uninstall: nvidia-cusparse-cu12\n",
            "    Found existing installation: nvidia-cusparse-cu12 12.5.1.3\n",
            "    Uninstalling nvidia-cusparse-cu12-12.5.1.3:\n",
            "      Successfully uninstalled nvidia-cusparse-cu12-12.5.1.3\n",
            "  Attempting uninstall: nvidia-cudnn-cu12\n",
            "    Found existing installation: nvidia-cudnn-cu12 9.3.0.75\n",
            "    Uninstalling nvidia-cudnn-cu12-9.3.0.75:\n",
            "      Successfully uninstalled nvidia-cudnn-cu12-9.3.0.75\n",
            "  Attempting uninstall: nvidia-cusolver-cu12\n",
            "    Found existing installation: nvidia-cusolver-cu12 11.6.3.83\n",
            "    Uninstalling nvidia-cusolver-cu12-11.6.3.83:\n",
            "      Successfully uninstalled nvidia-cusolver-cu12-11.6.3.83\n",
            "Successfully installed nvidia-cublas-cu12-12.4.5.8 nvidia-cuda-cupti-cu12-12.4.127 nvidia-cuda-nvrtc-cu12-12.4.127 nvidia-cuda-runtime-cu12-12.4.127 nvidia-cudnn-cu12-9.1.0.70 nvidia-cufft-cu12-11.2.1.3 nvidia-curand-cu12-10.3.5.147 nvidia-cusolver-cu12-11.6.1.9 nvidia-cusparse-cu12-12.3.1.170 nvidia-nvjitlink-cu12-12.4.127 ultralytics-8.3.165 ultralytics-thop-2.0.14\n"
          ]
        }
      ]
    },
    {
      "cell_type": "code",
      "source": [
        "import os\n",
        "import shutil\n",
        "import json\n",
        "from ultralytics import YOLO"
      ],
      "metadata": {
        "id": "lfCEW4c4c1J-"
      },
      "execution_count": null,
      "outputs": []
    },
    {
      "cell_type": "code",
      "source": [
        "import torch\n",
        "use_cuda = True"
      ],
      "metadata": {
        "id": "kRF5v1w65vDU"
      },
      "execution_count": null,
      "outputs": []
    },
    {
      "cell_type": "code",
      "source": [
        "from google.colab import drive\n",
        "drive.mount('/content/drive')"
      ],
      "metadata": {
        "id": "15Yk6ZzdZ218",
        "colab": {
          "base_uri": "https://localhost:8080/"
        },
        "outputId": "d8a2bb93-85c2-4d5a-9ae2-edf5ce12d31e"
      },
      "execution_count": null,
      "outputs": [
        {
          "output_type": "stream",
          "name": "stdout",
          "text": [
            "Mounted at /content/drive\n"
          ]
        }
      ]
    },
    {
      "cell_type": "markdown",
      "source": [
        "The code below was not publicly available and required special conversions from our file format of JSON to the appropriate YAML file. In this case, seeing as this was for the processing stage, we did utilize ChatGPT to help us write some snippets to convert the files accordingly, with some edits on our end to make sure the code worked properly. We fully understand how the code works, as it essentially takes the JSON file, converts the bounding box dimension in the JSON file to a text file suitable for YOLOv8 interpretation, and creates a YAML file that leads YOLOv8 to find the appropriate images and txt files for processing."
      ],
      "metadata": {
        "id": "SM7X7yJNo_nH"
      }
    },
    {
      "cell_type": "code",
      "source": [
        "def convert_json_to_yolo(json_path, img_w, img_h, label_output_path, class_map={\"pothole\": 0}):\n",
        "    with open(json_path, 'r') as f:\n",
        "        data = json.load(f)\n",
        "\n",
        "    lines = []\n",
        "    for obj in data[\"objects\"]:\n",
        "        cls_id = class_map[obj[\"classTitle\"]]\n",
        "        (x1, y1), (x2, y2) = obj[\"points\"][\"exterior\"]\n",
        "\n",
        "        x_center = (x1 + x2) / 2.0 / img_w\n",
        "        y_center = (y1 + y2) / 2.0 / img_h\n",
        "        width = abs(x2 - x1) / img_w\n",
        "        height = abs(y2 - y1) / img_h\n",
        "\n",
        "        lines.append(f\"{cls_id} {x_center:.6f} {y_center:.6f} {width:.6f} {height:.6f}\")\n",
        "\n",
        "    with open(label_output_path, \"w\") as f:\n",
        "        f.write(\"\\n\".join(lines))"
      ],
      "metadata": {
        "id": "aSxKJgoId-Us"
      },
      "execution_count": null,
      "outputs": []
    },
    {
      "cell_type": "code",
      "source": [
        "def process_split(split):\n",
        "    img_dir = os.path.join(root, split, 'img')\n",
        "    json_dir = os.path.join(root, split, 'json')\n",
        "\n",
        "    image_files = [f for f in os.listdir(img_dir)]\n",
        "\n",
        "    for file in image_files:\n",
        "        base = os.path.splitext(file)[0]\n",
        "        img_path = os.path.join(img_dir, file)\n",
        "        json_path = os.path.join(json_dir, file + \".json\")\n",
        "        dest_img_path = f\"{root}/images/{split}/{file}\"\n",
        "        dest_label_path = f\"{root}/labels/{split}/{base}.txt\"\n",
        "\n",
        "        shutil.copy(img_path, dest_img_path)\n",
        "\n",
        "        img_dim = 512\n",
        "\n",
        "        if os.path.exists(json_path):\n",
        "            convert_json_to_yolo(json_path, img_dim, img_dim, dest_label_path)\n",
        "        else:\n",
        "            open(dest_label_path, \"w\").close()"
      ],
      "metadata": {
        "id": "qFH0l9ptpLqC"
      },
      "execution_count": null,
      "outputs": []
    },
    {
      "cell_type": "code",
      "source": [
        "root = '/content/drive/MyDrive/APS360_Project/RDD_2022_ProcessedData/'\n",
        "splits = ['train', 'val', 'test']\n",
        "\n",
        "for split in splits:\n",
        "    os.makedirs(f'{root}/images/{split}', exist_ok=True)\n",
        "    os.makedirs(f'{root}/labels/{split}', exist_ok=True)\n",
        "\n",
        "os.makedirs(f'{root}/data.yaml', exist_ok=True)\n",
        "os.makedirs(f'{root}/data_test.yaml', exist_ok=True)"
      ],
      "metadata": {
        "id": "NdTRpAI0foIs"
      },
      "execution_count": null,
      "outputs": []
    },
    {
      "cell_type": "code",
      "source": [
        "process_split('train')"
      ],
      "metadata": {
        "id": "b0VmbL47tzOz"
      },
      "execution_count": null,
      "outputs": []
    },
    {
      "cell_type": "code",
      "source": [
        "process_split('val')"
      ],
      "metadata": {
        "id": "xuhv9HyOpx53"
      },
      "execution_count": null,
      "outputs": []
    },
    {
      "cell_type": "code",
      "source": [
        "process_split('test')"
      ],
      "metadata": {
        "id": "8Fc_PKivDP02"
      },
      "execution_count": null,
      "outputs": []
    },
    {
      "cell_type": "code",
      "source": [
        "with open(f\"{root}/data.yaml\", \"w\") as f:\n",
        "    f.write(\n",
        "        \"\"\"\n",
        "train: /content/drive/MyDrive/APS360_Project/RDD_2022_ProcessedData/images/train\n",
        "val: /content/drive/MyDrive/APS360_Project/RDD_2022_ProcessedData/images/val\n",
        "\n",
        "nc: 1\n",
        "names: ['pothole']\n",
        "        \"\"\".strip()\n",
        "    )"
      ],
      "metadata": {
        "id": "05NapGCSgAj2"
      },
      "execution_count": null,
      "outputs": []
    },
    {
      "cell_type": "code",
      "source": [
        "model = YOLO(\"yolov8s.pt\")"
      ],
      "metadata": {
        "colab": {
          "base_uri": "https://localhost:8080/"
        },
        "id": "OO863Cw3eB0t",
        "outputId": "fba7da2a-2564-4862-f9b0-ec908a7841ed"
      },
      "execution_count": null,
      "outputs": [
        {
          "output_type": "stream",
          "name": "stdout",
          "text": [
            "Creating new Ultralytics Settings v0.0.6 file ✅ \n",
            "View Ultralytics Settings with 'yolo settings' or at '/root/.config/Ultralytics/settings.json'\n",
            "Update Settings with 'yolo settings key=value', i.e. 'yolo settings runs_dir=path/to/dir'. For help see https://docs.ultralytics.com/quickstart/#ultralytics-settings.\n",
            "Downloading https://github.com/ultralytics/assets/releases/download/v8.3.0/yolov8s.pt to 'yolov8s.pt'...\n"
          ]
        },
        {
          "output_type": "stream",
          "name": "stderr",
          "text": [
            "100%|██████████| 21.5M/21.5M [00:00<00:00, 242MB/s]\n"
          ]
        }
      ]
    },
    {
      "cell_type": "code",
      "source": [
        "model.train(data=f\"{root}/data.yaml\", epochs=20, imgsz=512, batch=128, freeze=10)"
      ],
      "metadata": {
        "colab": {
          "base_uri": "https://localhost:8080/"
        },
        "id": "xhrwphGsqX-i",
        "outputId": "4a5cb6bd-4f53-4f8a-80ed-cd42e8dff30e"
      },
      "execution_count": null,
      "outputs": [
        {
          "output_type": "stream",
          "name": "stdout",
          "text": [
            "Ultralytics 8.3.165 🚀 Python-3.11.13 torch-2.6.0+cu124 CUDA:0 (Tesla T4, 15095MiB)\n",
            "\u001b[34m\u001b[1mengine/trainer: \u001b[0magnostic_nms=False, amp=True, augment=False, auto_augment=randaugment, batch=128, bgr=0.0, box=7.5, cache=False, cfg=None, classes=None, close_mosaic=10, cls=0.5, conf=None, copy_paste=0.0, copy_paste_mode=flip, cos_lr=False, cutmix=0.0, data=/content/drive/MyDrive/APS360_Project/RDD_2022_ProcessedData//data.yaml, degrees=0.0, deterministic=True, device=None, dfl=1.5, dnn=False, dropout=0.0, dynamic=False, embed=None, epochs=20, erasing=0.4, exist_ok=False, fliplr=0.5, flipud=0.0, format=torchscript, fraction=1.0, freeze=10, half=False, hsv_h=0.015, hsv_s=0.7, hsv_v=0.4, imgsz=512, int8=False, iou=0.7, keras=False, kobj=1.0, line_width=None, lr0=0.01, lrf=0.01, mask_ratio=4, max_det=300, mixup=0.0, mode=train, model=yolov8s.pt, momentum=0.937, mosaic=1.0, multi_scale=False, name=train2, nbs=64, nms=False, opset=None, optimize=False, optimizer=auto, overlap_mask=True, patience=100, perspective=0.0, plots=True, pose=12.0, pretrained=True, profile=False, project=None, rect=False, resume=False, retina_masks=False, save=True, save_conf=False, save_crop=False, save_dir=runs/detect/train2, save_frames=False, save_json=False, save_period=-1, save_txt=False, scale=0.5, seed=0, shear=0.0, show=False, show_boxes=True, show_conf=True, show_labels=True, simplify=True, single_cls=False, source=None, split=val, stream_buffer=False, task=detect, time=None, tracker=botsort.yaml, translate=0.1, val=True, verbose=True, vid_stride=1, visualize=False, warmup_bias_lr=0.1, warmup_epochs=3.0, warmup_momentum=0.8, weight_decay=0.0005, workers=8, workspace=None\n",
            "Downloading https://ultralytics.com/assets/Arial.ttf to '/root/.config/Ultralytics/Arial.ttf'...\n"
          ]
        },
        {
          "output_type": "stream",
          "name": "stderr",
          "text": [
            "100%|██████████| 755k/755k [00:00<00:00, 22.3MB/s]"
          ]
        },
        {
          "output_type": "stream",
          "name": "stdout",
          "text": [
            "Overriding model.yaml nc=80 with nc=1\n",
            "\n",
            "                   from  n    params  module                                       arguments                     \n",
            "  0                  -1  1       928  ultralytics.nn.modules.conv.Conv             [3, 32, 3, 2]                 \n",
            "  1                  -1  1     18560  ultralytics.nn.modules.conv.Conv             [32, 64, 3, 2]                \n",
            "  2                  -1  1     29056  ultralytics.nn.modules.block.C2f             [64, 64, 1, True]             \n",
            "  3                  -1  1     73984  ultralytics.nn.modules.conv.Conv             [64, 128, 3, 2]               \n",
            "  4                  -1  2    197632  ultralytics.nn.modules.block.C2f             [128, 128, 2, True]           \n",
            "  5                  -1  1    295424  ultralytics.nn.modules.conv.Conv             [128, 256, 3, 2]              \n",
            "  6                  -1  2    788480  ultralytics.nn.modules.block.C2f             [256, 256, 2, True]           \n",
            "  7                  -1  1   1180672  ultralytics.nn.modules.conv.Conv             [256, 512, 3, 2]              \n",
            "  8                  -1  1   1838080  ultralytics.nn.modules.block.C2f             [512, 512, 1, True]           \n",
            "  9                  -1  1    656896  ultralytics.nn.modules.block.SPPF            [512, 512, 5]                 \n",
            " 10                  -1  1         0  torch.nn.modules.upsampling.Upsample         [None, 2, 'nearest']          \n",
            " 11             [-1, 6]  1         0  ultralytics.nn.modules.conv.Concat           [1]                           \n",
            " 12                  -1  1    591360  ultralytics.nn.modules.block.C2f             [768, 256, 1]                 \n",
            " 13                  -1  1         0  torch.nn.modules.upsampling.Upsample         [None, 2, 'nearest']          \n",
            " 14             [-1, 4]  1         0  ultralytics.nn.modules.conv.Concat           [1]                           \n",
            " 15                  -1  1    148224  ultralytics.nn.modules.block.C2f             [384, 128, 1]                 \n",
            " 16                  -1  1    147712  ultralytics.nn.modules.conv.Conv             [128, 128, 3, 2]              \n",
            " 17            [-1, 12]  1         0  ultralytics.nn.modules.conv.Concat           [1]                           \n",
            " 18                  -1  1    493056  ultralytics.nn.modules.block.C2f             [384, 256, 1]                 \n",
            " 19                  -1  1    590336  ultralytics.nn.modules.conv.Conv             [256, 256, 3, 2]              \n",
            " 20             [-1, 9]  1         0  ultralytics.nn.modules.conv.Concat           [1]                           \n",
            " 21                  -1  1   1969152  ultralytics.nn.modules.block.C2f             [768, 512, 1]                 \n"
          ]
        },
        {
          "output_type": "stream",
          "name": "stderr",
          "text": [
            "\n"
          ]
        },
        {
          "output_type": "stream",
          "name": "stdout",
          "text": [
            " 22        [15, 18, 21]  1   2116435  ultralytics.nn.modules.head.Detect           [1, [128, 256, 512]]          \n",
            "Model summary: 129 layers, 11,135,987 parameters, 11,135,971 gradients, 28.6 GFLOPs\n",
            "\n",
            "Transferred 349/355 items from pretrained weights\n",
            "Freezing layer 'model.0.conv.weight'\n",
            "Freezing layer 'model.0.bn.weight'\n",
            "Freezing layer 'model.0.bn.bias'\n",
            "Freezing layer 'model.1.conv.weight'\n",
            "Freezing layer 'model.1.bn.weight'\n",
            "Freezing layer 'model.1.bn.bias'\n",
            "Freezing layer 'model.2.cv1.conv.weight'\n",
            "Freezing layer 'model.2.cv1.bn.weight'\n",
            "Freezing layer 'model.2.cv1.bn.bias'\n",
            "Freezing layer 'model.2.cv2.conv.weight'\n",
            "Freezing layer 'model.2.cv2.bn.weight'\n",
            "Freezing layer 'model.2.cv2.bn.bias'\n",
            "Freezing layer 'model.2.m.0.cv1.conv.weight'\n",
            "Freezing layer 'model.2.m.0.cv1.bn.weight'\n",
            "Freezing layer 'model.2.m.0.cv1.bn.bias'\n",
            "Freezing layer 'model.2.m.0.cv2.conv.weight'\n",
            "Freezing layer 'model.2.m.0.cv2.bn.weight'\n",
            "Freezing layer 'model.2.m.0.cv2.bn.bias'\n",
            "Freezing layer 'model.3.conv.weight'\n",
            "Freezing layer 'model.3.bn.weight'\n",
            "Freezing layer 'model.3.bn.bias'\n",
            "Freezing layer 'model.4.cv1.conv.weight'\n",
            "Freezing layer 'model.4.cv1.bn.weight'\n",
            "Freezing layer 'model.4.cv1.bn.bias'\n",
            "Freezing layer 'model.4.cv2.conv.weight'\n",
            "Freezing layer 'model.4.cv2.bn.weight'\n",
            "Freezing layer 'model.4.cv2.bn.bias'\n",
            "Freezing layer 'model.4.m.0.cv1.conv.weight'\n",
            "Freezing layer 'model.4.m.0.cv1.bn.weight'\n",
            "Freezing layer 'model.4.m.0.cv1.bn.bias'\n",
            "Freezing layer 'model.4.m.0.cv2.conv.weight'\n",
            "Freezing layer 'model.4.m.0.cv2.bn.weight'\n",
            "Freezing layer 'model.4.m.0.cv2.bn.bias'\n",
            "Freezing layer 'model.4.m.1.cv1.conv.weight'\n",
            "Freezing layer 'model.4.m.1.cv1.bn.weight'\n",
            "Freezing layer 'model.4.m.1.cv1.bn.bias'\n",
            "Freezing layer 'model.4.m.1.cv2.conv.weight'\n",
            "Freezing layer 'model.4.m.1.cv2.bn.weight'\n",
            "Freezing layer 'model.4.m.1.cv2.bn.bias'\n",
            "Freezing layer 'model.5.conv.weight'\n",
            "Freezing layer 'model.5.bn.weight'\n",
            "Freezing layer 'model.5.bn.bias'\n",
            "Freezing layer 'model.6.cv1.conv.weight'\n",
            "Freezing layer 'model.6.cv1.bn.weight'\n",
            "Freezing layer 'model.6.cv1.bn.bias'\n",
            "Freezing layer 'model.6.cv2.conv.weight'\n",
            "Freezing layer 'model.6.cv2.bn.weight'\n",
            "Freezing layer 'model.6.cv2.bn.bias'\n",
            "Freezing layer 'model.6.m.0.cv1.conv.weight'\n",
            "Freezing layer 'model.6.m.0.cv1.bn.weight'\n",
            "Freezing layer 'model.6.m.0.cv1.bn.bias'\n",
            "Freezing layer 'model.6.m.0.cv2.conv.weight'\n",
            "Freezing layer 'model.6.m.0.cv2.bn.weight'\n",
            "Freezing layer 'model.6.m.0.cv2.bn.bias'\n",
            "Freezing layer 'model.6.m.1.cv1.conv.weight'\n",
            "Freezing layer 'model.6.m.1.cv1.bn.weight'\n",
            "Freezing layer 'model.6.m.1.cv1.bn.bias'\n",
            "Freezing layer 'model.6.m.1.cv2.conv.weight'\n",
            "Freezing layer 'model.6.m.1.cv2.bn.weight'\n",
            "Freezing layer 'model.6.m.1.cv2.bn.bias'\n",
            "Freezing layer 'model.7.conv.weight'\n",
            "Freezing layer 'model.7.bn.weight'\n",
            "Freezing layer 'model.7.bn.bias'\n",
            "Freezing layer 'model.8.cv1.conv.weight'\n",
            "Freezing layer 'model.8.cv1.bn.weight'\n",
            "Freezing layer 'model.8.cv1.bn.bias'\n",
            "Freezing layer 'model.8.cv2.conv.weight'\n",
            "Freezing layer 'model.8.cv2.bn.weight'\n",
            "Freezing layer 'model.8.cv2.bn.bias'\n",
            "Freezing layer 'model.8.m.0.cv1.conv.weight'\n",
            "Freezing layer 'model.8.m.0.cv1.bn.weight'\n",
            "Freezing layer 'model.8.m.0.cv1.bn.bias'\n",
            "Freezing layer 'model.8.m.0.cv2.conv.weight'\n",
            "Freezing layer 'model.8.m.0.cv2.bn.weight'\n",
            "Freezing layer 'model.8.m.0.cv2.bn.bias'\n",
            "Freezing layer 'model.9.cv1.conv.weight'\n",
            "Freezing layer 'model.9.cv1.bn.weight'\n",
            "Freezing layer 'model.9.cv1.bn.bias'\n",
            "Freezing layer 'model.9.cv2.conv.weight'\n",
            "Freezing layer 'model.9.cv2.bn.weight'\n",
            "Freezing layer 'model.9.cv2.bn.bias'\n",
            "Freezing layer 'model.22.dfl.conv.weight'\n",
            "\u001b[34m\u001b[1mAMP: \u001b[0mrunning Automatic Mixed Precision (AMP) checks...\n",
            "Downloading https://github.com/ultralytics/assets/releases/download/v8.3.0/yolo11n.pt to 'yolo11n.pt'...\n"
          ]
        },
        {
          "output_type": "stream",
          "name": "stderr",
          "text": [
            "100%|██████████| 5.35M/5.35M [00:00<00:00, 88.0MB/s]\n"
          ]
        },
        {
          "output_type": "stream",
          "name": "stdout",
          "text": [
            "\u001b[34m\u001b[1mAMP: \u001b[0mchecks passed ✅\n",
            "\u001b[34m\u001b[1mtrain: \u001b[0mFast image access ✅ (ping: 0.6±0.1 ms, read: 0.3±0.1 MB/s, size: 119.4 KB)\n"
          ]
        },
        {
          "output_type": "stream",
          "name": "stderr",
          "text": [
            "\u001b[34m\u001b[1mtrain: \u001b[0mScanning /content/drive/.shortcut-targets-by-id/1cifpQDRBcJgUxkcQMi6UsUSFPn7RfTNX/APS360_Project/RDD_2022_ProcessedData/labels/train.cache... 3030 images, 1744 backgrounds, 1 corrupt: 100%|██████████| 3031/3031 [00:00<?, ?it/s]"
          ]
        },
        {
          "output_type": "stream",
          "name": "stdout",
          "text": [
            "\u001b[34m\u001b[1mtrain: \u001b[0m/content/drive/.shortcut-targets-by-id/1cifpQDRBcJgUxkcQMi6UsUSFPn7RfTNX/APS360_Project/RDD_2022_ProcessedData/images/train/Japan_007634.jpg: ignoring corrupt image/label: cannot identify image file '/content/drive/.shortcut-targets-by-id/1cifpQDRBcJgUxkcQMi6UsUSFPn7RfTNX/APS360_Project/RDD_2022_ProcessedData/images/train/Japan_007634.jpg'\n"
          ]
        },
        {
          "output_type": "stream",
          "name": "stderr",
          "text": [
            "\n"
          ]
        },
        {
          "output_type": "stream",
          "name": "stdout",
          "text": [
            "\u001b[34m\u001b[1malbumentations: \u001b[0mBlur(p=0.01, blur_limit=(3, 7)), MedianBlur(p=0.01, blur_limit=(3, 7)), ToGray(p=0.01, method='weighted_average', num_output_channels=3), CLAHE(p=0.01, clip_limit=(1.0, 4.0), tile_grid_size=(8, 8))\n",
            "\u001b[34m\u001b[1mval: \u001b[0mFast image access ✅ (ping: 0.8±0.2 ms, read: 0.3±0.1 MB/s, size: 108.0 KB)\n"
          ]
        },
        {
          "output_type": "stream",
          "name": "stderr",
          "text": [
            "\u001b[34m\u001b[1mval: \u001b[0mScanning /content/drive/.shortcut-targets-by-id/1cifpQDRBcJgUxkcQMi6UsUSFPn7RfTNX/APS360_Project/RDD_2022_ProcessedData/labels/val.cache... 658 images, 458 backgrounds, 0 corrupt: 100%|██████████| 658/658 [00:00<?, ?it/s]\n"
          ]
        },
        {
          "output_type": "stream",
          "name": "stdout",
          "text": [
            "Plotting labels to runs/detect/train2/labels.jpg... \n",
            "\u001b[34m\u001b[1moptimizer:\u001b[0m 'optimizer=auto' found, ignoring 'lr0=0.01' and 'momentum=0.937' and determining best 'optimizer', 'lr0' and 'momentum' automatically... \n",
            "\u001b[34m\u001b[1moptimizer:\u001b[0m AdamW(lr=0.002, momentum=0.9) with parameter groups 57 weight(decay=0.0), 64 weight(decay=0.001), 63 bias(decay=0.0)\n",
            "Image sizes 512 train, 512 val\n",
            "Using 2 dataloader workers\n",
            "Logging results to \u001b[1mruns/detect/train2\u001b[0m\n",
            "Starting training for 20 epochs...\n",
            "\n",
            "      Epoch    GPU_mem   box_loss   cls_loss   dfl_loss  Instances       Size\n"
          ]
        },
        {
          "output_type": "stream",
          "name": "stderr",
          "text": [
            "       1/20      7.04G      2.694      14.45      1.947         79        512: 100%|██████████| 24/24 [14:26<00:00, 36.12s/it]\n",
            "                 Class     Images  Instances      Box(P          R      mAP50  mAP50-95): 100%|██████████| 3/3 [00:09<00:00,  3.32s/it]\n"
          ]
        },
        {
          "output_type": "stream",
          "name": "stdout",
          "text": [
            "                   all        658        340     0.0103      0.312    0.00677    0.00208\n",
            "\n",
            "      Epoch    GPU_mem   box_loss   cls_loss   dfl_loss  Instances       Size\n"
          ]
        },
        {
          "output_type": "stream",
          "name": "stderr",
          "text": [
            "       2/20      7.18G      2.312      2.866       1.64         81        512: 100%|██████████| 24/24 [00:38<00:00,  1.61s/it]\n",
            "                 Class     Images  Instances      Box(P          R      mAP50  mAP50-95): 100%|██████████| 3/3 [00:08<00:00,  2.85s/it]\n"
          ]
        },
        {
          "output_type": "stream",
          "name": "stdout",
          "text": [
            "                   all        658        340     0.0193      0.415     0.0137    0.00464\n",
            "\n",
            "      Epoch    GPU_mem   box_loss   cls_loss   dfl_loss  Instances       Size\n"
          ]
        },
        {
          "output_type": "stream",
          "name": "stderr",
          "text": [
            "       3/20      7.25G      2.312      2.535      1.716         85        512: 100%|██████████| 24/24 [00:40<00:00,  1.67s/it]\n",
            "                 Class     Images  Instances      Box(P          R      mAP50  mAP50-95): 100%|██████████| 3/3 [00:09<00:00,  3.16s/it]\n"
          ]
        },
        {
          "output_type": "stream",
          "name": "stdout",
          "text": [
            "                   all        658        340     0.0908      0.324     0.0708     0.0242\n",
            "\n",
            "      Epoch    GPU_mem   box_loss   cls_loss   dfl_loss  Instances       Size\n"
          ]
        },
        {
          "output_type": "stream",
          "name": "stderr",
          "text": [
            "       4/20      7.34G      2.327      2.447      1.717         89        512: 100%|██████████| 24/24 [00:38<00:00,  1.61s/it]\n",
            "                 Class     Images  Instances      Box(P          R      mAP50  mAP50-95): 100%|██████████| 3/3 [00:08<00:00,  2.87s/it]\n"
          ]
        },
        {
          "output_type": "stream",
          "name": "stdout",
          "text": [
            "                   all        658        340     0.0532      0.224     0.0507     0.0155\n",
            "\n",
            "      Epoch    GPU_mem   box_loss   cls_loss   dfl_loss  Instances       Size\n"
          ]
        },
        {
          "output_type": "stream",
          "name": "stderr",
          "text": [
            "       5/20         7G      2.285      2.314      1.697        113        512: 100%|██████████| 24/24 [00:38<00:00,  1.60s/it]\n",
            "                 Class     Images  Instances      Box(P          R      mAP50  mAP50-95): 100%|██████████| 3/3 [00:09<00:00,  3.02s/it]\n"
          ]
        },
        {
          "output_type": "stream",
          "name": "stdout",
          "text": [
            "                   all        658        340     0.0684      0.205     0.0371     0.0115\n",
            "\n",
            "      Epoch    GPU_mem   box_loss   cls_loss   dfl_loss  Instances       Size\n"
          ]
        },
        {
          "output_type": "stream",
          "name": "stderr",
          "text": [
            "       6/20      7.34G      2.233      2.268      1.678        106        512: 100%|██████████| 24/24 [00:38<00:00,  1.60s/it]\n",
            "                 Class     Images  Instances      Box(P          R      mAP50  mAP50-95): 100%|██████████| 3/3 [00:08<00:00,  2.74s/it]\n"
          ]
        },
        {
          "output_type": "stream",
          "name": "stdout",
          "text": [
            "                   all        658        340     0.0645      0.279      0.045      0.014\n",
            "\n",
            "      Epoch    GPU_mem   box_loss   cls_loss   dfl_loss  Instances       Size\n"
          ]
        },
        {
          "output_type": "stream",
          "name": "stderr",
          "text": [
            "       7/20      7.34G      2.216      2.181      1.643         79        512: 100%|██████████| 24/24 [00:39<00:00,  1.66s/it]\n",
            "                 Class     Images  Instances      Box(P          R      mAP50  mAP50-95): 100%|██████████| 3/3 [00:09<00:00,  3.06s/it]"
          ]
        },
        {
          "output_type": "stream",
          "name": "stdout",
          "text": [
            "                   all        658        340      0.269      0.259      0.161     0.0512\n"
          ]
        },
        {
          "output_type": "stream",
          "name": "stderr",
          "text": [
            "\n"
          ]
        },
        {
          "output_type": "stream",
          "name": "stdout",
          "text": [
            "\n",
            "      Epoch    GPU_mem   box_loss   cls_loss   dfl_loss  Instances       Size\n"
          ]
        },
        {
          "output_type": "stream",
          "name": "stderr",
          "text": [
            "       8/20      7.34G      2.167      2.162      1.622         81        512: 100%|██████████| 24/24 [00:38<00:00,  1.58s/it]\n",
            "                 Class     Images  Instances      Box(P          R      mAP50  mAP50-95): 100%|██████████| 3/3 [00:08<00:00,  2.78s/it]"
          ]
        },
        {
          "output_type": "stream",
          "name": "stdout",
          "text": [
            "                   all        658        340      0.234      0.268      0.142     0.0534\n"
          ]
        },
        {
          "output_type": "stream",
          "name": "stderr",
          "text": [
            "\n"
          ]
        },
        {
          "output_type": "stream",
          "name": "stdout",
          "text": [
            "\n",
            "      Epoch    GPU_mem   box_loss   cls_loss   dfl_loss  Instances       Size\n"
          ]
        },
        {
          "output_type": "stream",
          "name": "stderr",
          "text": [
            "       9/20         7G      2.117      2.104      1.597         73        512: 100%|██████████| 24/24 [00:38<00:00,  1.60s/it]\n",
            "                 Class     Images  Instances      Box(P          R      mAP50  mAP50-95): 100%|██████████| 3/3 [00:08<00:00,  2.95s/it]\n"
          ]
        },
        {
          "output_type": "stream",
          "name": "stdout",
          "text": [
            "                   all        658        340      0.241      0.329      0.161     0.0544\n",
            "\n",
            "      Epoch    GPU_mem   box_loss   cls_loss   dfl_loss  Instances       Size\n"
          ]
        },
        {
          "output_type": "stream",
          "name": "stderr",
          "text": [
            "      10/20      7.34G      2.129      2.011       1.58         96        512: 100%|██████████| 24/24 [00:37<00:00,  1.54s/it]\n",
            "                 Class     Images  Instances      Box(P          R      mAP50  mAP50-95): 100%|██████████| 3/3 [00:07<00:00,  2.64s/it]"
          ]
        },
        {
          "output_type": "stream",
          "name": "stdout",
          "text": [
            "                   all        658        340      0.294      0.282      0.177     0.0656\n"
          ]
        },
        {
          "output_type": "stream",
          "name": "stderr",
          "text": [
            "\n"
          ]
        },
        {
          "output_type": "stream",
          "name": "stdout",
          "text": [
            "Closing dataloader mosaic\n",
            "\u001b[34m\u001b[1malbumentations: \u001b[0mBlur(p=0.01, blur_limit=(3, 7)), MedianBlur(p=0.01, blur_limit=(3, 7)), ToGray(p=0.01, method='weighted_average', num_output_channels=3), CLAHE(p=0.01, clip_limit=(1.0, 4.0), tile_grid_size=(8, 8))\n",
            "\n",
            "      Epoch    GPU_mem   box_loss   cls_loss   dfl_loss  Instances       Size\n"
          ]
        },
        {
          "output_type": "stream",
          "name": "stderr",
          "text": [
            "      11/20         7G      2.074          2      1.606         68        512: 100%|██████████| 24/24 [00:45<00:00,  1.88s/it]\n",
            "                 Class     Images  Instances      Box(P          R      mAP50  mAP50-95): 100%|██████████| 3/3 [00:07<00:00,  2.63s/it]"
          ]
        },
        {
          "output_type": "stream",
          "name": "stdout",
          "text": [
            "                   all        658        340      0.253        0.3      0.168     0.0532\n"
          ]
        },
        {
          "output_type": "stream",
          "name": "stderr",
          "text": [
            "\n"
          ]
        },
        {
          "output_type": "stream",
          "name": "stdout",
          "text": [
            "\n",
            "      Epoch    GPU_mem   box_loss   cls_loss   dfl_loss  Instances       Size\n"
          ]
        },
        {
          "output_type": "stream",
          "name": "stderr",
          "text": [
            "      12/20         7G       2.07      1.944      1.605         64        512: 100%|██████████| 24/24 [00:35<00:00,  1.50s/it]\n",
            "                 Class     Images  Instances      Box(P          R      mAP50  mAP50-95): 100%|██████████| 3/3 [00:07<00:00,  2.44s/it]"
          ]
        },
        {
          "output_type": "stream",
          "name": "stdout",
          "text": [
            "                   all        658        340      0.262      0.326      0.191     0.0631\n"
          ]
        },
        {
          "output_type": "stream",
          "name": "stderr",
          "text": [
            "\n"
          ]
        },
        {
          "output_type": "stream",
          "name": "stdout",
          "text": [
            "\n",
            "      Epoch    GPU_mem   box_loss   cls_loss   dfl_loss  Instances       Size\n"
          ]
        },
        {
          "output_type": "stream",
          "name": "stderr",
          "text": [
            "      13/20      7.34G      2.027      1.885      1.581         63        512: 100%|██████████| 24/24 [00:37<00:00,  1.58s/it]\n",
            "                 Class     Images  Instances      Box(P          R      mAP50  mAP50-95): 100%|██████████| 3/3 [00:07<00:00,  2.65s/it]"
          ]
        },
        {
          "output_type": "stream",
          "name": "stdout",
          "text": [
            "                   all        658        340      0.281      0.297      0.189      0.072\n"
          ]
        },
        {
          "output_type": "stream",
          "name": "stderr",
          "text": [
            "\n"
          ]
        },
        {
          "output_type": "stream",
          "name": "stdout",
          "text": [
            "\n",
            "      Epoch    GPU_mem   box_loss   cls_loss   dfl_loss  Instances       Size\n"
          ]
        },
        {
          "output_type": "stream",
          "name": "stderr",
          "text": [
            "      14/20       7.7G      2.025      1.822      1.573         57        512: 100%|██████████| 24/24 [00:34<00:00,  1.45s/it]\n",
            "                 Class     Images  Instances      Box(P          R      mAP50  mAP50-95): 100%|██████████| 3/3 [00:07<00:00,  2.60s/it]"
          ]
        },
        {
          "output_type": "stream",
          "name": "stdout",
          "text": [
            "                   all        658        340      0.271      0.324      0.193     0.0681\n"
          ]
        },
        {
          "output_type": "stream",
          "name": "stderr",
          "text": [
            "\n"
          ]
        },
        {
          "output_type": "stream",
          "name": "stdout",
          "text": [
            "\n",
            "      Epoch    GPU_mem   box_loss   cls_loss   dfl_loss  Instances       Size\n"
          ]
        },
        {
          "output_type": "stream",
          "name": "stderr",
          "text": [
            "      15/20      7.14G      1.967      1.794      1.562         48        512: 100%|██████████| 24/24 [00:35<00:00,  1.46s/it]\n",
            "                 Class     Images  Instances      Box(P          R      mAP50  mAP50-95): 100%|██████████| 3/3 [00:08<00:00,  2.79s/it]"
          ]
        },
        {
          "output_type": "stream",
          "name": "stdout",
          "text": [
            "                   all        658        340      0.281      0.365      0.193       0.07\n"
          ]
        },
        {
          "output_type": "stream",
          "name": "stderr",
          "text": [
            "\n"
          ]
        },
        {
          "output_type": "stream",
          "name": "stdout",
          "text": [
            "\n",
            "      Epoch    GPU_mem   box_loss   cls_loss   dfl_loss  Instances       Size\n"
          ]
        },
        {
          "output_type": "stream",
          "name": "stderr",
          "text": [
            "      16/20       7.1G      1.932      1.708      1.534         86        512: 100%|██████████| 24/24 [00:35<00:00,  1.50s/it]\n",
            "                 Class     Images  Instances      Box(P          R      mAP50  mAP50-95): 100%|██████████| 3/3 [00:07<00:00,  2.48s/it]"
          ]
        },
        {
          "output_type": "stream",
          "name": "stdout",
          "text": [
            "                   all        658        340      0.274      0.347      0.194     0.0696\n"
          ]
        },
        {
          "output_type": "stream",
          "name": "stderr",
          "text": [
            "\n"
          ]
        },
        {
          "output_type": "stream",
          "name": "stdout",
          "text": [
            "\n",
            "      Epoch    GPU_mem   box_loss   cls_loss   dfl_loss  Instances       Size\n"
          ]
        },
        {
          "output_type": "stream",
          "name": "stderr",
          "text": [
            "      17/20      7.02G      1.913      1.674      1.513         73        512: 100%|██████████| 24/24 [00:36<00:00,  1.50s/it]\n",
            "                 Class     Images  Instances      Box(P          R      mAP50  mAP50-95): 100%|██████████| 3/3 [00:07<00:00,  2.48s/it]"
          ]
        },
        {
          "output_type": "stream",
          "name": "stdout",
          "text": [
            "                   all        658        340      0.232      0.362      0.188     0.0678\n"
          ]
        },
        {
          "output_type": "stream",
          "name": "stderr",
          "text": [
            "\n"
          ]
        },
        {
          "output_type": "stream",
          "name": "stdout",
          "text": [
            "\n",
            "      Epoch    GPU_mem   box_loss   cls_loss   dfl_loss  Instances       Size\n"
          ]
        },
        {
          "output_type": "stream",
          "name": "stderr",
          "text": [
            "      18/20         7G      1.896      1.642        1.5         68        512: 100%|██████████| 24/24 [00:36<00:00,  1.51s/it]\n",
            "                 Class     Images  Instances      Box(P          R      mAP50  mAP50-95): 100%|██████████| 3/3 [00:08<00:00,  2.67s/it]"
          ]
        },
        {
          "output_type": "stream",
          "name": "stdout",
          "text": [
            "                   all        658        340      0.271      0.326      0.203     0.0751\n"
          ]
        },
        {
          "output_type": "stream",
          "name": "stderr",
          "text": [
            "\n"
          ]
        },
        {
          "output_type": "stream",
          "name": "stdout",
          "text": [
            "\n",
            "      Epoch    GPU_mem   box_loss   cls_loss   dfl_loss  Instances       Size\n"
          ]
        },
        {
          "output_type": "stream",
          "name": "stderr",
          "text": [
            "      19/20      7.01G      1.859      1.594      1.472         77        512: 100%|██████████| 24/24 [00:34<00:00,  1.42s/it]\n",
            "                 Class     Images  Instances      Box(P          R      mAP50  mAP50-95): 100%|██████████| 3/3 [00:08<00:00,  2.91s/it]"
          ]
        },
        {
          "output_type": "stream",
          "name": "stdout",
          "text": [
            "                   all        658        340      0.238        0.4      0.206     0.0793\n"
          ]
        },
        {
          "output_type": "stream",
          "name": "stderr",
          "text": [
            "\n"
          ]
        },
        {
          "output_type": "stream",
          "name": "stdout",
          "text": [
            "\n",
            "      Epoch    GPU_mem   box_loss   cls_loss   dfl_loss  Instances       Size\n"
          ]
        },
        {
          "output_type": "stream",
          "name": "stderr",
          "text": [
            "      20/20       7.5G      1.841      1.548      1.471         73        512: 100%|██████████| 24/24 [00:34<00:00,  1.46s/it]\n",
            "                 Class     Images  Instances      Box(P          R      mAP50  mAP50-95): 100%|██████████| 3/3 [00:08<00:00,  2.76s/it]"
          ]
        },
        {
          "output_type": "stream",
          "name": "stdout",
          "text": [
            "                   all        658        340      0.279      0.341      0.207     0.0786\n"
          ]
        },
        {
          "output_type": "stream",
          "name": "stderr",
          "text": [
            "\n"
          ]
        },
        {
          "output_type": "stream",
          "name": "stdout",
          "text": [
            "\n",
            "20 epochs completed in 0.495 hours.\n",
            "Optimizer stripped from runs/detect/train2/weights/last.pt, 22.5MB\n",
            "Optimizer stripped from runs/detect/train2/weights/best.pt, 22.5MB\n",
            "\n",
            "Validating runs/detect/train2/weights/best.pt...\n",
            "Ultralytics 8.3.165 🚀 Python-3.11.13 torch-2.6.0+cu124 CUDA:0 (Tesla T4, 15095MiB)\n",
            "Model summary (fused): 72 layers, 11,125,971 parameters, 0 gradients, 28.4 GFLOPs\n"
          ]
        },
        {
          "output_type": "stream",
          "name": "stderr",
          "text": [
            "                 Class     Images  Instances      Box(P          R      mAP50  mAP50-95): 100%|██████████| 3/3 [00:10<00:00,  3.50s/it]\n"
          ]
        },
        {
          "output_type": "stream",
          "name": "stdout",
          "text": [
            "                   all        658        340      0.239        0.4      0.206     0.0792\n",
            "Speed: 0.1ms preprocess, 3.2ms inference, 0.0ms loss, 7.7ms postprocess per image\n",
            "Results saved to \u001b[1mruns/detect/train2\u001b[0m\n"
          ]
        },
        {
          "output_type": "execute_result",
          "data": {
            "text/plain": [
              "ultralytics.utils.metrics.DetMetrics object with attributes:\n",
              "\n",
              "ap_class_index: array([0])\n",
              "box: ultralytics.utils.metrics.Metric object\n",
              "confusion_matrix: <ultralytics.utils.metrics.ConfusionMatrix object at 0x7972f2b6c190>\n",
              "curves: ['Precision-Recall(B)', 'F1-Confidence(B)', 'Precision-Confidence(B)', 'Recall-Confidence(B)']\n",
              "curves_results: [[array([          0,    0.001001,    0.002002,    0.003003,    0.004004,    0.005005,    0.006006,    0.007007,    0.008008,    0.009009,     0.01001,    0.011011,    0.012012,    0.013013,    0.014014,    0.015015,    0.016016,    0.017017,    0.018018,    0.019019,     0.02002,    0.021021,    0.022022,    0.023023,\n",
              "          0.024024,    0.025025,    0.026026,    0.027027,    0.028028,    0.029029,     0.03003,    0.031031,    0.032032,    0.033033,    0.034034,    0.035035,    0.036036,    0.037037,    0.038038,    0.039039,     0.04004,    0.041041,    0.042042,    0.043043,    0.044044,    0.045045,    0.046046,    0.047047,\n",
              "          0.048048,    0.049049,     0.05005,    0.051051,    0.052052,    0.053053,    0.054054,    0.055055,    0.056056,    0.057057,    0.058058,    0.059059,     0.06006,    0.061061,    0.062062,    0.063063,    0.064064,    0.065065,    0.066066,    0.067067,    0.068068,    0.069069,     0.07007,    0.071071,\n",
              "          0.072072,    0.073073,    0.074074,    0.075075,    0.076076,    0.077077,    0.078078,    0.079079,     0.08008,    0.081081,    0.082082,    0.083083,    0.084084,    0.085085,    0.086086,    0.087087,    0.088088,    0.089089,     0.09009,    0.091091,    0.092092,    0.093093,    0.094094,    0.095095,\n",
              "          0.096096,    0.097097,    0.098098,    0.099099,      0.1001,      0.1011,      0.1021,      0.1031,      0.1041,     0.10511,     0.10611,     0.10711,     0.10811,     0.10911,     0.11011,     0.11111,     0.11211,     0.11311,     0.11411,     0.11512,     0.11612,     0.11712,     0.11812,     0.11912,\n",
              "           0.12012,     0.12112,     0.12212,     0.12312,     0.12412,     0.12513,     0.12613,     0.12713,     0.12813,     0.12913,     0.13013,     0.13113,     0.13213,     0.13313,     0.13413,     0.13514,     0.13614,     0.13714,     0.13814,     0.13914,     0.14014,     0.14114,     0.14214,     0.14314,\n",
              "           0.14414,     0.14515,     0.14615,     0.14715,     0.14815,     0.14915,     0.15015,     0.15115,     0.15215,     0.15315,     0.15415,     0.15516,     0.15616,     0.15716,     0.15816,     0.15916,     0.16016,     0.16116,     0.16216,     0.16316,     0.16416,     0.16517,     0.16617,     0.16717,\n",
              "           0.16817,     0.16917,     0.17017,     0.17117,     0.17217,     0.17317,     0.17417,     0.17518,     0.17618,     0.17718,     0.17818,     0.17918,     0.18018,     0.18118,     0.18218,     0.18318,     0.18418,     0.18519,     0.18619,     0.18719,     0.18819,     0.18919,     0.19019,     0.19119,\n",
              "           0.19219,     0.19319,     0.19419,      0.1952,      0.1962,      0.1972,      0.1982,      0.1992,      0.2002,      0.2012,      0.2022,      0.2032,      0.2042,     0.20521,     0.20621,     0.20721,     0.20821,     0.20921,     0.21021,     0.21121,     0.21221,     0.21321,     0.21421,     0.21522,\n",
              "           0.21622,     0.21722,     0.21822,     0.21922,     0.22022,     0.22122,     0.22222,     0.22322,     0.22422,     0.22523,     0.22623,     0.22723,     0.22823,     0.22923,     0.23023,     0.23123,     0.23223,     0.23323,     0.23423,     0.23524,     0.23624,     0.23724,     0.23824,     0.23924,\n",
              "           0.24024,     0.24124,     0.24224,     0.24324,     0.24424,     0.24525,     0.24625,     0.24725,     0.24825,     0.24925,     0.25025,     0.25125,     0.25225,     0.25325,     0.25425,     0.25526,     0.25626,     0.25726,     0.25826,     0.25926,     0.26026,     0.26126,     0.26226,     0.26326,\n",
              "           0.26426,     0.26527,     0.26627,     0.26727,     0.26827,     0.26927,     0.27027,     0.27127,     0.27227,     0.27327,     0.27427,     0.27528,     0.27628,     0.27728,     0.27828,     0.27928,     0.28028,     0.28128,     0.28228,     0.28328,     0.28428,     0.28529,     0.28629,     0.28729,\n",
              "           0.28829,     0.28929,     0.29029,     0.29129,     0.29229,     0.29329,     0.29429,      0.2953,      0.2963,      0.2973,      0.2983,      0.2993,      0.3003,      0.3013,      0.3023,      0.3033,      0.3043,     0.30531,     0.30631,     0.30731,     0.30831,     0.30931,     0.31031,     0.31131,\n",
              "           0.31231,     0.31331,     0.31431,     0.31532,     0.31632,     0.31732,     0.31832,     0.31932,     0.32032,     0.32132,     0.32232,     0.32332,     0.32432,     0.32533,     0.32633,     0.32733,     0.32833,     0.32933,     0.33033,     0.33133,     0.33233,     0.33333,     0.33433,     0.33534,\n",
              "           0.33634,     0.33734,     0.33834,     0.33934,     0.34034,     0.34134,     0.34234,     0.34334,     0.34434,     0.34535,     0.34635,     0.34735,     0.34835,     0.34935,     0.35035,     0.35135,     0.35235,     0.35335,     0.35435,     0.35536,     0.35636,     0.35736,     0.35836,     0.35936,\n",
              "           0.36036,     0.36136,     0.36236,     0.36336,     0.36436,     0.36537,     0.36637,     0.36737,     0.36837,     0.36937,     0.37037,     0.37137,     0.37237,     0.37337,     0.37437,     0.37538,     0.37638,     0.37738,     0.37838,     0.37938,     0.38038,     0.38138,     0.38238,     0.38338,\n",
              "           0.38438,     0.38539,     0.38639,     0.38739,     0.38839,     0.38939,     0.39039,     0.39139,     0.39239,     0.39339,     0.39439,      0.3954,      0.3964,      0.3974,      0.3984,      0.3994,      0.4004,      0.4014,      0.4024,      0.4034,      0.4044,     0.40541,     0.40641,     0.40741,\n",
              "           0.40841,     0.40941,     0.41041,     0.41141,     0.41241,     0.41341,     0.41441,     0.41542,     0.41642,     0.41742,     0.41842,     0.41942,     0.42042,     0.42142,     0.42242,     0.42342,     0.42442,     0.42543,     0.42643,     0.42743,     0.42843,     0.42943,     0.43043,     0.43143,\n",
              "           0.43243,     0.43343,     0.43443,     0.43544,     0.43644,     0.43744,     0.43844,     0.43944,     0.44044,     0.44144,     0.44244,     0.44344,     0.44444,     0.44545,     0.44645,     0.44745,     0.44845,     0.44945,     0.45045,     0.45145,     0.45245,     0.45345,     0.45445,     0.45546,\n",
              "           0.45646,     0.45746,     0.45846,     0.45946,     0.46046,     0.46146,     0.46246,     0.46346,     0.46446,     0.46547,     0.46647,     0.46747,     0.46847,     0.46947,     0.47047,     0.47147,     0.47247,     0.47347,     0.47447,     0.47548,     0.47648,     0.47748,     0.47848,     0.47948,\n",
              "           0.48048,     0.48148,     0.48248,     0.48348,     0.48448,     0.48549,     0.48649,     0.48749,     0.48849,     0.48949,     0.49049,     0.49149,     0.49249,     0.49349,     0.49449,      0.4955,      0.4965,      0.4975,      0.4985,      0.4995,      0.5005,      0.5015,      0.5025,      0.5035,\n",
              "            0.5045,     0.50551,     0.50651,     0.50751,     0.50851,     0.50951,     0.51051,     0.51151,     0.51251,     0.51351,     0.51451,     0.51552,     0.51652,     0.51752,     0.51852,     0.51952,     0.52052,     0.52152,     0.52252,     0.52352,     0.52452,     0.52553,     0.52653,     0.52753,\n",
              "           0.52853,     0.52953,     0.53053,     0.53153,     0.53253,     0.53353,     0.53453,     0.53554,     0.53654,     0.53754,     0.53854,     0.53954,     0.54054,     0.54154,     0.54254,     0.54354,     0.54454,     0.54555,     0.54655,     0.54755,     0.54855,     0.54955,     0.55055,     0.55155,\n",
              "           0.55255,     0.55355,     0.55455,     0.55556,     0.55656,     0.55756,     0.55856,     0.55956,     0.56056,     0.56156,     0.56256,     0.56356,     0.56456,     0.56557,     0.56657,     0.56757,     0.56857,     0.56957,     0.57057,     0.57157,     0.57257,     0.57357,     0.57457,     0.57558,\n",
              "           0.57658,     0.57758,     0.57858,     0.57958,     0.58058,     0.58158,     0.58258,     0.58358,     0.58458,     0.58559,     0.58659,     0.58759,     0.58859,     0.58959,     0.59059,     0.59159,     0.59259,     0.59359,     0.59459,      0.5956,      0.5966,      0.5976,      0.5986,      0.5996,\n",
              "            0.6006,      0.6016,      0.6026,      0.6036,      0.6046,     0.60561,     0.60661,     0.60761,     0.60861,     0.60961,     0.61061,     0.61161,     0.61261,     0.61361,     0.61461,     0.61562,     0.61662,     0.61762,     0.61862,     0.61962,     0.62062,     0.62162,     0.62262,     0.62362,\n",
              "           0.62462,     0.62563,     0.62663,     0.62763,     0.62863,     0.62963,     0.63063,     0.63163,     0.63263,     0.63363,     0.63463,     0.63564,     0.63664,     0.63764,     0.63864,     0.63964,     0.64064,     0.64164,     0.64264,     0.64364,     0.64464,     0.64565,     0.64665,     0.64765,\n",
              "           0.64865,     0.64965,     0.65065,     0.65165,     0.65265,     0.65365,     0.65465,     0.65566,     0.65666,     0.65766,     0.65866,     0.65966,     0.66066,     0.66166,     0.66266,     0.66366,     0.66466,     0.66567,     0.66667,     0.66767,     0.66867,     0.66967,     0.67067,     0.67167,\n",
              "           0.67267,     0.67367,     0.67467,     0.67568,     0.67668,     0.67768,     0.67868,     0.67968,     0.68068,     0.68168,     0.68268,     0.68368,     0.68468,     0.68569,     0.68669,     0.68769,     0.68869,     0.68969,     0.69069,     0.69169,     0.69269,     0.69369,     0.69469,      0.6957,\n",
              "            0.6967,      0.6977,      0.6987,      0.6997,      0.7007,      0.7017,      0.7027,      0.7037,      0.7047,     0.70571,     0.70671,     0.70771,     0.70871,     0.70971,     0.71071,     0.71171,     0.71271,     0.71371,     0.71471,     0.71572,     0.71672,     0.71772,     0.71872,     0.71972,\n",
              "           0.72072,     0.72172,     0.72272,     0.72372,     0.72472,     0.72573,     0.72673,     0.72773,     0.72873,     0.72973,     0.73073,     0.73173,     0.73273,     0.73373,     0.73473,     0.73574,     0.73674,     0.73774,     0.73874,     0.73974,     0.74074,     0.74174,     0.74274,     0.74374,\n",
              "           0.74474,     0.74575,     0.74675,     0.74775,     0.74875,     0.74975,     0.75075,     0.75175,     0.75275,     0.75375,     0.75475,     0.75576,     0.75676,     0.75776,     0.75876,     0.75976,     0.76076,     0.76176,     0.76276,     0.76376,     0.76476,     0.76577,     0.76677,     0.76777,\n",
              "           0.76877,     0.76977,     0.77077,     0.77177,     0.77277,     0.77377,     0.77477,     0.77578,     0.77678,     0.77778,     0.77878,     0.77978,     0.78078,     0.78178,     0.78278,     0.78378,     0.78478,     0.78579,     0.78679,     0.78779,     0.78879,     0.78979,     0.79079,     0.79179,\n",
              "           0.79279,     0.79379,     0.79479,      0.7958,      0.7968,      0.7978,      0.7988,      0.7998,      0.8008,      0.8018,      0.8028,      0.8038,      0.8048,     0.80581,     0.80681,     0.80781,     0.80881,     0.80981,     0.81081,     0.81181,     0.81281,     0.81381,     0.81481,     0.81582,\n",
              "           0.81682,     0.81782,     0.81882,     0.81982,     0.82082,     0.82182,     0.82282,     0.82382,     0.82482,     0.82583,     0.82683,     0.82783,     0.82883,     0.82983,     0.83083,     0.83183,     0.83283,     0.83383,     0.83483,     0.83584,     0.83684,     0.83784,     0.83884,     0.83984,\n",
              "           0.84084,     0.84184,     0.84284,     0.84384,     0.84484,     0.84585,     0.84685,     0.84785,     0.84885,     0.84985,     0.85085,     0.85185,     0.85285,     0.85385,     0.85485,     0.85586,     0.85686,     0.85786,     0.85886,     0.85986,     0.86086,     0.86186,     0.86286,     0.86386,\n",
              "           0.86486,     0.86587,     0.86687,     0.86787,     0.86887,     0.86987,     0.87087,     0.87187,     0.87287,     0.87387,     0.87487,     0.87588,     0.87688,     0.87788,     0.87888,     0.87988,     0.88088,     0.88188,     0.88288,     0.88388,     0.88488,     0.88589,     0.88689,     0.88789,\n",
              "           0.88889,     0.88989,     0.89089,     0.89189,     0.89289,     0.89389,     0.89489,      0.8959,      0.8969,      0.8979,      0.8989,      0.8999,      0.9009,      0.9019,      0.9029,      0.9039,      0.9049,     0.90591,     0.90691,     0.90791,     0.90891,     0.90991,     0.91091,     0.91191,\n",
              "           0.91291,     0.91391,     0.91491,     0.91592,     0.91692,     0.91792,     0.91892,     0.91992,     0.92092,     0.92192,     0.92292,     0.92392,     0.92492,     0.92593,     0.92693,     0.92793,     0.92893,     0.92993,     0.93093,     0.93193,     0.93293,     0.93393,     0.93493,     0.93594,\n",
              "           0.93694,     0.93794,     0.93894,     0.93994,     0.94094,     0.94194,     0.94294,     0.94394,     0.94494,     0.94595,     0.94695,     0.94795,     0.94895,     0.94995,     0.95095,     0.95195,     0.95295,     0.95395,     0.95495,     0.95596,     0.95696,     0.95796,     0.95896,     0.95996,\n",
              "           0.96096,     0.96196,     0.96296,     0.96396,     0.96496,     0.96597,     0.96697,     0.96797,     0.96897,     0.96997,     0.97097,     0.97197,     0.97297,     0.97397,     0.97497,     0.97598,     0.97698,     0.97798,     0.97898,     0.97998,     0.98098,     0.98198,     0.98298,     0.98398,\n",
              "           0.98498,     0.98599,     0.98699,     0.98799,     0.98899,     0.98999,     0.99099,     0.99199,     0.99299,     0.99399,     0.99499,       0.996,       0.997,       0.998,       0.999,           1]), array([[    0.49315,     0.49315,     0.49315,     0.49315,     0.49315,     0.49315,     0.49315,     0.49315,     0.49315,     0.49315,     0.49315,     0.49315,     0.49315,     0.49315,     0.49315,     0.49315,     0.49315,     0.49315,     0.49315,     0.49315,     0.49315,     0.49315,     0.49315,\n",
              "            0.49315,     0.49315,     0.49315,     0.49315,     0.49315,     0.49315,     0.49315,     0.49315,     0.49315,     0.49315,     0.49315,     0.49315,     0.49315,     0.49315,     0.49315,     0.49315,     0.49315,     0.49315,     0.49315,     0.49315,     0.49315,     0.49315,     0.49315,\n",
              "            0.49315,     0.49315,     0.49315,     0.49315,     0.49315,     0.49315,     0.49315,     0.49315,     0.49315,     0.49315,     0.49315,     0.49315,     0.49315,     0.49315,     0.49315,     0.49315,     0.49315,     0.49315,     0.49315,     0.49315,     0.49315,     0.49315,     0.49315,\n",
              "            0.49315,     0.49315,     0.49315,     0.49315,     0.49315,     0.49315,     0.49315,     0.49315,     0.49315,     0.49315,     0.49315,     0.49315,     0.49315,     0.49315,     0.49315,     0.49315,     0.49315,     0.49315,     0.49315,     0.49315,     0.49315,     0.49315,     0.49315,\n",
              "            0.49315,     0.49315,     0.49315,     0.49315,     0.49315,     0.49315,     0.49315,     0.49315,     0.49315,     0.49315,     0.49315,     0.49315,     0.49315,     0.49315,      0.4875,      0.4875,      0.4875,      0.4875,      0.4875,      0.4875,      0.4875,      0.4875,      0.4875,\n",
              "            0.47191,     0.47191,     0.47191,     0.47191,     0.47191,     0.47191,     0.47191,     0.47191,     0.47191,     0.46392,     0.46392,     0.46392,     0.46392,     0.46392,     0.46392,     0.46392,     0.46392,     0.46392,     0.45098,     0.45098,     0.45098,     0.44737,     0.44737,\n",
              "            0.44737,     0.44737,     0.44737,     0.44737,     0.44737,     0.44737,     0.44737,     0.44737,     0.44737,     0.44737,     0.44737,     0.44737,     0.43802,     0.43802,     0.43802,     0.43802,     0.43802,     0.43802,      0.4375,      0.4375,      0.4375,      0.4375,      0.4375,\n",
              "             0.4375,      0.4375,      0.4375,      0.4375,     0.42537,     0.42537,     0.42537,     0.42143,     0.42143,     0.42143,     0.42143,     0.42143,     0.42143,      0.4094,      0.4094,      0.4094,      0.4094,      0.4094,      0.4094,      0.4026,      0.4026,      0.4026,     0.39873,\n",
              "            0.39873,     0.39873,     0.39024,     0.39024,     0.39024,     0.38596,     0.38596,     0.38596,     0.38596,     0.38596,     0.38462,     0.38462,     0.38462,     0.38462,     0.38462,     0.38462,     0.38462,     0.38462,     0.38462,     0.38462,     0.38462,     0.38462,     0.35681,\n",
              "            0.35681,     0.35681,     0.35681,     0.35681,     0.35681,     0.35681,     0.35681,     0.35681,     0.35681,     0.35681,     0.35681,     0.35681,     0.35681,     0.35681,     0.35681,     0.35681,     0.35681,     0.35294,     0.35294,     0.35294,     0.35294,     0.35294,     0.35294,\n",
              "            0.33761,     0.33761,     0.33761,      0.3374,      0.3374,      0.3374,      0.3374,      0.3374,      0.3374,      0.3374,      0.3374,      0.3374,      0.3374,      0.3374,     0.33462,     0.33462,     0.33462,     0.33462,     0.33462,     0.33462,     0.33462,     0.33462,     0.33462,\n",
              "            0.33462,     0.33462,     0.33462,     0.32959,     0.32959,     0.32959,     0.32601,     0.32601,     0.32601,     0.31034,     0.31034,     0.31034,     0.30435,     0.30435,     0.30435,     0.30363,     0.30363,     0.30363,     0.29712,     0.29712,     0.29712,     0.29688,     0.29688,\n",
              "            0.29688,     0.29688,     0.29688,     0.29688,     0.29305,     0.29305,     0.29305,     0.29305,     0.29305,     0.29305,     0.28125,     0.28125,     0.28125,     0.28125,     0.28125,     0.28011,     0.28011,     0.28011,     0.26835,     0.26835,     0.26835,     0.26835,     0.26835,\n",
              "            0.26835,     0.26835,     0.26835,     0.26835,     0.26835,     0.26835,     0.26835,     0.26835,     0.26835,     0.26835,     0.26835,     0.26835,     0.26835,      0.2675,      0.2675,      0.2675,      0.2657,      0.2657,      0.2657,      0.2657,      0.2657,      0.2657,      0.2657,\n",
              "             0.2657,      0.2657,     0.26526,     0.26526,     0.26526,     0.26526,     0.26526,     0.26526,     0.26526,     0.26526,     0.26526,     0.26389,     0.26389,     0.26136,     0.26136,     0.26136,     0.25625,     0.25625,     0.25625,     0.25625,     0.25625,     0.25625,     0.25625,\n",
              "            0.25625,     0.25625,     0.25625,     0.25625,     0.25625,     0.25625,     0.25625,     0.25625,     0.25625,     0.25625,     0.25625,     0.25625,     0.25625,     0.25625,     0.25625,     0.25625,     0.25625,     0.25514,     0.25514,     0.25514,     0.25407,     0.25407,     0.25407,\n",
              "            0.24359,     0.24359,     0.24359,     0.24359,     0.24359,     0.24359,     0.24359,     0.24359,     0.24359,     0.24359,     0.24359,     0.24359,     0.24359,     0.24359,     0.24359,     0.24359,     0.24359,     0.24359,     0.24359,     0.24359,     0.24359,     0.24359,     0.24359,\n",
              "            0.24281,     0.24281,     0.24281,     0.24281,     0.24281,     0.24281,     0.24071,     0.24071,     0.24071,     0.23339,     0.23339,     0.23339,     0.23077,     0.23077,     0.23077,     0.22927,     0.22927,     0.22927,     0.22927,     0.22927,     0.22927,     0.22927,     0.22927,\n",
              "            0.22927,     0.22793,     0.22793,     0.22793,     0.22484,     0.22484,     0.22484,     0.22154,     0.22154,     0.22154,     0.22054,     0.22054,     0.22054,     0.22054,     0.22054,     0.21689,     0.21689,     0.21689,     0.21689,     0.21689,     0.21689,     0.21689,     0.21689,\n",
              "            0.21689,     0.21585,     0.21585,     0.21585,     0.21585,     0.21585,     0.21585,     0.21585,     0.21585,     0.21585,     0.21585,     0.21585,     0.21585,     0.21585,     0.21585,     0.21585,     0.21585,     0.21585,     0.21585,     0.21585,     0.21585,     0.21585,     0.21585,\n",
              "            0.21585,     0.21585,     0.21585,     0.21585,     0.21585,     0.21457,     0.21457,     0.21457,     0.21129,     0.21129,     0.21129,     0.21129,     0.21129,     0.21129,     0.20663,     0.20663,     0.20625,     0.20625,     0.20625,     0.20625,     0.20625,     0.20625,     0.20625,\n",
              "            0.20625,     0.20625,     0.20545,     0.20545,     0.20545,     0.20416,     0.20416,     0.20416,     0.20364,     0.20364,     0.20364,     0.19836,     0.19836,     0.19836,     0.18743,     0.18743,     0.18743,     0.18736,     0.18736,     0.18736,     0.18736,     0.18736,     0.18736,\n",
              "             0.1857,      0.1857,      0.1857,      0.1857,      0.1857,      0.1857,     0.17803,     0.17803,     0.17803,     0.17682,     0.17682,     0.17682,     0.17682,     0.17682,     0.17682,     0.17417,     0.17417,     0.17417,     0.17195,     0.17195,     0.17127,     0.17127,     0.17127,\n",
              "            0.16995,     0.16995,     0.16995,       0.165,       0.165,       0.165,     0.16447,     0.16447,     0.16447,     0.16447,     0.16447,     0.16447,     0.16447,     0.16447,     0.16447,     0.16447,     0.16447,     0.16447,     0.16447,     0.16447,     0.16447,     0.16348,     0.16348,\n",
              "            0.16348,     0.16058,     0.16058,     0.16058,     0.15993,     0.15993,     0.15993,     0.15947,     0.15947,     0.15947,     0.15947,     0.15947,     0.15947,     0.15811,     0.15811,     0.15811,     0.15811,     0.15811,     0.15811,     0.15764,     0.15764,     0.15008,     0.15008,\n",
              "            0.15008,     0.14507,     0.14507,     0.14507,     0.14174,     0.14174,     0.14174,     0.14174,     0.14174,     0.14174,     0.14164,     0.14164,     0.14164,     0.14018,     0.14018,     0.14018,     0.14018,     0.14018,     0.14018,     0.13597,     0.13597,     0.13597,     0.13483,\n",
              "            0.13483,     0.13483,     0.13303,     0.13303,     0.13303,     0.12972,     0.12972,     0.12972,     0.12699,     0.12699,     0.12699,     0.12545,     0.12545,     0.12545,     0.12456,     0.12456,     0.12456,     0.12456,     0.12456,     0.12456,     0.12232,     0.12232,     0.11732,\n",
              "            0.11732,     0.11732,     0.10687,     0.10687,     0.10687,     0.10615,     0.10615,     0.10615,      0.1033,      0.1033,      0.1033,      0.1033,      0.1033,      0.1033,     0.10284,     0.10284,     0.10284,     0.10144,     0.10144,     0.10144,     0.10078,     0.10078,     0.10078,\n",
              "           0.099728,    0.099728,    0.099728,    0.099281,    0.099281,    0.099281,    0.098896,    0.098896,    0.098896,    0.098896,    0.098896,    0.098896,    0.098896,    0.098896,    0.098896,    0.095137,    0.095137,    0.095137,    0.095038,    0.095038,    0.095038,    0.093596,    0.093596,\n",
              "           0.093596,    0.093596,    0.093596,    0.092413,    0.092413,    0.092413,    0.088812,    0.088812,    0.088812,    0.088812,    0.088812,    0.088812,    0.088381,    0.088381,    0.088381,    0.086328,    0.086328,    0.086328,    0.080773,    0.080773,    0.080773,    0.074039,    0.074039,\n",
              "           0.074039,    0.072017,    0.072017,    0.072017,    0.069665,    0.069665,    0.069665,    0.069267,    0.069267,    0.069267,    0.068876,    0.068876,    0.068876,    0.068552,    0.068552,    0.068552,    0.061105,    0.061105,    0.061105,     0.05997,     0.05997,     0.05997,     0.05997,\n",
              "            0.05997,    0.059966,    0.059966,    0.059966,    0.058612,    0.058612,    0.058612,    0.056682,    0.056682,    0.056682,    0.055183,    0.055183,    0.055183,    0.050966,    0.050966,    0.050966,    0.050692,    0.050692,    0.050692,     0.05002,     0.05002,     0.05002,    0.049458,\n",
              "           0.049458,    0.049458,     0.04878,     0.04878,     0.04878,    0.048467,    0.048467,    0.048467,    0.048399,    0.048399,    0.048399,    0.046935,    0.046935,    0.046935,     0.04619,     0.04619,     0.04619,     0.04619,     0.04619,     0.04619,    0.045359,    0.045359,    0.045359,\n",
              "           0.043405,    0.043405,    0.043405,    0.043384,    0.043384,     0.03951,     0.03951,     0.03951,    0.039298,    0.039298,    0.039298,    0.038894,    0.038894,    0.038894,    0.035977,    0.035977,    0.035977,    0.034291,    0.034291,    0.034291,    0.031034,    0.031034,    0.031034,\n",
              "           0.031034,    0.031034,    0.031034,    0.031034,    0.031034,    0.031034,    0.031034,    0.031034,    0.031034,     0.03034,     0.03034,     0.03034,    0.029922,    0.029922,    0.029922,    0.029703,    0.029703,    0.029703,    0.029703,    0.029703,    0.029703,    0.028062,    0.028062,\n",
              "           0.028062,    0.027371,    0.027371,    0.027371,    0.026213,    0.026213,    0.025606,    0.025606,    0.025606,    0.025606,    0.025606,    0.025606,    0.024752,    0.024752,    0.024752,    0.024646,    0.024646,    0.024646,    0.024559,    0.024559,    0.024559,    0.023004,    0.023004,\n",
              "           0.023004,    0.022042,    0.022042,    0.022042,    0.021708,    0.021708,    0.021708,    0.021708,    0.021708,    0.021708,    0.020567,    0.020567,    0.020567,    0.018392,    0.018392,    0.018392,    0.018012,    0.018012,    0.018012,    0.017637,    0.017637,    0.017637,    0.016117,\n",
              "           0.016117,    0.016117,    0.015244,    0.015244,    0.015244,    0.015201,    0.015201,    0.014103,    0.014103,    0.014103,    0.013509,    0.013509,    0.013509,    0.013509,    0.013509,    0.013509,    0.013509,    0.013509,    0.013509,    0.013401,    0.013401,    0.013401,    0.011957,\n",
              "           0.011957,    0.011957,    0.011723,    0.011627,    0.011532,    0.011437,    0.011342,    0.011246,    0.011151,    0.011056,     0.01096,    0.010865,     0.01077,    0.010674,    0.010579,    0.010484,    0.010388,    0.010293,    0.010198,    0.010103,    0.010007,   0.0099119,   0.0098166,\n",
              "          0.0097213,    0.009626,   0.0095307,   0.0094354,   0.0093401,   0.0092448,   0.0091495,   0.0090542,   0.0089589,   0.0088636,   0.0087683,   0.0086729,   0.0085776,   0.0084823,    0.008387,   0.0082917,   0.0081964,   0.0081011,   0.0080058,   0.0079105,   0.0078152,   0.0077199,   0.0076246,\n",
              "          0.0075293,    0.007434,   0.0073386,   0.0072433,    0.007148,   0.0070527,   0.0069574,   0.0068621,   0.0067668,   0.0066715,   0.0065762,   0.0064809,   0.0063856,   0.0062903,    0.006195,   0.0060997,   0.0060043,    0.005909,   0.0058137,   0.0057184,   0.0056231,   0.0055278,   0.0054325,\n",
              "          0.0053372,   0.0052419,   0.0051466,   0.0050513,    0.004956,   0.0048607,   0.0047654,     0.00467,   0.0045747,   0.0044794,   0.0043841,   0.0042888,   0.0041935,   0.0040982,   0.0040029,   0.0039076,   0.0038123,    0.003717,   0.0036217,   0.0035264,   0.0034311,   0.0033357,   0.0032404,\n",
              "          0.0031451,   0.0030498,   0.0029545,   0.0028592,   0.0027639,   0.0026686,   0.0025733,    0.002478,   0.0023827,   0.0022874,   0.0021921,   0.0020968,   0.0020014,   0.0019061,   0.0018108,   0.0017155,   0.0016202,   0.0015249,   0.0014296,   0.0013343,    0.001239,   0.0011437,   0.0010484,\n",
              "         0.00095307,  0.00085776,  0.00076246,  0.00066715,  0.00057184,  0.00047654,  0.00038123,  0.00028592,  0.00019061,  9.5307e-05,           0]]), 'Recall', 'Precision'], [array([          0,    0.001001,    0.002002,    0.003003,    0.004004,    0.005005,    0.006006,    0.007007,    0.008008,    0.009009,     0.01001,    0.011011,    0.012012,    0.013013,    0.014014,    0.015015,    0.016016,    0.017017,    0.018018,    0.019019,     0.02002,    0.021021,    0.022022,    0.023023,\n",
              "          0.024024,    0.025025,    0.026026,    0.027027,    0.028028,    0.029029,     0.03003,    0.031031,    0.032032,    0.033033,    0.034034,    0.035035,    0.036036,    0.037037,    0.038038,    0.039039,     0.04004,    0.041041,    0.042042,    0.043043,    0.044044,    0.045045,    0.046046,    0.047047,\n",
              "          0.048048,    0.049049,     0.05005,    0.051051,    0.052052,    0.053053,    0.054054,    0.055055,    0.056056,    0.057057,    0.058058,    0.059059,     0.06006,    0.061061,    0.062062,    0.063063,    0.064064,    0.065065,    0.066066,    0.067067,    0.068068,    0.069069,     0.07007,    0.071071,\n",
              "          0.072072,    0.073073,    0.074074,    0.075075,    0.076076,    0.077077,    0.078078,    0.079079,     0.08008,    0.081081,    0.082082,    0.083083,    0.084084,    0.085085,    0.086086,    0.087087,    0.088088,    0.089089,     0.09009,    0.091091,    0.092092,    0.093093,    0.094094,    0.095095,\n",
              "          0.096096,    0.097097,    0.098098,    0.099099,      0.1001,      0.1011,      0.1021,      0.1031,      0.1041,     0.10511,     0.10611,     0.10711,     0.10811,     0.10911,     0.11011,     0.11111,     0.11211,     0.11311,     0.11411,     0.11512,     0.11612,     0.11712,     0.11812,     0.11912,\n",
              "           0.12012,     0.12112,     0.12212,     0.12312,     0.12412,     0.12513,     0.12613,     0.12713,     0.12813,     0.12913,     0.13013,     0.13113,     0.13213,     0.13313,     0.13413,     0.13514,     0.13614,     0.13714,     0.13814,     0.13914,     0.14014,     0.14114,     0.14214,     0.14314,\n",
              "           0.14414,     0.14515,     0.14615,     0.14715,     0.14815,     0.14915,     0.15015,     0.15115,     0.15215,     0.15315,     0.15415,     0.15516,     0.15616,     0.15716,     0.15816,     0.15916,     0.16016,     0.16116,     0.16216,     0.16316,     0.16416,     0.16517,     0.16617,     0.16717,\n",
              "           0.16817,     0.16917,     0.17017,     0.17117,     0.17217,     0.17317,     0.17417,     0.17518,     0.17618,     0.17718,     0.17818,     0.17918,     0.18018,     0.18118,     0.18218,     0.18318,     0.18418,     0.18519,     0.18619,     0.18719,     0.18819,     0.18919,     0.19019,     0.19119,\n",
              "           0.19219,     0.19319,     0.19419,      0.1952,      0.1962,      0.1972,      0.1982,      0.1992,      0.2002,      0.2012,      0.2022,      0.2032,      0.2042,     0.20521,     0.20621,     0.20721,     0.20821,     0.20921,     0.21021,     0.21121,     0.21221,     0.21321,     0.21421,     0.21522,\n",
              "           0.21622,     0.21722,     0.21822,     0.21922,     0.22022,     0.22122,     0.22222,     0.22322,     0.22422,     0.22523,     0.22623,     0.22723,     0.22823,     0.22923,     0.23023,     0.23123,     0.23223,     0.23323,     0.23423,     0.23524,     0.23624,     0.23724,     0.23824,     0.23924,\n",
              "           0.24024,     0.24124,     0.24224,     0.24324,     0.24424,     0.24525,     0.24625,     0.24725,     0.24825,     0.24925,     0.25025,     0.25125,     0.25225,     0.25325,     0.25425,     0.25526,     0.25626,     0.25726,     0.25826,     0.25926,     0.26026,     0.26126,     0.26226,     0.26326,\n",
              "           0.26426,     0.26527,     0.26627,     0.26727,     0.26827,     0.26927,     0.27027,     0.27127,     0.27227,     0.27327,     0.27427,     0.27528,     0.27628,     0.27728,     0.27828,     0.27928,     0.28028,     0.28128,     0.28228,     0.28328,     0.28428,     0.28529,     0.28629,     0.28729,\n",
              "           0.28829,     0.28929,     0.29029,     0.29129,     0.29229,     0.29329,     0.29429,      0.2953,      0.2963,      0.2973,      0.2983,      0.2993,      0.3003,      0.3013,      0.3023,      0.3033,      0.3043,     0.30531,     0.30631,     0.30731,     0.30831,     0.30931,     0.31031,     0.31131,\n",
              "           0.31231,     0.31331,     0.31431,     0.31532,     0.31632,     0.31732,     0.31832,     0.31932,     0.32032,     0.32132,     0.32232,     0.32332,     0.32432,     0.32533,     0.32633,     0.32733,     0.32833,     0.32933,     0.33033,     0.33133,     0.33233,     0.33333,     0.33433,     0.33534,\n",
              "           0.33634,     0.33734,     0.33834,     0.33934,     0.34034,     0.34134,     0.34234,     0.34334,     0.34434,     0.34535,     0.34635,     0.34735,     0.34835,     0.34935,     0.35035,     0.35135,     0.35235,     0.35335,     0.35435,     0.35536,     0.35636,     0.35736,     0.35836,     0.35936,\n",
              "           0.36036,     0.36136,     0.36236,     0.36336,     0.36436,     0.36537,     0.36637,     0.36737,     0.36837,     0.36937,     0.37037,     0.37137,     0.37237,     0.37337,     0.37437,     0.37538,     0.37638,     0.37738,     0.37838,     0.37938,     0.38038,     0.38138,     0.38238,     0.38338,\n",
              "           0.38438,     0.38539,     0.38639,     0.38739,     0.38839,     0.38939,     0.39039,     0.39139,     0.39239,     0.39339,     0.39439,      0.3954,      0.3964,      0.3974,      0.3984,      0.3994,      0.4004,      0.4014,      0.4024,      0.4034,      0.4044,     0.40541,     0.40641,     0.40741,\n",
              "           0.40841,     0.40941,     0.41041,     0.41141,     0.41241,     0.41341,     0.41441,     0.41542,     0.41642,     0.41742,     0.41842,     0.41942,     0.42042,     0.42142,     0.42242,     0.42342,     0.42442,     0.42543,     0.42643,     0.42743,     0.42843,     0.42943,     0.43043,     0.43143,\n",
              "           0.43243,     0.43343,     0.43443,     0.43544,     0.43644,     0.43744,     0.43844,     0.43944,     0.44044,     0.44144,     0.44244,     0.44344,     0.44444,     0.44545,     0.44645,     0.44745,     0.44845,     0.44945,     0.45045,     0.45145,     0.45245,     0.45345,     0.45445,     0.45546,\n",
              "           0.45646,     0.45746,     0.45846,     0.45946,     0.46046,     0.46146,     0.46246,     0.46346,     0.46446,     0.46547,     0.46647,     0.46747,     0.46847,     0.46947,     0.47047,     0.47147,     0.47247,     0.47347,     0.47447,     0.47548,     0.47648,     0.47748,     0.47848,     0.47948,\n",
              "           0.48048,     0.48148,     0.48248,     0.48348,     0.48448,     0.48549,     0.48649,     0.48749,     0.48849,     0.48949,     0.49049,     0.49149,     0.49249,     0.49349,     0.49449,      0.4955,      0.4965,      0.4975,      0.4985,      0.4995,      0.5005,      0.5015,      0.5025,      0.5035,\n",
              "            0.5045,     0.50551,     0.50651,     0.50751,     0.50851,     0.50951,     0.51051,     0.51151,     0.51251,     0.51351,     0.51451,     0.51552,     0.51652,     0.51752,     0.51852,     0.51952,     0.52052,     0.52152,     0.52252,     0.52352,     0.52452,     0.52553,     0.52653,     0.52753,\n",
              "           0.52853,     0.52953,     0.53053,     0.53153,     0.53253,     0.53353,     0.53453,     0.53554,     0.53654,     0.53754,     0.53854,     0.53954,     0.54054,     0.54154,     0.54254,     0.54354,     0.54454,     0.54555,     0.54655,     0.54755,     0.54855,     0.54955,     0.55055,     0.55155,\n",
              "           0.55255,     0.55355,     0.55455,     0.55556,     0.55656,     0.55756,     0.55856,     0.55956,     0.56056,     0.56156,     0.56256,     0.56356,     0.56456,     0.56557,     0.56657,     0.56757,     0.56857,     0.56957,     0.57057,     0.57157,     0.57257,     0.57357,     0.57457,     0.57558,\n",
              "           0.57658,     0.57758,     0.57858,     0.57958,     0.58058,     0.58158,     0.58258,     0.58358,     0.58458,     0.58559,     0.58659,     0.58759,     0.58859,     0.58959,     0.59059,     0.59159,     0.59259,     0.59359,     0.59459,      0.5956,      0.5966,      0.5976,      0.5986,      0.5996,\n",
              "            0.6006,      0.6016,      0.6026,      0.6036,      0.6046,     0.60561,     0.60661,     0.60761,     0.60861,     0.60961,     0.61061,     0.61161,     0.61261,     0.61361,     0.61461,     0.61562,     0.61662,     0.61762,     0.61862,     0.61962,     0.62062,     0.62162,     0.62262,     0.62362,\n",
              "           0.62462,     0.62563,     0.62663,     0.62763,     0.62863,     0.62963,     0.63063,     0.63163,     0.63263,     0.63363,     0.63463,     0.63564,     0.63664,     0.63764,     0.63864,     0.63964,     0.64064,     0.64164,     0.64264,     0.64364,     0.64464,     0.64565,     0.64665,     0.64765,\n",
              "           0.64865,     0.64965,     0.65065,     0.65165,     0.65265,     0.65365,     0.65465,     0.65566,     0.65666,     0.65766,     0.65866,     0.65966,     0.66066,     0.66166,     0.66266,     0.66366,     0.66466,     0.66567,     0.66667,     0.66767,     0.66867,     0.66967,     0.67067,     0.67167,\n",
              "           0.67267,     0.67367,     0.67467,     0.67568,     0.67668,     0.67768,     0.67868,     0.67968,     0.68068,     0.68168,     0.68268,     0.68368,     0.68468,     0.68569,     0.68669,     0.68769,     0.68869,     0.68969,     0.69069,     0.69169,     0.69269,     0.69369,     0.69469,      0.6957,\n",
              "            0.6967,      0.6977,      0.6987,      0.6997,      0.7007,      0.7017,      0.7027,      0.7037,      0.7047,     0.70571,     0.70671,     0.70771,     0.70871,     0.70971,     0.71071,     0.71171,     0.71271,     0.71371,     0.71471,     0.71572,     0.71672,     0.71772,     0.71872,     0.71972,\n",
              "           0.72072,     0.72172,     0.72272,     0.72372,     0.72472,     0.72573,     0.72673,     0.72773,     0.72873,     0.72973,     0.73073,     0.73173,     0.73273,     0.73373,     0.73473,     0.73574,     0.73674,     0.73774,     0.73874,     0.73974,     0.74074,     0.74174,     0.74274,     0.74374,\n",
              "           0.74474,     0.74575,     0.74675,     0.74775,     0.74875,     0.74975,     0.75075,     0.75175,     0.75275,     0.75375,     0.75475,     0.75576,     0.75676,     0.75776,     0.75876,     0.75976,     0.76076,     0.76176,     0.76276,     0.76376,     0.76476,     0.76577,     0.76677,     0.76777,\n",
              "           0.76877,     0.76977,     0.77077,     0.77177,     0.77277,     0.77377,     0.77477,     0.77578,     0.77678,     0.77778,     0.77878,     0.77978,     0.78078,     0.78178,     0.78278,     0.78378,     0.78478,     0.78579,     0.78679,     0.78779,     0.78879,     0.78979,     0.79079,     0.79179,\n",
              "           0.79279,     0.79379,     0.79479,      0.7958,      0.7968,      0.7978,      0.7988,      0.7998,      0.8008,      0.8018,      0.8028,      0.8038,      0.8048,     0.80581,     0.80681,     0.80781,     0.80881,     0.80981,     0.81081,     0.81181,     0.81281,     0.81381,     0.81481,     0.81582,\n",
              "           0.81682,     0.81782,     0.81882,     0.81982,     0.82082,     0.82182,     0.82282,     0.82382,     0.82482,     0.82583,     0.82683,     0.82783,     0.82883,     0.82983,     0.83083,     0.83183,     0.83283,     0.83383,     0.83483,     0.83584,     0.83684,     0.83784,     0.83884,     0.83984,\n",
              "           0.84084,     0.84184,     0.84284,     0.84384,     0.84484,     0.84585,     0.84685,     0.84785,     0.84885,     0.84985,     0.85085,     0.85185,     0.85285,     0.85385,     0.85485,     0.85586,     0.85686,     0.85786,     0.85886,     0.85986,     0.86086,     0.86186,     0.86286,     0.86386,\n",
              "           0.86486,     0.86587,     0.86687,     0.86787,     0.86887,     0.86987,     0.87087,     0.87187,     0.87287,     0.87387,     0.87487,     0.87588,     0.87688,     0.87788,     0.87888,     0.87988,     0.88088,     0.88188,     0.88288,     0.88388,     0.88488,     0.88589,     0.88689,     0.88789,\n",
              "           0.88889,     0.88989,     0.89089,     0.89189,     0.89289,     0.89389,     0.89489,      0.8959,      0.8969,      0.8979,      0.8989,      0.8999,      0.9009,      0.9019,      0.9029,      0.9039,      0.9049,     0.90591,     0.90691,     0.90791,     0.90891,     0.90991,     0.91091,     0.91191,\n",
              "           0.91291,     0.91391,     0.91491,     0.91592,     0.91692,     0.91792,     0.91892,     0.91992,     0.92092,     0.92192,     0.92292,     0.92392,     0.92492,     0.92593,     0.92693,     0.92793,     0.92893,     0.92993,     0.93093,     0.93193,     0.93293,     0.93393,     0.93493,     0.93594,\n",
              "           0.93694,     0.93794,     0.93894,     0.93994,     0.94094,     0.94194,     0.94294,     0.94394,     0.94494,     0.94595,     0.94695,     0.94795,     0.94895,     0.94995,     0.95095,     0.95195,     0.95295,     0.95395,     0.95495,     0.95596,     0.95696,     0.95796,     0.95896,     0.95996,\n",
              "           0.96096,     0.96196,     0.96296,     0.96396,     0.96496,     0.96597,     0.96697,     0.96797,     0.96897,     0.96997,     0.97097,     0.97197,     0.97297,     0.97397,     0.97497,     0.97598,     0.97698,     0.97798,     0.97898,     0.97998,     0.98098,     0.98198,     0.98298,     0.98398,\n",
              "           0.98498,     0.98599,     0.98699,     0.98799,     0.98899,     0.98999,     0.99099,     0.99199,     0.99299,     0.99399,     0.99499,       0.996,       0.997,       0.998,       0.999,           1]), array([[   0.023211,    0.023211,    0.032818,    0.040927,     0.04779,    0.054002,    0.059369,    0.064218,    0.069633,    0.075008,    0.079742,    0.084363,     0.08818,    0.091636,    0.095039,    0.099097,     0.10306,     0.10709,     0.10989,     0.11348,     0.11719,     0.12073,     0.12405,\n",
              "            0.12636,     0.12983,     0.13279,     0.13602,     0.13951,     0.14274,     0.14621,     0.14983,      0.1533,     0.15627,     0.15811,     0.16093,     0.16273,     0.16421,     0.16604,     0.16913,     0.17146,      0.1721,     0.17364,     0.17541,     0.17757,     0.17947,     0.18114,\n",
              "            0.18223,     0.18457,     0.18704,     0.18946,     0.19121,     0.19324,      0.1965,     0.19807,     0.20117,      0.2036,     0.20519,      0.2073,     0.20773,      0.2086,     0.20986,     0.21179,     0.21286,     0.21603,     0.21839,     0.22003,     0.22184,     0.22444,     0.22523,\n",
              "            0.22616,     0.22795,     0.22763,     0.22919,     0.23164,     0.23248,      0.2345,     0.23727,     0.23765,     0.24031,     0.24154,      0.2433,     0.24577,     0.24697,     0.24704,      0.2486,     0.24804,     0.24844,     0.24975,     0.25208,     0.25301,     0.25187,     0.24968,\n",
              "            0.25072,     0.25146,     0.25426,     0.25595,     0.25751,     0.25772,      0.2583,     0.25889,     0.26065,     0.26311,     0.26207,     0.26399,     0.26382,     0.26538,     0.26655,     0.26752,     0.27013,     0.27206,     0.27044,     0.27167,     0.27232,     0.27176,     0.27157,\n",
              "            0.27246,       0.274,     0.27478,     0.27712,     0.27953,     0.28174,       0.283,     0.28282,     0.28414,     0.28542,     0.28743,     0.28704,      0.2874,     0.28901,     0.28754,      0.2861,     0.28769,     0.28884,     0.28941,     0.29125,     0.29189,     0.29069,     0.29204,\n",
              "            0.29374,      0.2941,     0.29327,     0.29359,     0.29344,     0.29188,     0.28949,     0.28951,     0.28873,     0.28965,     0.28878,     0.28849,     0.28864,     0.28913,     0.28858,     0.28715,     0.28658,      0.2869,     0.28798,     0.28913,     0.29023,     0.29057,     0.28996,\n",
              "            0.29029,     0.28936,     0.29048,     0.29135,     0.29134,     0.29371,     0.29415,     0.29367,     0.29452,     0.29474,     0.29365,      0.2926,     0.29224,     0.29247,     0.29368,     0.29395,     0.29301,     0.29483,     0.29417,     0.29572,     0.29625,     0.29703,      0.2977,\n",
              "            0.29889,     0.30014,     0.29882,     0.30003,     0.30091,     0.29833,     0.29838,     0.29701,     0.29495,      0.2955,     0.29444,     0.29567,     0.29231,     0.29089,     0.29137,     0.29226,     0.29288,     0.29379,     0.29505,     0.29731,     0.29776,     0.29847,     0.29971,\n",
              "            0.29998,     0.29918,     0.29945,     0.29972,     0.29891,     0.29936,     0.29849,     0.29423,     0.29513,     0.29319,     0.29204,     0.29085,     0.29175,      0.2909,     0.29182,      0.2931,     0.29428,     0.29461,     0.29315,     0.29333,     0.29408,      0.2951,     0.29449,\n",
              "            0.29279,     0.29075,     0.28944,     0.29048,     0.29092,     0.28996,     0.28905,     0.28612,     0.28742,     0.28834,     0.28857,     0.28876,     0.28747,     0.28822,     0.28681,     0.28265,     0.28318,      0.2841,     0.28249,     0.28247,     0.27855,     0.27882,     0.27962,\n",
              "            0.28094,     0.28148,     0.28186,     0.28257,      0.2834,     0.28368,     0.28415,     0.28443,     0.28508,     0.28534,      0.2858,     0.28608,     0.28661,      0.2847,     0.28527,     0.28561,      0.2837,     0.28212,     0.28281,     0.28309,     0.28345,     0.28396,     0.28621,\n",
              "            0.28679,     0.28727,     0.28824,     0.28706,     0.28736,     0.28662,     0.28557,     0.28548,     0.28641,     0.28694,     0.28753,     0.28321,     0.28346,     0.28439,     0.28221,     0.28281,     0.28322,     0.28347,     0.28489,     0.28544,     0.28417,     0.28253,       0.283,\n",
              "            0.28315,     0.28329,     0.28343,     0.28472,     0.28551,     0.28474,     0.28322,     0.28356,     0.28374,     0.28531,     0.28558,     0.28585,     0.28612,     0.28852,     0.28901,     0.29007,     0.28895,     0.28776,     0.28803,     0.28916,     0.28934,     0.28898,     0.28738,\n",
              "            0.28796,     0.28831,     0.28909,      0.2896,     0.28933,     0.28766,     0.28272,     0.28282,     0.28088,     0.28116,     0.28155,     0.28211,     0.28319,     0.28068,     0.27471,     0.27292,     0.27309,     0.27327,      0.2736,     0.27465,     0.27517,      0.2737,     0.27388,\n",
              "            0.27406,     0.27436,     0.27541,     0.27623,     0.27642,     0.27758,     0.27784,     0.27504,     0.27498,     0.27339,     0.27265,     0.27305,      0.2733,     0.27358,     0.27387,     0.27485,     0.27302,     0.27189,     0.26964,     0.26982,     0.27001,     0.26888,     0.26703,\n",
              "            0.26387,     0.26243,     0.26115,     0.26213,     0.26148,     0.25947,       0.261,     0.26199,     0.26328,     0.26346,     0.26365,     0.26464,     0.26566,      0.2667,     0.26681,     0.26692,     0.26703,     0.26714,     0.26803,     0.26744,     0.26631,     0.26517,     0.26201,\n",
              "            0.25869,     0.25883,     0.25897,      0.2591,     0.25938,     0.25881,     0.25703,     0.25737,     0.25751,     0.25765,     0.25778,     0.25822,     0.25547,     0.25245,     0.25213,     0.25231,     0.25306,     0.25357,     0.25212,     0.25257,     0.25283,     0.25008,     0.25034,\n",
              "            0.25054,     0.25065,     0.25076,     0.25087,     0.25098,      0.2484,     0.24766,     0.24791,      0.2482,     0.24849,     0.24866,     0.24883,     0.24906,       0.246,      0.2429,     0.24342,     0.24387,     0.24413,     0.24233,     0.24206,     0.24017,     0.23925,     0.23966,\n",
              "            0.23992,     0.24036,     0.23777,     0.23738,     0.23751,     0.23764,     0.23777,     0.23823,     0.23765,     0.23571,       0.232,     0.22869,     0.22894,     0.22989,     0.22595,     0.22224,     0.22249,     0.22274,     0.22302,      0.2234,     0.21952,     0.21547,     0.21187,\n",
              "            0.20777,     0.20587,     0.20596,     0.20606,     0.20615,     0.20624,     0.20659,      0.2069,     0.20714,     0.20755,     0.20803,     0.20655,     0.20446,     0.20447,     0.20468,     0.20484,       0.205,     0.20545,     0.20199,     0.19775,       0.194,     0.19535,     0.19551,\n",
              "            0.19567,     0.19557,     0.19341,      0.1871,     0.18357,     0.18379,     0.18407,     0.18451,      0.1849,     0.18512,     0.18532,     0.18547,     0.18562,     0.18049,     0.17826,     0.17723,     0.17639,     0.17415,      0.1733,     0.17355,     0.17366,     0.17377,     0.17388,\n",
              "            0.17401,     0.17415,     0.17429,     0.17107,     0.16821,     0.16592,      0.1613,     0.15759,     0.15637,     0.15579,     0.15521,     0.15463,     0.15405,     0.15347,     0.15289,     0.15235,     0.15272,     0.15292,       0.148,     0.14393,     0.14403,     0.14412,     0.14421,\n",
              "            0.13854,     0.13459,     0.13299,      0.1314,     0.13077,     0.13177,     0.12152,     0.11906,     0.11771,     0.11787,     0.11746,     0.11581,     0.11415,     0.11374,     0.11381,     0.11389,     0.11396,     0.11318,     0.11192,     0.11067,     0.10941,     0.10721,     0.10469,\n",
              "            0.10014,    0.092386,    0.089815,    0.087235,     0.08465,    0.084798,    0.084907,    0.084966,    0.085024,    0.085081,     0.08515,    0.085228,    0.085305,    0.085383,    0.085461,    0.085538,    0.085038,    0.084287,    0.083536,    0.082785,    0.082033,    0.081281,    0.080529,\n",
              "            0.07584,    0.075455,     0.07045,    0.069198,    0.067854,     0.06651,     0.05995,    0.060063,    0.056977,    0.054814,    0.054845,    0.054876,    0.054907,    0.054937,    0.054153,    0.053055,    0.051957,    0.050858,    0.049759,    0.049606,    0.049628,     0.04965,    0.049671,\n",
              "           0.049692,    0.049713,    0.049168,    0.048061,    0.046954,    0.045846,    0.044738,    0.044032,    0.043568,    0.043104,    0.042641,    0.042177,    0.041713,    0.041249,    0.040785,     0.04032,    0.039856,    0.039392,    0.038927,    0.038896,    0.038903,     0.03891,    0.038917,\n",
              "           0.038924,    0.038931,    0.038938,    0.038945,    0.038952,    0.038959,    0.038966,    0.038973,    0.038979,    0.038986,    0.038993,    0.039009,    0.039047,    0.039084,     0.03275,    0.030486,     0.02822,     0.02215,    0.021741,    0.021332,    0.020924,    0.020515,    0.020106,\n",
              "           0.019697,    0.019288,    0.018879,     0.01847,    0.018061,    0.017651,    0.017242,    0.016999,    0.017005,     0.01701,    0.017016,    0.017022,    0.017027,    0.017032,    0.017038,    0.017043,     0.01705,     0.01706,    0.017069,    0.017078,    0.017087,    0.017102,    0.017144,\n",
              "           0.017148,    0.017152,    0.017156,     0.01716,    0.017164,    0.017168,    0.017172,    0.017176,    0.017179,    0.017183,    0.017187,     0.01719,    0.016992,    0.016575,    0.016158,    0.015741,    0.015324,    0.014907,     0.01449,    0.014073,    0.013656,    0.013238,    0.012821,\n",
              "           0.012404,    0.011986,    0.011569,   0.0082769,   0.0057642,   0.0057655,   0.0057667,    0.005768,   0.0057692,   0.0057704,   0.0057716,   0.0057727,   0.0057738,   0.0057749,    0.005776,    0.005777,   0.0057781,   0.0057791,   0.0057801,   0.0057808,   0.0057814,   0.0057821,   0.0057827,\n",
              "          0.0057833,   0.0057839,   0.0057845,   0.0057851,   0.0057857,   0.0057862,   0.0057868,   0.0057874,   0.0057879,   0.0057885,    0.005789,   0.0057895,   0.0057901,   0.0057906,   0.0057911,   0.0057916,   0.0057921,   0.0057926,   0.0057931,   0.0057936,   0.0057941,   0.0057946,    0.005795,\n",
              "          0.0057955,    0.005796,   0.0057964,   0.0057969,   0.0052961,   0.0043058,   0.0033154,    0.002325,   0.0013347,  0.00034431,           0,           0,           0,           0,           0,           0,           0,           0,           0,           0,           0,           0,           0,\n",
              "                  0,           0,           0,           0,           0,           0,           0,           0,           0,           0,           0,           0,           0,           0,           0,           0,           0,           0,           0,           0,           0,           0,           0,\n",
              "                  0,           0,           0,           0,           0,           0,           0,           0,           0,           0,           0,           0,           0,           0,           0,           0,           0,           0,           0,           0,           0,           0,           0,\n",
              "                  0,           0,           0,           0,           0,           0,           0,           0,           0,           0,           0,           0,           0,           0,           0,           0,           0,           0,           0,           0,           0,           0,           0,\n",
              "                  0,           0,           0,           0,           0,           0,           0,           0,           0,           0,           0,           0,           0,           0,           0,           0,           0,           0,           0,           0,           0,           0,           0,\n",
              "                  0,           0,           0,           0,           0,           0,           0,           0,           0,           0,           0,           0,           0,           0,           0,           0,           0,           0,           0,           0,           0,           0,           0,\n",
              "                  0,           0,           0,           0,           0,           0,           0,           0,           0,           0,           0,           0,           0,           0,           0,           0,           0,           0,           0,           0,           0,           0,           0,\n",
              "                  0,           0,           0,           0,           0,           0,           0,           0,           0,           0,           0,           0,           0,           0,           0,           0,           0,           0,           0,           0,           0,           0,           0,\n",
              "                  0,           0,           0,           0,           0,           0,           0,           0,           0,           0,           0,           0,           0,           0,           0,           0,           0,           0,           0,           0,           0,           0,           0,\n",
              "                  0,           0,           0,           0,           0,           0,           0,           0,           0,           0,           0,           0,           0,           0,           0,           0,           0,           0,           0,           0,           0,           0,           0,\n",
              "                  0,           0,           0,           0,           0,           0,           0,           0,           0,           0,           0,           0,           0,           0,           0,           0,           0,           0,           0,           0,           0,           0,           0,\n",
              "                  0,           0,           0,           0,           0,           0,           0,           0,           0,           0,           0]]), 'Confidence', 'F1'], [array([          0,    0.001001,    0.002002,    0.003003,    0.004004,    0.005005,    0.006006,    0.007007,    0.008008,    0.009009,     0.01001,    0.011011,    0.012012,    0.013013,    0.014014,    0.015015,    0.016016,    0.017017,    0.018018,    0.019019,     0.02002,    0.021021,    0.022022,    0.023023,\n",
              "          0.024024,    0.025025,    0.026026,    0.027027,    0.028028,    0.029029,     0.03003,    0.031031,    0.032032,    0.033033,    0.034034,    0.035035,    0.036036,    0.037037,    0.038038,    0.039039,     0.04004,    0.041041,    0.042042,    0.043043,    0.044044,    0.045045,    0.046046,    0.047047,\n",
              "          0.048048,    0.049049,     0.05005,    0.051051,    0.052052,    0.053053,    0.054054,    0.055055,    0.056056,    0.057057,    0.058058,    0.059059,     0.06006,    0.061061,    0.062062,    0.063063,    0.064064,    0.065065,    0.066066,    0.067067,    0.068068,    0.069069,     0.07007,    0.071071,\n",
              "          0.072072,    0.073073,    0.074074,    0.075075,    0.076076,    0.077077,    0.078078,    0.079079,     0.08008,    0.081081,    0.082082,    0.083083,    0.084084,    0.085085,    0.086086,    0.087087,    0.088088,    0.089089,     0.09009,    0.091091,    0.092092,    0.093093,    0.094094,    0.095095,\n",
              "          0.096096,    0.097097,    0.098098,    0.099099,      0.1001,      0.1011,      0.1021,      0.1031,      0.1041,     0.10511,     0.10611,     0.10711,     0.10811,     0.10911,     0.11011,     0.11111,     0.11211,     0.11311,     0.11411,     0.11512,     0.11612,     0.11712,     0.11812,     0.11912,\n",
              "           0.12012,     0.12112,     0.12212,     0.12312,     0.12412,     0.12513,     0.12613,     0.12713,     0.12813,     0.12913,     0.13013,     0.13113,     0.13213,     0.13313,     0.13413,     0.13514,     0.13614,     0.13714,     0.13814,     0.13914,     0.14014,     0.14114,     0.14214,     0.14314,\n",
              "           0.14414,     0.14515,     0.14615,     0.14715,     0.14815,     0.14915,     0.15015,     0.15115,     0.15215,     0.15315,     0.15415,     0.15516,     0.15616,     0.15716,     0.15816,     0.15916,     0.16016,     0.16116,     0.16216,     0.16316,     0.16416,     0.16517,     0.16617,     0.16717,\n",
              "           0.16817,     0.16917,     0.17017,     0.17117,     0.17217,     0.17317,     0.17417,     0.17518,     0.17618,     0.17718,     0.17818,     0.17918,     0.18018,     0.18118,     0.18218,     0.18318,     0.18418,     0.18519,     0.18619,     0.18719,     0.18819,     0.18919,     0.19019,     0.19119,\n",
              "           0.19219,     0.19319,     0.19419,      0.1952,      0.1962,      0.1972,      0.1982,      0.1992,      0.2002,      0.2012,      0.2022,      0.2032,      0.2042,     0.20521,     0.20621,     0.20721,     0.20821,     0.20921,     0.21021,     0.21121,     0.21221,     0.21321,     0.21421,     0.21522,\n",
              "           0.21622,     0.21722,     0.21822,     0.21922,     0.22022,     0.22122,     0.22222,     0.22322,     0.22422,     0.22523,     0.22623,     0.22723,     0.22823,     0.22923,     0.23023,     0.23123,     0.23223,     0.23323,     0.23423,     0.23524,     0.23624,     0.23724,     0.23824,     0.23924,\n",
              "           0.24024,     0.24124,     0.24224,     0.24324,     0.24424,     0.24525,     0.24625,     0.24725,     0.24825,     0.24925,     0.25025,     0.25125,     0.25225,     0.25325,     0.25425,     0.25526,     0.25626,     0.25726,     0.25826,     0.25926,     0.26026,     0.26126,     0.26226,     0.26326,\n",
              "           0.26426,     0.26527,     0.26627,     0.26727,     0.26827,     0.26927,     0.27027,     0.27127,     0.27227,     0.27327,     0.27427,     0.27528,     0.27628,     0.27728,     0.27828,     0.27928,     0.28028,     0.28128,     0.28228,     0.28328,     0.28428,     0.28529,     0.28629,     0.28729,\n",
              "           0.28829,     0.28929,     0.29029,     0.29129,     0.29229,     0.29329,     0.29429,      0.2953,      0.2963,      0.2973,      0.2983,      0.2993,      0.3003,      0.3013,      0.3023,      0.3033,      0.3043,     0.30531,     0.30631,     0.30731,     0.30831,     0.30931,     0.31031,     0.31131,\n",
              "           0.31231,     0.31331,     0.31431,     0.31532,     0.31632,     0.31732,     0.31832,     0.31932,     0.32032,     0.32132,     0.32232,     0.32332,     0.32432,     0.32533,     0.32633,     0.32733,     0.32833,     0.32933,     0.33033,     0.33133,     0.33233,     0.33333,     0.33433,     0.33534,\n",
              "           0.33634,     0.33734,     0.33834,     0.33934,     0.34034,     0.34134,     0.34234,     0.34334,     0.34434,     0.34535,     0.34635,     0.34735,     0.34835,     0.34935,     0.35035,     0.35135,     0.35235,     0.35335,     0.35435,     0.35536,     0.35636,     0.35736,     0.35836,     0.35936,\n",
              "           0.36036,     0.36136,     0.36236,     0.36336,     0.36436,     0.36537,     0.36637,     0.36737,     0.36837,     0.36937,     0.37037,     0.37137,     0.37237,     0.37337,     0.37437,     0.37538,     0.37638,     0.37738,     0.37838,     0.37938,     0.38038,     0.38138,     0.38238,     0.38338,\n",
              "           0.38438,     0.38539,     0.38639,     0.38739,     0.38839,     0.38939,     0.39039,     0.39139,     0.39239,     0.39339,     0.39439,      0.3954,      0.3964,      0.3974,      0.3984,      0.3994,      0.4004,      0.4014,      0.4024,      0.4034,      0.4044,     0.40541,     0.40641,     0.40741,\n",
              "           0.40841,     0.40941,     0.41041,     0.41141,     0.41241,     0.41341,     0.41441,     0.41542,     0.41642,     0.41742,     0.41842,     0.41942,     0.42042,     0.42142,     0.42242,     0.42342,     0.42442,     0.42543,     0.42643,     0.42743,     0.42843,     0.42943,     0.43043,     0.43143,\n",
              "           0.43243,     0.43343,     0.43443,     0.43544,     0.43644,     0.43744,     0.43844,     0.43944,     0.44044,     0.44144,     0.44244,     0.44344,     0.44444,     0.44545,     0.44645,     0.44745,     0.44845,     0.44945,     0.45045,     0.45145,     0.45245,     0.45345,     0.45445,     0.45546,\n",
              "           0.45646,     0.45746,     0.45846,     0.45946,     0.46046,     0.46146,     0.46246,     0.46346,     0.46446,     0.46547,     0.46647,     0.46747,     0.46847,     0.46947,     0.47047,     0.47147,     0.47247,     0.47347,     0.47447,     0.47548,     0.47648,     0.47748,     0.47848,     0.47948,\n",
              "           0.48048,     0.48148,     0.48248,     0.48348,     0.48448,     0.48549,     0.48649,     0.48749,     0.48849,     0.48949,     0.49049,     0.49149,     0.49249,     0.49349,     0.49449,      0.4955,      0.4965,      0.4975,      0.4985,      0.4995,      0.5005,      0.5015,      0.5025,      0.5035,\n",
              "            0.5045,     0.50551,     0.50651,     0.50751,     0.50851,     0.50951,     0.51051,     0.51151,     0.51251,     0.51351,     0.51451,     0.51552,     0.51652,     0.51752,     0.51852,     0.51952,     0.52052,     0.52152,     0.52252,     0.52352,     0.52452,     0.52553,     0.52653,     0.52753,\n",
              "           0.52853,     0.52953,     0.53053,     0.53153,     0.53253,     0.53353,     0.53453,     0.53554,     0.53654,     0.53754,     0.53854,     0.53954,     0.54054,     0.54154,     0.54254,     0.54354,     0.54454,     0.54555,     0.54655,     0.54755,     0.54855,     0.54955,     0.55055,     0.55155,\n",
              "           0.55255,     0.55355,     0.55455,     0.55556,     0.55656,     0.55756,     0.55856,     0.55956,     0.56056,     0.56156,     0.56256,     0.56356,     0.56456,     0.56557,     0.56657,     0.56757,     0.56857,     0.56957,     0.57057,     0.57157,     0.57257,     0.57357,     0.57457,     0.57558,\n",
              "           0.57658,     0.57758,     0.57858,     0.57958,     0.58058,     0.58158,     0.58258,     0.58358,     0.58458,     0.58559,     0.58659,     0.58759,     0.58859,     0.58959,     0.59059,     0.59159,     0.59259,     0.59359,     0.59459,      0.5956,      0.5966,      0.5976,      0.5986,      0.5996,\n",
              "            0.6006,      0.6016,      0.6026,      0.6036,      0.6046,     0.60561,     0.60661,     0.60761,     0.60861,     0.60961,     0.61061,     0.61161,     0.61261,     0.61361,     0.61461,     0.61562,     0.61662,     0.61762,     0.61862,     0.61962,     0.62062,     0.62162,     0.62262,     0.62362,\n",
              "           0.62462,     0.62563,     0.62663,     0.62763,     0.62863,     0.62963,     0.63063,     0.63163,     0.63263,     0.63363,     0.63463,     0.63564,     0.63664,     0.63764,     0.63864,     0.63964,     0.64064,     0.64164,     0.64264,     0.64364,     0.64464,     0.64565,     0.64665,     0.64765,\n",
              "           0.64865,     0.64965,     0.65065,     0.65165,     0.65265,     0.65365,     0.65465,     0.65566,     0.65666,     0.65766,     0.65866,     0.65966,     0.66066,     0.66166,     0.66266,     0.66366,     0.66466,     0.66567,     0.66667,     0.66767,     0.66867,     0.66967,     0.67067,     0.67167,\n",
              "           0.67267,     0.67367,     0.67467,     0.67568,     0.67668,     0.67768,     0.67868,     0.67968,     0.68068,     0.68168,     0.68268,     0.68368,     0.68468,     0.68569,     0.68669,     0.68769,     0.68869,     0.68969,     0.69069,     0.69169,     0.69269,     0.69369,     0.69469,      0.6957,\n",
              "            0.6967,      0.6977,      0.6987,      0.6997,      0.7007,      0.7017,      0.7027,      0.7037,      0.7047,     0.70571,     0.70671,     0.70771,     0.70871,     0.70971,     0.71071,     0.71171,     0.71271,     0.71371,     0.71471,     0.71572,     0.71672,     0.71772,     0.71872,     0.71972,\n",
              "           0.72072,     0.72172,     0.72272,     0.72372,     0.72472,     0.72573,     0.72673,     0.72773,     0.72873,     0.72973,     0.73073,     0.73173,     0.73273,     0.73373,     0.73473,     0.73574,     0.73674,     0.73774,     0.73874,     0.73974,     0.74074,     0.74174,     0.74274,     0.74374,\n",
              "           0.74474,     0.74575,     0.74675,     0.74775,     0.74875,     0.74975,     0.75075,     0.75175,     0.75275,     0.75375,     0.75475,     0.75576,     0.75676,     0.75776,     0.75876,     0.75976,     0.76076,     0.76176,     0.76276,     0.76376,     0.76476,     0.76577,     0.76677,     0.76777,\n",
              "           0.76877,     0.76977,     0.77077,     0.77177,     0.77277,     0.77377,     0.77477,     0.77578,     0.77678,     0.77778,     0.77878,     0.77978,     0.78078,     0.78178,     0.78278,     0.78378,     0.78478,     0.78579,     0.78679,     0.78779,     0.78879,     0.78979,     0.79079,     0.79179,\n",
              "           0.79279,     0.79379,     0.79479,      0.7958,      0.7968,      0.7978,      0.7988,      0.7998,      0.8008,      0.8018,      0.8028,      0.8038,      0.8048,     0.80581,     0.80681,     0.80781,     0.80881,     0.80981,     0.81081,     0.81181,     0.81281,     0.81381,     0.81481,     0.81582,\n",
              "           0.81682,     0.81782,     0.81882,     0.81982,     0.82082,     0.82182,     0.82282,     0.82382,     0.82482,     0.82583,     0.82683,     0.82783,     0.82883,     0.82983,     0.83083,     0.83183,     0.83283,     0.83383,     0.83483,     0.83584,     0.83684,     0.83784,     0.83884,     0.83984,\n",
              "           0.84084,     0.84184,     0.84284,     0.84384,     0.84484,     0.84585,     0.84685,     0.84785,     0.84885,     0.84985,     0.85085,     0.85185,     0.85285,     0.85385,     0.85485,     0.85586,     0.85686,     0.85786,     0.85886,     0.85986,     0.86086,     0.86186,     0.86286,     0.86386,\n",
              "           0.86486,     0.86587,     0.86687,     0.86787,     0.86887,     0.86987,     0.87087,     0.87187,     0.87287,     0.87387,     0.87487,     0.87588,     0.87688,     0.87788,     0.87888,     0.87988,     0.88088,     0.88188,     0.88288,     0.88388,     0.88488,     0.88589,     0.88689,     0.88789,\n",
              "           0.88889,     0.88989,     0.89089,     0.89189,     0.89289,     0.89389,     0.89489,      0.8959,      0.8969,      0.8979,      0.8989,      0.8999,      0.9009,      0.9019,      0.9029,      0.9039,      0.9049,     0.90591,     0.90691,     0.90791,     0.90891,     0.90991,     0.91091,     0.91191,\n",
              "           0.91291,     0.91391,     0.91491,     0.91592,     0.91692,     0.91792,     0.91892,     0.91992,     0.92092,     0.92192,     0.92292,     0.92392,     0.92492,     0.92593,     0.92693,     0.92793,     0.92893,     0.92993,     0.93093,     0.93193,     0.93293,     0.93393,     0.93493,     0.93594,\n",
              "           0.93694,     0.93794,     0.93894,     0.93994,     0.94094,     0.94194,     0.94294,     0.94394,     0.94494,     0.94595,     0.94695,     0.94795,     0.94895,     0.94995,     0.95095,     0.95195,     0.95295,     0.95395,     0.95495,     0.95596,     0.95696,     0.95796,     0.95896,     0.95996,\n",
              "           0.96096,     0.96196,     0.96296,     0.96396,     0.96496,     0.96597,     0.96697,     0.96797,     0.96897,     0.96997,     0.97097,     0.97197,     0.97297,     0.97397,     0.97497,     0.97598,     0.97698,     0.97798,     0.97898,     0.97998,     0.98098,     0.98198,     0.98298,     0.98398,\n",
              "           0.98498,     0.98599,     0.98699,     0.98799,     0.98899,     0.98999,     0.99099,     0.99199,     0.99299,     0.99399,     0.99499,       0.996,       0.997,       0.998,       0.999,           1]), array([[   0.011761,    0.011761,    0.016732,    0.020976,    0.024612,    0.027937,    0.030842,    0.033488,    0.036458,     0.03943,    0.042064,    0.044664,    0.046855,     0.04885,    0.050845,    0.053176,    0.055479,    0.057845,    0.059564,    0.061699,    0.063898,    0.066012,    0.068003,\n",
              "            0.06948,    0.071612,    0.073453,     0.07547,     0.07762,    0.079627,    0.081837,    0.084108,    0.086301,     0.08824,    0.089566,    0.091385,    0.092598,    0.093675,    0.094988,    0.097018,    0.098618,    0.099249,     0.10035,     0.10167,     0.10321,     0.10466,     0.10587,\n",
              "            0.10671,     0.10832,     0.11002,      0.1117,     0.11292,     0.11434,     0.11663,     0.11784,     0.12004,     0.12177,     0.12303,     0.12455,      0.1251,     0.12586,     0.12691,     0.12833,     0.12924,     0.13159,     0.13349,     0.13486,     0.13638,     0.13835,     0.13928,\n",
              "            0.13999,     0.14154,     0.14163,     0.14285,     0.14476,      0.1456,     0.14719,     0.14937,     0.14987,       0.152,     0.15299,      0.1544,     0.15639,     0.15759,      0.1581,     0.15938,      0.1594,     0.15996,      0.1613,     0.16325,      0.1643,     0.16386,     0.16281,\n",
              "            0.16369,     0.16461,     0.16702,     0.16847,     0.16983,     0.17032,     0.17113,     0.17196,     0.17384,     0.17604,     0.17579,     0.17752,     0.17772,     0.17914,      0.1802,     0.18109,      0.1835,     0.18528,     0.18455,     0.18569,     0.18671,     0.18658,     0.18682,\n",
              "            0.18767,     0.18912,     0.18987,     0.19212,     0.19443,     0.19658,     0.19781,     0.19811,      0.1994,     0.20067,     0.20266,     0.20277,     0.20363,     0.20578,     0.20506,     0.20442,     0.20606,      0.2078,     0.20839,      0.2103,     0.21096,     0.21089,     0.21231,\n",
              "            0.21411,      0.2145,     0.21424,     0.21505,     0.21505,     0.21465,     0.21338,     0.21408,      0.2139,     0.21498,     0.21464,     0.21502,     0.21518,     0.21573,     0.21583,     0.21496,     0.21506,      0.2154,     0.21664,     0.21794,     0.21919,     0.22035,     0.22044,\n",
              "            0.22111,     0.22055,     0.22185,     0.22287,     0.22369,      0.2265,     0.22702,     0.22732,     0.22835,     0.22861,     0.22827,     0.22754,     0.22739,      0.2286,     0.23008,     0.23041,     0.23021,     0.23246,     0.23262,     0.23457,     0.23523,     0.23622,     0.23707,\n",
              "            0.23858,     0.24018,     0.23955,     0.24111,     0.24225,      0.2411,     0.24229,     0.24146,     0.24007,      0.2408,     0.24057,     0.24221,      0.2401,      0.2394,     0.24006,     0.24127,     0.24338,     0.24464,      0.2464,     0.24956,     0.25019,     0.25121,     0.25297,\n",
              "            0.25369,     0.25361,       0.254,     0.25438,     0.25415,     0.25531,     0.25512,     0.25226,      0.2536,     0.25225,     0.25208,     0.25346,     0.25484,     0.25518,     0.25661,      0.2586,     0.26043,     0.26095,     0.26042,      0.2607,     0.26188,     0.26371,     0.26437,\n",
              "            0.26352,     0.26207,     0.26185,     0.26356,     0.26428,     0.26468,     0.26424,      0.2623,     0.26449,     0.26604,     0.26644,     0.26676,     0.26669,     0.26798,     0.26773,      0.2649,     0.26584,     0.26747,     0.26621,     0.26688,     0.26455,     0.26503,     0.26648,\n",
              "             0.2689,     0.26989,     0.27058,     0.27189,     0.27344,     0.27395,     0.27484,     0.27536,     0.27658,     0.27707,     0.27795,     0.27848,     0.27947,     0.27851,     0.27959,     0.28083,     0.28016,     0.27901,     0.28036,     0.28092,     0.28163,     0.28264,     0.28713,\n",
              "             0.2883,     0.28928,     0.29124,     0.29193,     0.29254,     0.29201,     0.29112,     0.29181,     0.29376,     0.29489,     0.29614,      0.2936,     0.29415,     0.29616,     0.29488,     0.29618,     0.29708,     0.29764,     0.30079,     0.30202,     0.30287,     0.30294,     0.30401,\n",
              "            0.30437,     0.30469,     0.30502,     0.30802,     0.30987,     0.30949,      0.3085,     0.30931,     0.30975,     0.31351,     0.31416,     0.31481,     0.31546,     0.32137,     0.32259,     0.32524,     0.32474,     0.32398,     0.32468,     0.32756,     0.32802,     0.32872,     0.32773,\n",
              "            0.32923,     0.33014,      0.3322,     0.33356,     0.33402,     0.33251,     0.32889,     0.33068,     0.33068,     0.33146,     0.33255,     0.33412,     0.33714,     0.33501,     0.32947,     0.33064,     0.33115,     0.33167,     0.33264,     0.33576,     0.33733,     0.33918,     0.33973,\n",
              "            0.34028,     0.34122,     0.34449,     0.34707,     0.34764,     0.35136,     0.35217,     0.35013,      0.3511,     0.34958,     0.34945,     0.35076,      0.3516,     0.35251,     0.35347,     0.35679,     0.35501,     0.35429,     0.35427,     0.35491,     0.35554,      0.3546,     0.35277,\n",
              "            0.34964,     0.34943,     0.34848,     0.35198,     0.35223,     0.35078,     0.35643,     0.36015,     0.36504,     0.36575,     0.36646,     0.37034,     0.37436,      0.3785,     0.37895,     0.37939,     0.37983,     0.38028,      0.3839,     0.38384,     0.38268,     0.38152,     0.37985,\n",
              "            0.37642,     0.37701,     0.37759,     0.37817,     0.37936,      0.3814,     0.38026,     0.38177,     0.38238,     0.38299,     0.38359,     0.38554,     0.38295,     0.38146,     0.38169,     0.38254,     0.38597,     0.38838,     0.39433,     0.39655,     0.39784,     0.39783,     0.39915,\n",
              "             0.4002,     0.40076,     0.40132,     0.40188,     0.40244,     0.39973,     0.39969,     0.40103,     0.40255,     0.40405,     0.40497,     0.40589,     0.40711,     0.40592,      0.4047,     0.40756,      0.4101,     0.41156,     0.41821,     0.41958,     0.41741,     0.41763,     0.42014,\n",
              "            0.42173,     0.42446,     0.42219,     0.42486,     0.42569,     0.42652,     0.42735,     0.43031,     0.43554,     0.43327,     0.42886,     0.42909,     0.43087,     0.43796,     0.43316,     0.42868,     0.43054,     0.43244,      0.4346,     0.43744,     0.44425,      0.4391,     0.43785,\n",
              "            0.43249,     0.43034,     0.43117,       0.432,     0.43284,     0.43367,      0.4367,     0.43954,      0.4417,     0.44547,     0.44994,     0.44884,     0.44606,     0.44927,     0.45131,     0.45286,     0.45441,     0.45889,     0.45855,     0.45271,     0.45167,     0.46673,     0.46852,\n",
              "            0.47031,     0.47157,      0.4685,      0.4641,     0.45933,     0.46213,     0.46561,     0.47138,     0.47645,     0.47946,     0.48216,     0.48421,     0.48627,     0.47964,     0.47623,     0.47721,     0.47885,     0.47535,     0.47708,     0.48091,     0.48257,     0.48424,      0.4859,\n",
              "            0.48796,     0.49024,     0.49251,     0.48796,     0.48335,     0.47964,     0.47698,     0.47183,     0.46974,     0.46872,     0.46771,      0.4667,     0.46569,     0.46467,     0.46366,     0.46295,     0.46992,     0.47363,      0.4678,     0.46057,     0.46248,     0.46438,     0.46628,\n",
              "            0.45687,     0.44918,       0.446,     0.44281,     0.45094,     0.47591,     0.45949,     0.45408,     0.45296,     0.45758,     0.46759,     0.46381,     0.46003,     0.46952,     0.47213,     0.47473,     0.47734,     0.47634,     0.47337,      0.4704,     0.46742,     0.46204,     0.45583,\n",
              "            0.44422,     0.43314,     0.42595,     0.41845,     0.41089,     0.42818,     0.43383,      0.4369,     0.43998,     0.44306,     0.44683,     0.45117,     0.45551,     0.46001,      0.4646,      0.4692,     0.46895,      0.4666,     0.46425,      0.4619,     0.45955,     0.45721,     0.45486,\n",
              "            0.43939,     0.45041,     0.44737,     0.44352,     0.43848,     0.43343,     0.40782,     0.41853,     0.40947,     0.40205,     0.40547,     0.40888,      0.4123,     0.41572,     0.41291,     0.40771,     0.40252,     0.39732,     0.39212,     0.39367,     0.39648,     0.39928,     0.40209,\n",
              "            0.40489,      0.4077,     0.40619,     0.40042,     0.39466,     0.38889,     0.38312,      0.3793,     0.37666,     0.37401,     0.37137,     0.36873,     0.36608,     0.36344,     0.36079,     0.35815,     0.35551,     0.35286,     0.35022,     0.35108,     0.35226,     0.35344,     0.35462,\n",
              "             0.3558,     0.35698,     0.35816,     0.35934,     0.36052,      0.3617,     0.36288,     0.36406,     0.36524,     0.36642,      0.3676,     0.37058,     0.37757,     0.38456,     0.34662,     0.33004,     0.31346,     0.26305,     0.25922,     0.25538,     0.25155,     0.24771,     0.24388,\n",
              "            0.24004,     0.23621,     0.23237,     0.22854,      0.2247,     0.22087,     0.21703,     0.23139,     0.23358,     0.23577,     0.23796,     0.24015,     0.24234,     0.24453,     0.24672,     0.24891,     0.25213,     0.25637,     0.26061,     0.26484,     0.26908,     0.27659,     0.30043,\n",
              "            0.30306,     0.30568,     0.30831,     0.31094,     0.31357,      0.3162,     0.31883,     0.32145,     0.32408,     0.32671,     0.32934,     0.33197,      0.3304,      0.3243,      0.3182,      0.3121,       0.306,      0.2999,      0.2938,      0.2877,     0.28159,     0.27549,     0.26939,\n",
              "            0.26329,     0.25719,     0.25109,     0.18983,     0.14344,     0.14507,     0.14669,     0.14832,     0.14995,     0.15158,      0.1532,     0.15483,     0.15646,     0.15808,     0.15971,     0.16134,     0.16296,     0.16459,     0.16622,     0.16744,     0.16851,     0.16958,     0.17064,\n",
              "            0.17171,     0.17278,     0.17385,     0.17491,     0.17598,     0.17705,     0.17812,     0.17919,     0.18025,     0.18132,     0.18239,     0.18346,     0.18452,     0.18559,     0.18666,     0.18773,      0.1888,     0.18986,     0.19093,       0.192,     0.19307,     0.19413,      0.1952,\n",
              "            0.19627,     0.19734,      0.1984,     0.19947,     0.18272,     0.14855,     0.11438,    0.080214,    0.046046,    0.011879,           0,           0,           0,           0,           0,           0,           0,           0,           0,           0,           0,           0,           0,\n",
              "                  0,           0,           0,           0,           0,           0,           0,           0,           0,           0,           0,           0,           0,           0,           0,           0,           0,           0,           0,           0,           0,           0,           0,\n",
              "                  0,           0,           0,           0,           0,           0,           0,           0,           0,           0,           0,           0,           0,           0,           0,           0,           0,           0,           0,           0,           0,           0,           0,\n",
              "                  0,           0,           0,           0,           1,           1,           1,           1,           1,           1,           1,           1,           1,           1,           1,           1,           1,           1,           1,           1,           1,           1,           1,\n",
              "                  1,           1,           1,           1,           1,           1,           1,           1,           1,           1,           1,           1,           1,           1,           1,           1,           1,           1,           1,           1,           1,           1,           1,\n",
              "                  1,           1,           1,           1,           1,           1,           1,           1,           1,           1,           1,           1,           1,           1,           1,           1,           1,           1,           1,           1,           1,           1,           1,\n",
              "                  1,           1,           1,           1,           1,           1,           1,           1,           1,           1,           1,           1,           1,           1,           1,           1,           1,           1,           1,           1,           1,           1,           1,\n",
              "                  1,           1,           1,           1,           1,           1,           1,           1,           1,           1,           1,           1,           1,           1,           1,           1,           1,           1,           1,           1,           1,           1,           1,\n",
              "                  1,           1,           1,           1,           1,           1,           1,           1,           1,           1,           1,           1,           1,           1,           1,           1,           1,           1,           1,           1,           1,           1,           1,\n",
              "                  1,           1,           1,           1,           1,           1,           1,           1,           1,           1,           1,           1,           1,           1,           1,           1,           1,           1,           1,           1,           1,           1,           1,\n",
              "                  1,           1,           1,           1,           1,           1,           1,           1,           1,           1,           1,           1,           1,           1,           1,           1,           1,           1,           1,           1,           1,           1,           1,\n",
              "                  1,           1,           1,           1,           1,           1,           1,           1,           1,           1,           1]]), 'Confidence', 'Precision'], [array([          0,    0.001001,    0.002002,    0.003003,    0.004004,    0.005005,    0.006006,    0.007007,    0.008008,    0.009009,     0.01001,    0.011011,    0.012012,    0.013013,    0.014014,    0.015015,    0.016016,    0.017017,    0.018018,    0.019019,     0.02002,    0.021021,    0.022022,    0.023023,\n",
              "          0.024024,    0.025025,    0.026026,    0.027027,    0.028028,    0.029029,     0.03003,    0.031031,    0.032032,    0.033033,    0.034034,    0.035035,    0.036036,    0.037037,    0.038038,    0.039039,     0.04004,    0.041041,    0.042042,    0.043043,    0.044044,    0.045045,    0.046046,    0.047047,\n",
              "          0.048048,    0.049049,     0.05005,    0.051051,    0.052052,    0.053053,    0.054054,    0.055055,    0.056056,    0.057057,    0.058058,    0.059059,     0.06006,    0.061061,    0.062062,    0.063063,    0.064064,    0.065065,    0.066066,    0.067067,    0.068068,    0.069069,     0.07007,    0.071071,\n",
              "          0.072072,    0.073073,    0.074074,    0.075075,    0.076076,    0.077077,    0.078078,    0.079079,     0.08008,    0.081081,    0.082082,    0.083083,    0.084084,    0.085085,    0.086086,    0.087087,    0.088088,    0.089089,     0.09009,    0.091091,    0.092092,    0.093093,    0.094094,    0.095095,\n",
              "          0.096096,    0.097097,    0.098098,    0.099099,      0.1001,      0.1011,      0.1021,      0.1031,      0.1041,     0.10511,     0.10611,     0.10711,     0.10811,     0.10911,     0.11011,     0.11111,     0.11211,     0.11311,     0.11411,     0.11512,     0.11612,     0.11712,     0.11812,     0.11912,\n",
              "           0.12012,     0.12112,     0.12212,     0.12312,     0.12412,     0.12513,     0.12613,     0.12713,     0.12813,     0.12913,     0.13013,     0.13113,     0.13213,     0.13313,     0.13413,     0.13514,     0.13614,     0.13714,     0.13814,     0.13914,     0.14014,     0.14114,     0.14214,     0.14314,\n",
              "           0.14414,     0.14515,     0.14615,     0.14715,     0.14815,     0.14915,     0.15015,     0.15115,     0.15215,     0.15315,     0.15415,     0.15516,     0.15616,     0.15716,     0.15816,     0.15916,     0.16016,     0.16116,     0.16216,     0.16316,     0.16416,     0.16517,     0.16617,     0.16717,\n",
              "           0.16817,     0.16917,     0.17017,     0.17117,     0.17217,     0.17317,     0.17417,     0.17518,     0.17618,     0.17718,     0.17818,     0.17918,     0.18018,     0.18118,     0.18218,     0.18318,     0.18418,     0.18519,     0.18619,     0.18719,     0.18819,     0.18919,     0.19019,     0.19119,\n",
              "           0.19219,     0.19319,     0.19419,      0.1952,      0.1962,      0.1972,      0.1982,      0.1992,      0.2002,      0.2012,      0.2022,      0.2032,      0.2042,     0.20521,     0.20621,     0.20721,     0.20821,     0.20921,     0.21021,     0.21121,     0.21221,     0.21321,     0.21421,     0.21522,\n",
              "           0.21622,     0.21722,     0.21822,     0.21922,     0.22022,     0.22122,     0.22222,     0.22322,     0.22422,     0.22523,     0.22623,     0.22723,     0.22823,     0.22923,     0.23023,     0.23123,     0.23223,     0.23323,     0.23423,     0.23524,     0.23624,     0.23724,     0.23824,     0.23924,\n",
              "           0.24024,     0.24124,     0.24224,     0.24324,     0.24424,     0.24525,     0.24625,     0.24725,     0.24825,     0.24925,     0.25025,     0.25125,     0.25225,     0.25325,     0.25425,     0.25526,     0.25626,     0.25726,     0.25826,     0.25926,     0.26026,     0.26126,     0.26226,     0.26326,\n",
              "           0.26426,     0.26527,     0.26627,     0.26727,     0.26827,     0.26927,     0.27027,     0.27127,     0.27227,     0.27327,     0.27427,     0.27528,     0.27628,     0.27728,     0.27828,     0.27928,     0.28028,     0.28128,     0.28228,     0.28328,     0.28428,     0.28529,     0.28629,     0.28729,\n",
              "           0.28829,     0.28929,     0.29029,     0.29129,     0.29229,     0.29329,     0.29429,      0.2953,      0.2963,      0.2973,      0.2983,      0.2993,      0.3003,      0.3013,      0.3023,      0.3033,      0.3043,     0.30531,     0.30631,     0.30731,     0.30831,     0.30931,     0.31031,     0.31131,\n",
              "           0.31231,     0.31331,     0.31431,     0.31532,     0.31632,     0.31732,     0.31832,     0.31932,     0.32032,     0.32132,     0.32232,     0.32332,     0.32432,     0.32533,     0.32633,     0.32733,     0.32833,     0.32933,     0.33033,     0.33133,     0.33233,     0.33333,     0.33433,     0.33534,\n",
              "           0.33634,     0.33734,     0.33834,     0.33934,     0.34034,     0.34134,     0.34234,     0.34334,     0.34434,     0.34535,     0.34635,     0.34735,     0.34835,     0.34935,     0.35035,     0.35135,     0.35235,     0.35335,     0.35435,     0.35536,     0.35636,     0.35736,     0.35836,     0.35936,\n",
              "           0.36036,     0.36136,     0.36236,     0.36336,     0.36436,     0.36537,     0.36637,     0.36737,     0.36837,     0.36937,     0.37037,     0.37137,     0.37237,     0.37337,     0.37437,     0.37538,     0.37638,     0.37738,     0.37838,     0.37938,     0.38038,     0.38138,     0.38238,     0.38338,\n",
              "           0.38438,     0.38539,     0.38639,     0.38739,     0.38839,     0.38939,     0.39039,     0.39139,     0.39239,     0.39339,     0.39439,      0.3954,      0.3964,      0.3974,      0.3984,      0.3994,      0.4004,      0.4014,      0.4024,      0.4034,      0.4044,     0.40541,     0.40641,     0.40741,\n",
              "           0.40841,     0.40941,     0.41041,     0.41141,     0.41241,     0.41341,     0.41441,     0.41542,     0.41642,     0.41742,     0.41842,     0.41942,     0.42042,     0.42142,     0.42242,     0.42342,     0.42442,     0.42543,     0.42643,     0.42743,     0.42843,     0.42943,     0.43043,     0.43143,\n",
              "           0.43243,     0.43343,     0.43443,     0.43544,     0.43644,     0.43744,     0.43844,     0.43944,     0.44044,     0.44144,     0.44244,     0.44344,     0.44444,     0.44545,     0.44645,     0.44745,     0.44845,     0.44945,     0.45045,     0.45145,     0.45245,     0.45345,     0.45445,     0.45546,\n",
              "           0.45646,     0.45746,     0.45846,     0.45946,     0.46046,     0.46146,     0.46246,     0.46346,     0.46446,     0.46547,     0.46647,     0.46747,     0.46847,     0.46947,     0.47047,     0.47147,     0.47247,     0.47347,     0.47447,     0.47548,     0.47648,     0.47748,     0.47848,     0.47948,\n",
              "           0.48048,     0.48148,     0.48248,     0.48348,     0.48448,     0.48549,     0.48649,     0.48749,     0.48849,     0.48949,     0.49049,     0.49149,     0.49249,     0.49349,     0.49449,      0.4955,      0.4965,      0.4975,      0.4985,      0.4995,      0.5005,      0.5015,      0.5025,      0.5035,\n",
              "            0.5045,     0.50551,     0.50651,     0.50751,     0.50851,     0.50951,     0.51051,     0.51151,     0.51251,     0.51351,     0.51451,     0.51552,     0.51652,     0.51752,     0.51852,     0.51952,     0.52052,     0.52152,     0.52252,     0.52352,     0.52452,     0.52553,     0.52653,     0.52753,\n",
              "           0.52853,     0.52953,     0.53053,     0.53153,     0.53253,     0.53353,     0.53453,     0.53554,     0.53654,     0.53754,     0.53854,     0.53954,     0.54054,     0.54154,     0.54254,     0.54354,     0.54454,     0.54555,     0.54655,     0.54755,     0.54855,     0.54955,     0.55055,     0.55155,\n",
              "           0.55255,     0.55355,     0.55455,     0.55556,     0.55656,     0.55756,     0.55856,     0.55956,     0.56056,     0.56156,     0.56256,     0.56356,     0.56456,     0.56557,     0.56657,     0.56757,     0.56857,     0.56957,     0.57057,     0.57157,     0.57257,     0.57357,     0.57457,     0.57558,\n",
              "           0.57658,     0.57758,     0.57858,     0.57958,     0.58058,     0.58158,     0.58258,     0.58358,     0.58458,     0.58559,     0.58659,     0.58759,     0.58859,     0.58959,     0.59059,     0.59159,     0.59259,     0.59359,     0.59459,      0.5956,      0.5966,      0.5976,      0.5986,      0.5996,\n",
              "            0.6006,      0.6016,      0.6026,      0.6036,      0.6046,     0.60561,     0.60661,     0.60761,     0.60861,     0.60961,     0.61061,     0.61161,     0.61261,     0.61361,     0.61461,     0.61562,     0.61662,     0.61762,     0.61862,     0.61962,     0.62062,     0.62162,     0.62262,     0.62362,\n",
              "           0.62462,     0.62563,     0.62663,     0.62763,     0.62863,     0.62963,     0.63063,     0.63163,     0.63263,     0.63363,     0.63463,     0.63564,     0.63664,     0.63764,     0.63864,     0.63964,     0.64064,     0.64164,     0.64264,     0.64364,     0.64464,     0.64565,     0.64665,     0.64765,\n",
              "           0.64865,     0.64965,     0.65065,     0.65165,     0.65265,     0.65365,     0.65465,     0.65566,     0.65666,     0.65766,     0.65866,     0.65966,     0.66066,     0.66166,     0.66266,     0.66366,     0.66466,     0.66567,     0.66667,     0.66767,     0.66867,     0.66967,     0.67067,     0.67167,\n",
              "           0.67267,     0.67367,     0.67467,     0.67568,     0.67668,     0.67768,     0.67868,     0.67968,     0.68068,     0.68168,     0.68268,     0.68368,     0.68468,     0.68569,     0.68669,     0.68769,     0.68869,     0.68969,     0.69069,     0.69169,     0.69269,     0.69369,     0.69469,      0.6957,\n",
              "            0.6967,      0.6977,      0.6987,      0.6997,      0.7007,      0.7017,      0.7027,      0.7037,      0.7047,     0.70571,     0.70671,     0.70771,     0.70871,     0.70971,     0.71071,     0.71171,     0.71271,     0.71371,     0.71471,     0.71572,     0.71672,     0.71772,     0.71872,     0.71972,\n",
              "           0.72072,     0.72172,     0.72272,     0.72372,     0.72472,     0.72573,     0.72673,     0.72773,     0.72873,     0.72973,     0.73073,     0.73173,     0.73273,     0.73373,     0.73473,     0.73574,     0.73674,     0.73774,     0.73874,     0.73974,     0.74074,     0.74174,     0.74274,     0.74374,\n",
              "           0.74474,     0.74575,     0.74675,     0.74775,     0.74875,     0.74975,     0.75075,     0.75175,     0.75275,     0.75375,     0.75475,     0.75576,     0.75676,     0.75776,     0.75876,     0.75976,     0.76076,     0.76176,     0.76276,     0.76376,     0.76476,     0.76577,     0.76677,     0.76777,\n",
              "           0.76877,     0.76977,     0.77077,     0.77177,     0.77277,     0.77377,     0.77477,     0.77578,     0.77678,     0.77778,     0.77878,     0.77978,     0.78078,     0.78178,     0.78278,     0.78378,     0.78478,     0.78579,     0.78679,     0.78779,     0.78879,     0.78979,     0.79079,     0.79179,\n",
              "           0.79279,     0.79379,     0.79479,      0.7958,      0.7968,      0.7978,      0.7988,      0.7998,      0.8008,      0.8018,      0.8028,      0.8038,      0.8048,     0.80581,     0.80681,     0.80781,     0.80881,     0.80981,     0.81081,     0.81181,     0.81281,     0.81381,     0.81481,     0.81582,\n",
              "           0.81682,     0.81782,     0.81882,     0.81982,     0.82082,     0.82182,     0.82282,     0.82382,     0.82482,     0.82583,     0.82683,     0.82783,     0.82883,     0.82983,     0.83083,     0.83183,     0.83283,     0.83383,     0.83483,     0.83584,     0.83684,     0.83784,     0.83884,     0.83984,\n",
              "           0.84084,     0.84184,     0.84284,     0.84384,     0.84484,     0.84585,     0.84685,     0.84785,     0.84885,     0.84985,     0.85085,     0.85185,     0.85285,     0.85385,     0.85485,     0.85586,     0.85686,     0.85786,     0.85886,     0.85986,     0.86086,     0.86186,     0.86286,     0.86386,\n",
              "           0.86486,     0.86587,     0.86687,     0.86787,     0.86887,     0.86987,     0.87087,     0.87187,     0.87287,     0.87387,     0.87487,     0.87588,     0.87688,     0.87788,     0.87888,     0.87988,     0.88088,     0.88188,     0.88288,     0.88388,     0.88488,     0.88589,     0.88689,     0.88789,\n",
              "           0.88889,     0.88989,     0.89089,     0.89189,     0.89289,     0.89389,     0.89489,      0.8959,      0.8969,      0.8979,      0.8989,      0.8999,      0.9009,      0.9019,      0.9029,      0.9039,      0.9049,     0.90591,     0.90691,     0.90791,     0.90891,     0.90991,     0.91091,     0.91191,\n",
              "           0.91291,     0.91391,     0.91491,     0.91592,     0.91692,     0.91792,     0.91892,     0.91992,     0.92092,     0.92192,     0.92292,     0.92392,     0.92492,     0.92593,     0.92693,     0.92793,     0.92893,     0.92993,     0.93093,     0.93193,     0.93293,     0.93393,     0.93493,     0.93594,\n",
              "           0.93694,     0.93794,     0.93894,     0.93994,     0.94094,     0.94194,     0.94294,     0.94394,     0.94494,     0.94595,     0.94695,     0.94795,     0.94895,     0.94995,     0.95095,     0.95195,     0.95295,     0.95395,     0.95495,     0.95596,     0.95696,     0.95796,     0.95896,     0.95996,\n",
              "           0.96096,     0.96196,     0.96296,     0.96396,     0.96496,     0.96597,     0.96697,     0.96797,     0.96897,     0.96997,     0.97097,     0.97197,     0.97297,     0.97397,     0.97497,     0.97598,     0.97698,     0.97798,     0.97898,     0.97998,     0.98098,     0.98198,     0.98298,     0.98398,\n",
              "           0.98498,     0.98599,     0.98699,     0.98799,     0.98899,     0.98999,     0.99099,     0.99199,     0.99299,     0.99399,     0.99499,       0.996,       0.997,       0.998,       0.999,           1]), array([[    0.87647,     0.87647,        0.85,     0.83824,     0.82059,     0.80588,     0.79118,     0.77941,     0.77353,     0.76765,     0.76471,     0.75882,     0.74706,     0.73824,     0.72647,     0.72647,     0.72353,     0.72059,     0.70882,     0.70588,     0.70588,     0.70588,     0.70588,\n",
              "            0.69706,     0.69412,     0.69118,     0.68824,     0.68824,     0.68824,     0.68529,     0.68529,     0.68529,     0.68235,     0.67353,     0.67353,     0.67059,     0.66471,     0.65882,     0.65882,     0.65588,     0.64706,     0.64412,     0.63824,     0.63529,     0.62941,     0.62647,\n",
              "            0.62353,     0.62353,     0.62353,     0.62353,     0.62353,     0.62353,     0.62353,     0.62059,     0.62059,     0.62059,     0.61765,     0.61765,     0.61176,     0.60882,     0.60588,     0.60588,     0.60294,     0.60294,         0.6,     0.59706,     0.59412,     0.59412,     0.58824,\n",
              "            0.58824,     0.58529,     0.57941,     0.57941,     0.57941,     0.57647,     0.57647,     0.57647,     0.57353,     0.57353,     0.57353,     0.57353,     0.57353,     0.57059,     0.56471,     0.56471,     0.55882,     0.55588,     0.55294,     0.55294,        0.55,     0.54412,     0.53529,\n",
              "            0.53529,     0.53235,     0.53235,     0.53235,     0.53235,     0.52941,     0.52647,     0.52353,     0.52059,     0.52059,     0.51471,     0.51471,     0.51176,     0.51176,     0.51176,     0.51176,     0.51176,     0.51176,     0.50588,     0.50588,     0.50294,         0.5,     0.49706,\n",
              "            0.49706,     0.49706,     0.49706,     0.49706,     0.49706,     0.49706,     0.49706,     0.49412,     0.49412,     0.49412,     0.49412,     0.49118,     0.48824,     0.48529,     0.48101,     0.47647,     0.47647,     0.47353,     0.47353,     0.47353,     0.47353,     0.46765,     0.46765,\n",
              "            0.46765,     0.46765,     0.46471,     0.46252,     0.46176,     0.45588,        0.45,     0.44704,     0.44412,      0.4438,     0.44118,     0.43824,     0.43824,     0.43824,     0.43529,     0.43235,     0.42941,     0.42941,     0.42941,     0.42941,     0.42941,     0.42647,     0.42353,\n",
              "            0.42247,     0.42059,     0.42059,     0.42059,     0.41765,     0.41765,     0.41765,     0.41471,     0.41471,     0.41471,     0.41151,     0.40978,     0.40882,     0.40588,     0.40588,     0.40588,     0.40294,     0.40294,         0.4,         0.4,         0.4,         0.4,         0.4,\n",
              "                0.4,         0.4,     0.39706,     0.39706,     0.39706,     0.39118,     0.38824,     0.38574,     0.38235,     0.38235,     0.37941,     0.37941,     0.37353,     0.37059,     0.37059,     0.37059,     0.36765,     0.36765,     0.36765,     0.36765,     0.36765,     0.36765,     0.36765,\n",
              "            0.36693,     0.36471,     0.36471,     0.36471,      0.3628,     0.36176,     0.35962,     0.35294,     0.35294,        0.35,     0.34706,     0.34118,     0.34118,     0.33824,     0.33824,     0.33824,     0.33824,     0.33824,     0.33529,     0.33529,     0.33529,     0.33498,     0.33235,\n",
              "            0.32939,     0.32647,     0.32353,     0.32353,     0.32353,     0.32059,       0.319,     0.31471,     0.31471,     0.31471,     0.31471,     0.31471,     0.31176,     0.31176,     0.30882,     0.30294,     0.30294,     0.30294,      0.3009,         0.3,     0.29412,     0.29412,     0.29412,\n",
              "            0.29412,     0.29412,     0.29412,     0.29412,     0.29412,     0.29412,     0.29412,     0.29412,     0.29412,     0.29412,     0.29412,     0.29412,     0.29412,     0.29118,     0.29118,     0.29057,     0.28733,     0.28529,     0.28529,     0.28529,     0.28529,     0.28529,     0.28529,\n",
              "            0.28529,     0.28529,     0.28529,     0.28235,     0.28235,     0.28143,     0.28023,     0.27941,     0.27941,     0.27941,     0.27941,     0.27353,     0.27353,     0.27353,     0.27059,     0.27059,     0.27059,     0.27059,     0.27059,     0.27059,     0.26765,     0.26471,     0.26471,\n",
              "            0.26471,     0.26471,     0.26471,     0.26471,     0.26471,     0.26365,     0.26176,     0.26176,     0.26176,     0.26176,     0.26176,     0.26176,     0.26176,     0.26176,     0.26176,     0.26176,     0.26026,     0.25882,     0.25882,     0.25882,     0.25882,     0.25781,     0.25588,\n",
              "            0.25588,     0.25588,     0.25588,     0.25588,      0.2552,     0.25347,     0.24792,     0.24706,     0.24412,     0.24412,     0.24412,     0.24412,     0.24412,     0.24152,     0.23556,     0.23235,     0.23235,     0.23235,     0.23235,     0.23235,     0.23235,     0.22941,     0.22941,\n",
              "            0.22941,     0.22941,     0.22941,     0.22941,     0.22941,     0.22941,     0.22941,     0.22647,     0.22598,     0.22447,     0.22353,     0.22353,     0.22353,     0.22353,     0.22353,     0.22351,     0.22179,     0.22059,     0.21765,     0.21765,     0.21765,     0.21654,     0.21482,\n",
              "            0.21188,     0.21011,     0.20882,     0.20882,     0.20791,     0.20588,     0.20588,     0.20588,     0.20588,     0.20588,     0.20588,     0.20588,     0.20588,     0.20588,     0.20588,     0.20588,     0.20588,     0.20588,     0.20588,     0.20521,     0.20421,      0.2032,     0.19997,\n",
              "            0.19706,     0.19706,     0.19706,     0.19706,     0.19706,     0.19585,     0.19412,     0.19412,     0.19412,     0.19412,     0.19412,     0.19412,     0.19166,     0.18865,     0.18824,     0.18824,     0.18824,     0.18824,     0.18529,     0.18529,     0.18529,     0.18235,     0.18235,\n",
              "            0.18235,     0.18235,     0.18235,     0.18235,     0.18235,     0.18019,     0.17941,     0.17941,     0.17941,     0.17941,     0.17941,     0.17941,     0.17941,     0.17647,     0.17353,     0.17353,     0.17353,     0.17353,     0.17059,     0.17009,     0.16859,     0.16765,     0.16765,\n",
              "            0.16765,     0.16765,     0.16548,     0.16471,     0.16471,     0.16471,     0.16471,     0.16471,      0.1634,      0.1619,     0.15901,     0.15588,     0.15588,     0.15585,     0.15283,        0.15,        0.15,        0.15,        0.15,        0.15,     0.14578,     0.14276,     0.13975,\n",
              "            0.13673,     0.13529,     0.13529,     0.13529,     0.13529,     0.13529,     0.13529,     0.13529,     0.13529,     0.13529,     0.13529,     0.13414,     0.13263,     0.13235,     0.13235,     0.13235,     0.13235,     0.13235,     0.12952,     0.12651,     0.12353,     0.12353,     0.12353,\n",
              "            0.12353,     0.12336,     0.12186,     0.11717,     0.11471,     0.11471,     0.11471,     0.11471,     0.11471,     0.11471,     0.11471,     0.11471,     0.11471,     0.11116,     0.10965,     0.10882,     0.10811,      0.1066,     0.10588,     0.10588,     0.10588,     0.10588,     0.10588,\n",
              "            0.10588,     0.10588,     0.10588,     0.10371,     0.10182,     0.10031,    0.097059,    0.094595,      0.0938,    0.093424,    0.093047,     0.09267,    0.092293,    0.091916,    0.091539,    0.091176,    0.091176,    0.091176,    0.087903,    0.085294,    0.085294,    0.085294,    0.085294,\n",
              "           0.081652,    0.079154,    0.078149,    0.077144,    0.076471,    0.076471,    0.070017,     0.06851,    0.067647,    0.067647,    0.067168,    0.066163,    0.065158,    0.064706,    0.064706,    0.064706,    0.064706,    0.064218,    0.063464,    0.062711,    0.061957,    0.060642,    0.059134,\n",
              "            0.05643,    0.051708,      0.0502,    0.048693,    0.047185,    0.047059,    0.047059,    0.047059,    0.047059,    0.047059,    0.047059,    0.047059,    0.047059,    0.047059,    0.047059,    0.047059,    0.046759,    0.046328,    0.045897,    0.045467,    0.045036,    0.044605,    0.044175,\n",
              "           0.041502,    0.041176,    0.038235,    0.037526,    0.036772,    0.036019,    0.032353,    0.032353,    0.030619,    0.029412,    0.029412,    0.029412,    0.029412,    0.029412,    0.028977,    0.028374,    0.027771,    0.027168,    0.026565,    0.026471,    0.026471,    0.026471,    0.026471,\n",
              "           0.026471,    0.026471,    0.026168,    0.025565,    0.024962,    0.024359,    0.023756,    0.023373,    0.023121,     0.02287,    0.022619,    0.022368,    0.022116,    0.021865,    0.021614,    0.021363,    0.021111,     0.02086,    0.020609,    0.020588,    0.020588,    0.020588,    0.020588,\n",
              "           0.020588,    0.020588,    0.020588,    0.020588,    0.020588,    0.020588,    0.020588,    0.020588,    0.020588,    0.020588,    0.020588,    0.020588,    0.020588,    0.020588,    0.017187,    0.015981,    0.014775,    0.011562,    0.011346,    0.011131,    0.010916,      0.0107,    0.010485,\n",
              "            0.01027,    0.010054,    0.009839,   0.0096237,   0.0094084,    0.009193,   0.0089777,   0.0088235,   0.0088235,   0.0088235,   0.0088235,   0.0088235,   0.0088235,   0.0088235,   0.0088235,   0.0088235,   0.0088235,   0.0088235,   0.0088235,   0.0088235,   0.0088235,   0.0088235,   0.0088235,\n",
              "          0.0088235,   0.0088235,   0.0088235,   0.0088235,   0.0088235,   0.0088235,   0.0088235,   0.0088235,   0.0088235,   0.0088235,   0.0088235,   0.0088235,   0.0087202,   0.0085048,   0.0082895,   0.0080741,   0.0078588,   0.0076435,   0.0074281,   0.0072128,   0.0069974,   0.0067821,   0.0065668,\n",
              "          0.0063514,   0.0061361,   0.0059207,   0.0042307,   0.0029412,   0.0029412,   0.0029412,   0.0029412,   0.0029412,   0.0029412,   0.0029412,   0.0029412,   0.0029412,   0.0029412,   0.0029412,   0.0029412,   0.0029412,   0.0029412,   0.0029412,   0.0029412,   0.0029412,   0.0029412,   0.0029412,\n",
              "          0.0029412,   0.0029412,   0.0029412,   0.0029412,   0.0029412,   0.0029412,   0.0029412,   0.0029412,   0.0029412,   0.0029412,   0.0029412,   0.0029412,   0.0029412,   0.0029412,   0.0029412,   0.0029412,   0.0029412,   0.0029412,   0.0029412,   0.0029412,   0.0029412,   0.0029412,   0.0029412,\n",
              "          0.0029412,   0.0029412,   0.0029412,   0.0029412,    0.002687,   0.0021845,   0.0016821,   0.0011796,  0.00067715,  0.00017468,           0,           0,           0,           0,           0,           0,           0,           0,           0,           0,           0,           0,           0,\n",
              "                  0,           0,           0,           0,           0,           0,           0,           0,           0,           0,           0,           0,           0,           0,           0,           0,           0,           0,           0,           0,           0,           0,           0,\n",
              "                  0,           0,           0,           0,           0,           0,           0,           0,           0,           0,           0,           0,           0,           0,           0,           0,           0,           0,           0,           0,           0,           0,           0,\n",
              "                  0,           0,           0,           0,           0,           0,           0,           0,           0,           0,           0,           0,           0,           0,           0,           0,           0,           0,           0,           0,           0,           0,           0,\n",
              "                  0,           0,           0,           0,           0,           0,           0,           0,           0,           0,           0,           0,           0,           0,           0,           0,           0,           0,           0,           0,           0,           0,           0,\n",
              "                  0,           0,           0,           0,           0,           0,           0,           0,           0,           0,           0,           0,           0,           0,           0,           0,           0,           0,           0,           0,           0,           0,           0,\n",
              "                  0,           0,           0,           0,           0,           0,           0,           0,           0,           0,           0,           0,           0,           0,           0,           0,           0,           0,           0,           0,           0,           0,           0,\n",
              "                  0,           0,           0,           0,           0,           0,           0,           0,           0,           0,           0,           0,           0,           0,           0,           0,           0,           0,           0,           0,           0,           0,           0,\n",
              "                  0,           0,           0,           0,           0,           0,           0,           0,           0,           0,           0,           0,           0,           0,           0,           0,           0,           0,           0,           0,           0,           0,           0,\n",
              "                  0,           0,           0,           0,           0,           0,           0,           0,           0,           0,           0,           0,           0,           0,           0,           0,           0,           0,           0,           0,           0,           0,           0,\n",
              "                  0,           0,           0,           0,           0,           0,           0,           0,           0,           0,           0,           0,           0,           0,           0,           0,           0,           0,           0,           0,           0,           0,           0,\n",
              "                  0,           0,           0,           0,           0,           0,           0,           0,           0,           0,           0]]), 'Confidence', 'Recall']]\n",
              "fitness: np.float64(0.09186311215981123)\n",
              "keys: ['metrics/precision(B)', 'metrics/recall(B)', 'metrics/mAP50(B)', 'metrics/mAP50-95(B)']\n",
              "maps: array([   0.079194])\n",
              "names: {0: 'pothole'}\n",
              "nt_per_class: array([340])\n",
              "nt_per_image: array([200])\n",
              "results_dict: {'metrics/precision(B)': np.float64(0.23858285544585356), 'metrics/recall(B)': np.float64(0.4), 'metrics/mAP50(B)': np.float64(0.20588921495787682), 'metrics/mAP50-95(B)': np.float64(0.07919354518224839), 'fitness': np.float64(0.09186311215981123)}\n",
              "save_dir: PosixPath('runs/detect/train2')\n",
              "speed: {'preprocess': 0.14701017477119424, 'inference': 3.2041019954402774, 'loss': 6.191489331902459e-05, 'postprocess': 7.71320026443753}\n",
              "stats: {'tp': [], 'conf': [], 'pred_cls': [], 'target_cls': [], 'target_img': []}\n",
              "task: 'detect'"
            ]
          },
          "metadata": {},
          "execution_count": 8
        }
      ]
    },
    {
      "cell_type": "code",
      "source": [
        "with open(f\"{root}/data_test.yaml\", \"w\") as f:\n",
        "    f.write(\n",
        "        \"\"\"\n",
        "train: /content/drive/MyDrive/APS360_Project/RDD_2022_ProcessedData/images/train\n",
        "val: /content/drive/MyDrive/APS360_Project/RDD_2022_ProcessedData/images/val\n",
        "test: /content/drive/MyDrive/APS360_Project/RDD_2022_ProcessedData/images/test\n",
        "\n",
        "nc: 1\n",
        "names: ['pothole']\n",
        "        \"\"\".strip()\n",
        "    )"
      ],
      "metadata": {
        "id": "q6zQxTCQD3uA"
      },
      "execution_count": null,
      "outputs": []
    },
    {
      "cell_type": "code",
      "source": [
        "model.val(data=f'{root}data_test.yaml', split='test', imgsz=512, save=True)"
      ],
      "metadata": {
        "colab": {
          "base_uri": "https://localhost:8080/"
        },
        "id": "cFtJtDVrDEcL",
        "outputId": "6c3de069-4cbc-43d7-b72f-9651e16763c8"
      },
      "execution_count": null,
      "outputs": [
        {
          "output_type": "stream",
          "name": "stdout",
          "text": [
            "Ultralytics 8.3.165 🚀 Python-3.11.13 torch-2.6.0+cu124 CUDA:0 (Tesla T4, 15095MiB)\n",
            "\u001b[34m\u001b[1mval: \u001b[0mFast image access ✅ (ping: 0.6±0.2 ms, read: 42.1±13.3 MB/s, size: 108.8 KB)\n"
          ]
        },
        {
          "output_type": "stream",
          "name": "stderr",
          "text": [
            "\u001b[34m\u001b[1mval: \u001b[0mScanning /content/drive/.shortcut-targets-by-id/1cifpQDRBcJgUxkcQMi6UsUSFPn7RfTNX/APS360_Project/RDD_2022_ProcessedData/labels/test... 661 images, 441 backgrounds, 0 corrupt: 100%|██████████| 661/661 [00:08<00:00, 76.73it/s] \n"
          ]
        },
        {
          "output_type": "stream",
          "name": "stdout",
          "text": [
            "\u001b[34m\u001b[1mval: \u001b[0mNew cache created: /content/drive/.shortcut-targets-by-id/1cifpQDRBcJgUxkcQMi6UsUSFPn7RfTNX/APS360_Project/RDD_2022_ProcessedData/labels/test.cache\n"
          ]
        },
        {
          "output_type": "stream",
          "name": "stderr",
          "text": [
            "                 Class     Images  Instances      Box(P          R      mAP50  mAP50-95): 100%|██████████| 6/6 [00:14<00:00,  2.46s/it]\n"
          ]
        },
        {
          "output_type": "stream",
          "name": "stdout",
          "text": [
            "                   all        661        394      0.332      0.297      0.202     0.0763\n",
            "Speed: 5.8ms preprocess, 7.0ms inference, 0.0ms loss, 2.0ms postprocess per image\n",
            "Results saved to \u001b[1mruns/detect/train27\u001b[0m\n"
          ]
        },
        {
          "output_type": "execute_result",
          "data": {
            "text/plain": [
              "ultralytics.utils.metrics.DetMetrics object with attributes:\n",
              "\n",
              "ap_class_index: array([0])\n",
              "box: ultralytics.utils.metrics.Metric object\n",
              "confusion_matrix: <ultralytics.utils.metrics.ConfusionMatrix object at 0x7972f0694110>\n",
              "curves: ['Precision-Recall(B)', 'F1-Confidence(B)', 'Precision-Confidence(B)', 'Recall-Confidence(B)']\n",
              "curves_results: [[array([          0,    0.001001,    0.002002,    0.003003,    0.004004,    0.005005,    0.006006,    0.007007,    0.008008,    0.009009,     0.01001,    0.011011,    0.012012,    0.013013,    0.014014,    0.015015,    0.016016,    0.017017,    0.018018,    0.019019,     0.02002,    0.021021,    0.022022,    0.023023,\n",
              "          0.024024,    0.025025,    0.026026,    0.027027,    0.028028,    0.029029,     0.03003,    0.031031,    0.032032,    0.033033,    0.034034,    0.035035,    0.036036,    0.037037,    0.038038,    0.039039,     0.04004,    0.041041,    0.042042,    0.043043,    0.044044,    0.045045,    0.046046,    0.047047,\n",
              "          0.048048,    0.049049,     0.05005,    0.051051,    0.052052,    0.053053,    0.054054,    0.055055,    0.056056,    0.057057,    0.058058,    0.059059,     0.06006,    0.061061,    0.062062,    0.063063,    0.064064,    0.065065,    0.066066,    0.067067,    0.068068,    0.069069,     0.07007,    0.071071,\n",
              "          0.072072,    0.073073,    0.074074,    0.075075,    0.076076,    0.077077,    0.078078,    0.079079,     0.08008,    0.081081,    0.082082,    0.083083,    0.084084,    0.085085,    0.086086,    0.087087,    0.088088,    0.089089,     0.09009,    0.091091,    0.092092,    0.093093,    0.094094,    0.095095,\n",
              "          0.096096,    0.097097,    0.098098,    0.099099,      0.1001,      0.1011,      0.1021,      0.1031,      0.1041,     0.10511,     0.10611,     0.10711,     0.10811,     0.10911,     0.11011,     0.11111,     0.11211,     0.11311,     0.11411,     0.11512,     0.11612,     0.11712,     0.11812,     0.11912,\n",
              "           0.12012,     0.12112,     0.12212,     0.12312,     0.12412,     0.12513,     0.12613,     0.12713,     0.12813,     0.12913,     0.13013,     0.13113,     0.13213,     0.13313,     0.13413,     0.13514,     0.13614,     0.13714,     0.13814,     0.13914,     0.14014,     0.14114,     0.14214,     0.14314,\n",
              "           0.14414,     0.14515,     0.14615,     0.14715,     0.14815,     0.14915,     0.15015,     0.15115,     0.15215,     0.15315,     0.15415,     0.15516,     0.15616,     0.15716,     0.15816,     0.15916,     0.16016,     0.16116,     0.16216,     0.16316,     0.16416,     0.16517,     0.16617,     0.16717,\n",
              "           0.16817,     0.16917,     0.17017,     0.17117,     0.17217,     0.17317,     0.17417,     0.17518,     0.17618,     0.17718,     0.17818,     0.17918,     0.18018,     0.18118,     0.18218,     0.18318,     0.18418,     0.18519,     0.18619,     0.18719,     0.18819,     0.18919,     0.19019,     0.19119,\n",
              "           0.19219,     0.19319,     0.19419,      0.1952,      0.1962,      0.1972,      0.1982,      0.1992,      0.2002,      0.2012,      0.2022,      0.2032,      0.2042,     0.20521,     0.20621,     0.20721,     0.20821,     0.20921,     0.21021,     0.21121,     0.21221,     0.21321,     0.21421,     0.21522,\n",
              "           0.21622,     0.21722,     0.21822,     0.21922,     0.22022,     0.22122,     0.22222,     0.22322,     0.22422,     0.22523,     0.22623,     0.22723,     0.22823,     0.22923,     0.23023,     0.23123,     0.23223,     0.23323,     0.23423,     0.23524,     0.23624,     0.23724,     0.23824,     0.23924,\n",
              "           0.24024,     0.24124,     0.24224,     0.24324,     0.24424,     0.24525,     0.24625,     0.24725,     0.24825,     0.24925,     0.25025,     0.25125,     0.25225,     0.25325,     0.25425,     0.25526,     0.25626,     0.25726,     0.25826,     0.25926,     0.26026,     0.26126,     0.26226,     0.26326,\n",
              "           0.26426,     0.26527,     0.26627,     0.26727,     0.26827,     0.26927,     0.27027,     0.27127,     0.27227,     0.27327,     0.27427,     0.27528,     0.27628,     0.27728,     0.27828,     0.27928,     0.28028,     0.28128,     0.28228,     0.28328,     0.28428,     0.28529,     0.28629,     0.28729,\n",
              "           0.28829,     0.28929,     0.29029,     0.29129,     0.29229,     0.29329,     0.29429,      0.2953,      0.2963,      0.2973,      0.2983,      0.2993,      0.3003,      0.3013,      0.3023,      0.3033,      0.3043,     0.30531,     0.30631,     0.30731,     0.30831,     0.30931,     0.31031,     0.31131,\n",
              "           0.31231,     0.31331,     0.31431,     0.31532,     0.31632,     0.31732,     0.31832,     0.31932,     0.32032,     0.32132,     0.32232,     0.32332,     0.32432,     0.32533,     0.32633,     0.32733,     0.32833,     0.32933,     0.33033,     0.33133,     0.33233,     0.33333,     0.33433,     0.33534,\n",
              "           0.33634,     0.33734,     0.33834,     0.33934,     0.34034,     0.34134,     0.34234,     0.34334,     0.34434,     0.34535,     0.34635,     0.34735,     0.34835,     0.34935,     0.35035,     0.35135,     0.35235,     0.35335,     0.35435,     0.35536,     0.35636,     0.35736,     0.35836,     0.35936,\n",
              "           0.36036,     0.36136,     0.36236,     0.36336,     0.36436,     0.36537,     0.36637,     0.36737,     0.36837,     0.36937,     0.37037,     0.37137,     0.37237,     0.37337,     0.37437,     0.37538,     0.37638,     0.37738,     0.37838,     0.37938,     0.38038,     0.38138,     0.38238,     0.38338,\n",
              "           0.38438,     0.38539,     0.38639,     0.38739,     0.38839,     0.38939,     0.39039,     0.39139,     0.39239,     0.39339,     0.39439,      0.3954,      0.3964,      0.3974,      0.3984,      0.3994,      0.4004,      0.4014,      0.4024,      0.4034,      0.4044,     0.40541,     0.40641,     0.40741,\n",
              "           0.40841,     0.40941,     0.41041,     0.41141,     0.41241,     0.41341,     0.41441,     0.41542,     0.41642,     0.41742,     0.41842,     0.41942,     0.42042,     0.42142,     0.42242,     0.42342,     0.42442,     0.42543,     0.42643,     0.42743,     0.42843,     0.42943,     0.43043,     0.43143,\n",
              "           0.43243,     0.43343,     0.43443,     0.43544,     0.43644,     0.43744,     0.43844,     0.43944,     0.44044,     0.44144,     0.44244,     0.44344,     0.44444,     0.44545,     0.44645,     0.44745,     0.44845,     0.44945,     0.45045,     0.45145,     0.45245,     0.45345,     0.45445,     0.45546,\n",
              "           0.45646,     0.45746,     0.45846,     0.45946,     0.46046,     0.46146,     0.46246,     0.46346,     0.46446,     0.46547,     0.46647,     0.46747,     0.46847,     0.46947,     0.47047,     0.47147,     0.47247,     0.47347,     0.47447,     0.47548,     0.47648,     0.47748,     0.47848,     0.47948,\n",
              "           0.48048,     0.48148,     0.48248,     0.48348,     0.48448,     0.48549,     0.48649,     0.48749,     0.48849,     0.48949,     0.49049,     0.49149,     0.49249,     0.49349,     0.49449,      0.4955,      0.4965,      0.4975,      0.4985,      0.4995,      0.5005,      0.5015,      0.5025,      0.5035,\n",
              "            0.5045,     0.50551,     0.50651,     0.50751,     0.50851,     0.50951,     0.51051,     0.51151,     0.51251,     0.51351,     0.51451,     0.51552,     0.51652,     0.51752,     0.51852,     0.51952,     0.52052,     0.52152,     0.52252,     0.52352,     0.52452,     0.52553,     0.52653,     0.52753,\n",
              "           0.52853,     0.52953,     0.53053,     0.53153,     0.53253,     0.53353,     0.53453,     0.53554,     0.53654,     0.53754,     0.53854,     0.53954,     0.54054,     0.54154,     0.54254,     0.54354,     0.54454,     0.54555,     0.54655,     0.54755,     0.54855,     0.54955,     0.55055,     0.55155,\n",
              "           0.55255,     0.55355,     0.55455,     0.55556,     0.55656,     0.55756,     0.55856,     0.55956,     0.56056,     0.56156,     0.56256,     0.56356,     0.56456,     0.56557,     0.56657,     0.56757,     0.56857,     0.56957,     0.57057,     0.57157,     0.57257,     0.57357,     0.57457,     0.57558,\n",
              "           0.57658,     0.57758,     0.57858,     0.57958,     0.58058,     0.58158,     0.58258,     0.58358,     0.58458,     0.58559,     0.58659,     0.58759,     0.58859,     0.58959,     0.59059,     0.59159,     0.59259,     0.59359,     0.59459,      0.5956,      0.5966,      0.5976,      0.5986,      0.5996,\n",
              "            0.6006,      0.6016,      0.6026,      0.6036,      0.6046,     0.60561,     0.60661,     0.60761,     0.60861,     0.60961,     0.61061,     0.61161,     0.61261,     0.61361,     0.61461,     0.61562,     0.61662,     0.61762,     0.61862,     0.61962,     0.62062,     0.62162,     0.62262,     0.62362,\n",
              "           0.62462,     0.62563,     0.62663,     0.62763,     0.62863,     0.62963,     0.63063,     0.63163,     0.63263,     0.63363,     0.63463,     0.63564,     0.63664,     0.63764,     0.63864,     0.63964,     0.64064,     0.64164,     0.64264,     0.64364,     0.64464,     0.64565,     0.64665,     0.64765,\n",
              "           0.64865,     0.64965,     0.65065,     0.65165,     0.65265,     0.65365,     0.65465,     0.65566,     0.65666,     0.65766,     0.65866,     0.65966,     0.66066,     0.66166,     0.66266,     0.66366,     0.66466,     0.66567,     0.66667,     0.66767,     0.66867,     0.66967,     0.67067,     0.67167,\n",
              "           0.67267,     0.67367,     0.67467,     0.67568,     0.67668,     0.67768,     0.67868,     0.67968,     0.68068,     0.68168,     0.68268,     0.68368,     0.68468,     0.68569,     0.68669,     0.68769,     0.68869,     0.68969,     0.69069,     0.69169,     0.69269,     0.69369,     0.69469,      0.6957,\n",
              "            0.6967,      0.6977,      0.6987,      0.6997,      0.7007,      0.7017,      0.7027,      0.7037,      0.7047,     0.70571,     0.70671,     0.70771,     0.70871,     0.70971,     0.71071,     0.71171,     0.71271,     0.71371,     0.71471,     0.71572,     0.71672,     0.71772,     0.71872,     0.71972,\n",
              "           0.72072,     0.72172,     0.72272,     0.72372,     0.72472,     0.72573,     0.72673,     0.72773,     0.72873,     0.72973,     0.73073,     0.73173,     0.73273,     0.73373,     0.73473,     0.73574,     0.73674,     0.73774,     0.73874,     0.73974,     0.74074,     0.74174,     0.74274,     0.74374,\n",
              "           0.74474,     0.74575,     0.74675,     0.74775,     0.74875,     0.74975,     0.75075,     0.75175,     0.75275,     0.75375,     0.75475,     0.75576,     0.75676,     0.75776,     0.75876,     0.75976,     0.76076,     0.76176,     0.76276,     0.76376,     0.76476,     0.76577,     0.76677,     0.76777,\n",
              "           0.76877,     0.76977,     0.77077,     0.77177,     0.77277,     0.77377,     0.77477,     0.77578,     0.77678,     0.77778,     0.77878,     0.77978,     0.78078,     0.78178,     0.78278,     0.78378,     0.78478,     0.78579,     0.78679,     0.78779,     0.78879,     0.78979,     0.79079,     0.79179,\n",
              "           0.79279,     0.79379,     0.79479,      0.7958,      0.7968,      0.7978,      0.7988,      0.7998,      0.8008,      0.8018,      0.8028,      0.8038,      0.8048,     0.80581,     0.80681,     0.80781,     0.80881,     0.80981,     0.81081,     0.81181,     0.81281,     0.81381,     0.81481,     0.81582,\n",
              "           0.81682,     0.81782,     0.81882,     0.81982,     0.82082,     0.82182,     0.82282,     0.82382,     0.82482,     0.82583,     0.82683,     0.82783,     0.82883,     0.82983,     0.83083,     0.83183,     0.83283,     0.83383,     0.83483,     0.83584,     0.83684,     0.83784,     0.83884,     0.83984,\n",
              "           0.84084,     0.84184,     0.84284,     0.84384,     0.84484,     0.84585,     0.84685,     0.84785,     0.84885,     0.84985,     0.85085,     0.85185,     0.85285,     0.85385,     0.85485,     0.85586,     0.85686,     0.85786,     0.85886,     0.85986,     0.86086,     0.86186,     0.86286,     0.86386,\n",
              "           0.86486,     0.86587,     0.86687,     0.86787,     0.86887,     0.86987,     0.87087,     0.87187,     0.87287,     0.87387,     0.87487,     0.87588,     0.87688,     0.87788,     0.87888,     0.87988,     0.88088,     0.88188,     0.88288,     0.88388,     0.88488,     0.88589,     0.88689,     0.88789,\n",
              "           0.88889,     0.88989,     0.89089,     0.89189,     0.89289,     0.89389,     0.89489,      0.8959,      0.8969,      0.8979,      0.8989,      0.8999,      0.9009,      0.9019,      0.9029,      0.9039,      0.9049,     0.90591,     0.90691,     0.90791,     0.90891,     0.90991,     0.91091,     0.91191,\n",
              "           0.91291,     0.91391,     0.91491,     0.91592,     0.91692,     0.91792,     0.91892,     0.91992,     0.92092,     0.92192,     0.92292,     0.92392,     0.92492,     0.92593,     0.92693,     0.92793,     0.92893,     0.92993,     0.93093,     0.93193,     0.93293,     0.93393,     0.93493,     0.93594,\n",
              "           0.93694,     0.93794,     0.93894,     0.93994,     0.94094,     0.94194,     0.94294,     0.94394,     0.94494,     0.94595,     0.94695,     0.94795,     0.94895,     0.94995,     0.95095,     0.95195,     0.95295,     0.95395,     0.95495,     0.95596,     0.95696,     0.95796,     0.95896,     0.95996,\n",
              "           0.96096,     0.96196,     0.96296,     0.96396,     0.96496,     0.96597,     0.96697,     0.96797,     0.96897,     0.96997,     0.97097,     0.97197,     0.97297,     0.97397,     0.97497,     0.97598,     0.97698,     0.97798,     0.97898,     0.97998,     0.98098,     0.98198,     0.98298,     0.98398,\n",
              "           0.98498,     0.98599,     0.98699,     0.98799,     0.98899,     0.98999,     0.99099,     0.99199,     0.99299,     0.99399,     0.99499,       0.996,       0.997,       0.998,       0.999,           1]), array([[          1,           1,           1,           1,           1,           1,        0.75,        0.75,     0.71429,     0.71429,     0.71429,     0.71429,     0.71429,         0.7,         0.7,         0.7,         0.7,         0.7,     0.58333,     0.58333,     0.58333,     0.58333,     0.58333,\n",
              "            0.58333,     0.58333,     0.58333,     0.58333,     0.58333,     0.58333,     0.58333,     0.58333,     0.58333,     0.58333,     0.58333,     0.58333,     0.58333,     0.57143,     0.57143,     0.57143,     0.57143,     0.57143,     0.56667,     0.56667,     0.56667,     0.55882,     0.55882,\n",
              "            0.55882,     0.55882,     0.55882,     0.55556,     0.55556,       0.525,       0.525,       0.525,     0.49296,     0.49296,     0.49296,     0.49296,     0.49296,     0.49296,     0.49296,     0.49296,     0.49296,     0.49296,     0.49296,     0.49296,     0.49296,     0.49296,     0.49296,\n",
              "            0.49296,     0.49296,     0.49296,     0.49296,     0.49296,     0.49296,     0.49296,     0.49296,     0.49296,     0.49296,     0.49296,     0.49296,     0.49296,     0.49296,     0.49296,     0.49296,     0.49296,     0.49296,     0.49296,     0.49296,     0.48649,     0.48649,     0.48649,\n",
              "            0.48148,     0.48148,     0.48148,     0.48148,     0.48148,     0.48148,     0.48148,     0.46512,     0.46512,     0.46512,     0.46154,     0.46154,     0.46154,     0.46154,     0.46154,     0.46154,     0.46154,     0.46154,     0.46154,     0.46154,     0.46154,     0.46154,     0.46154,\n",
              "            0.46154,     0.46154,     0.46154,     0.46154,     0.46154,     0.46154,     0.46154,     0.45946,     0.45946,     0.45946,     0.45946,     0.45946,     0.45946,     0.45946,     0.45946,     0.43307,     0.43307,     0.43307,     0.43307,     0.43307,     0.43307,     0.43307,     0.43307,\n",
              "            0.43307,     0.43307,     0.43182,     0.43182,     0.43182,     0.43182,     0.43182,     0.42647,     0.42647,     0.42647,     0.42282,     0.42282,     0.42282,     0.42282,     0.42282,     0.42282,     0.42282,     0.42282,     0.42282,     0.42282,     0.42282,     0.42282,     0.42262,\n",
              "            0.42262,     0.42262,     0.42262,     0.42262,     0.42262,     0.42262,     0.42262,     0.42262,     0.42262,     0.42262,     0.42262,     0.42262,     0.42262,     0.42262,     0.42262,     0.42262,     0.42262,     0.42262,     0.42262,     0.42262,     0.42197,     0.42197,     0.42197,\n",
              "            0.42197,     0.42197,     0.41573,     0.41573,     0.41489,     0.41489,     0.41489,     0.41489,     0.41489,     0.41489,     0.41489,     0.41489,     0.41489,     0.41489,        0.41,        0.41,        0.41,        0.41,        0.41,        0.41,        0.41,        0.41,        0.41,\n",
              "               0.41,     0.40097,     0.40097,     0.40097,     0.40094,     0.40094,     0.40094,     0.40094,     0.40094,     0.39316,     0.39316,     0.39316,     0.39316,     0.39316,     0.39316,     0.39316,     0.39316,     0.39316,     0.39316,     0.39316,     0.39316,     0.39316,     0.39316,\n",
              "            0.39316,     0.39316,     0.39316,     0.39316,     0.38115,     0.38115,     0.37405,     0.37405,     0.37405,     0.37405,     0.37405,     0.37405,     0.37405,     0.37405,     0.37405,     0.37405,     0.37405,     0.37405,     0.37405,     0.37269,     0.37269,     0.37269,     0.37269,\n",
              "            0.37269,     0.37269,     0.37269,     0.37269,     0.37226,     0.37226,     0.35986,     0.35986,     0.35986,     0.35986,     0.35986,     0.35714,     0.35714,     0.35714,     0.35548,     0.35548,     0.35548,     0.35548,     0.35548,     0.35404,     0.35404,     0.35404,     0.35404,\n",
              "            0.35404,     0.35404,     0.35404,     0.35404,     0.35404,     0.35404,     0.35404,     0.35404,     0.35404,     0.35404,     0.35404,     0.35404,     0.35404,     0.35404,     0.34226,     0.34226,     0.34018,     0.34018,     0.34018,     0.34012,     0.34012,     0.32597,     0.32597,\n",
              "            0.32597,     0.31903,     0.31903,     0.31088,     0.31088,     0.31088,     0.29877,     0.29877,     0.29567,     0.29567,     0.29567,     0.29567,     0.29567,     0.29099,     0.29099,     0.29099,     0.29099,     0.29099,     0.29099,     0.29099,     0.29099,     0.28864,     0.28864,\n",
              "            0.28864,     0.28829,     0.28829,     0.26987,     0.26987,     0.26987,     0.26971,     0.26971,     0.25479,     0.25479,     0.25479,     0.25479,     0.25479,     0.25479,     0.25479,     0.25479,     0.25472,     0.25472,     0.25472,     0.25472,     0.25472,      0.2464,      0.2464,\n",
              "             0.2464,      0.2464,      0.2464,     0.24558,     0.24558,     0.24558,     0.24558,     0.24558,      0.2439,      0.2439,     0.24269,     0.24269,     0.24269,     0.23826,     0.23826,     0.23826,     0.23754,     0.23754,     0.23568,     0.23568,     0.23568,      0.2352,      0.2352,\n",
              "             0.2352,      0.2352,      0.2352,      0.2352,      0.2352,     0.22769,     0.22769,     0.22769,     0.22713,     0.22713,     0.22239,     0.22239,     0.22239,     0.22239,     0.22239,     0.21839,     0.21839,     0.21839,     0.20959,     0.20959,     0.20479,     0.20479,     0.20479,\n",
              "            0.20368,     0.20368,     0.20368,     0.20181,     0.20181,     0.19924,     0.19924,     0.19924,     0.19775,     0.19775,     0.19605,     0.19605,     0.19605,     0.19465,     0.19465,     0.18693,     0.18693,     0.18693,     0.18693,     0.18693,     0.18693,     0.18693,     0.18693,\n",
              "            0.18573,     0.18573,      0.1856,      0.1856,      0.1856,      0.1851,      0.1851,      0.1851,      0.1851,      0.1851,      0.1851,      0.1851,      0.1851,      0.1851,      0.1851,      0.1823,      0.1823,      0.1823,      0.1823,      0.1823,     0.17938,     0.17938,     0.17938,\n",
              "            0.17938,     0.17938,     0.17938,     0.17938,     0.17938,     0.17857,     0.17857,     0.17409,     0.17409,     0.17409,     0.17218,     0.17218,     0.16967,     0.16967,     0.16967,     0.16967,     0.16967,     0.16262,     0.16262,     0.16262,     0.16262,     0.16262,     0.16149,\n",
              "            0.16149,     0.16149,     0.16053,     0.16053,     0.16053,     0.15972,     0.15972,     0.15866,     0.15866,     0.15866,     0.15719,     0.15719,     0.15719,     0.15719,     0.15719,     0.15719,     0.15719,     0.15403,     0.15403,     0.15403,     0.14867,     0.14867,     0.14806,\n",
              "            0.14806,     0.14806,     0.14436,     0.14436,     0.14328,     0.14328,     0.14328,     0.13977,     0.13977,     0.13532,     0.13532,     0.13532,     0.13342,     0.13342,     0.13266,     0.13266,     0.13266,     0.13165,     0.13165,     0.13165,      0.1308,      0.1308,      0.1308,\n",
              "             0.1308,      0.1308,     0.12562,     0.12562,     0.12461,     0.12461,     0.12461,     0.12148,     0.12148,     0.12097,     0.12097,     0.12097,     0.12097,     0.12097,     0.12097,     0.12097,     0.12097,     0.12097,     0.12097,     0.12097,     0.12097,     0.12097,     0.12097,\n",
              "            0.12097,     0.12097,     0.12097,     0.12097,     0.12002,     0.12002,     0.11804,     0.11804,     0.11804,     0.11804,     0.11804,     0.11804,     0.11804,     0.11804,     0.11678,     0.11678,     0.11678,     0.11447,     0.11447,     0.11267,     0.11267,     0.11267,     0.10404,\n",
              "            0.10404,     0.10404,     0.10404,     0.10404,     0.10382,     0.10382,     0.10356,     0.10356,     0.10356,     0.10086,     0.10086,     0.10086,     0.10086,     0.10086,      0.1004,      0.1004,      0.1004,      0.1004,      0.1004,    0.099867,    0.099867,    0.099867,    0.098997,\n",
              "           0.098997,    0.098744,    0.098744,    0.098744,    0.098031,    0.098031,    0.093042,    0.093042,    0.093042,    0.092474,    0.092474,    0.084795,    0.084795,    0.084795,    0.084532,    0.084532,    0.084532,    0.084532,    0.084532,    0.084532,    0.084532,    0.082894,    0.082894,\n",
              "           0.082894,    0.081865,    0.081865,    0.081201,    0.081201,    0.081201,     0.07813,     0.07813,    0.076997,    0.076997,    0.076997,    0.075008,    0.075008,    0.075008,    0.074876,    0.074876,    0.074131,    0.074131,    0.074131,    0.073649,    0.073649,     0.07014,     0.07014,\n",
              "            0.07014,      0.0686,      0.0686,    0.066273,    0.066273,    0.066273,    0.066262,    0.066262,    0.066262,    0.066262,    0.066262,    0.066262,    0.066262,    0.066262,    0.066262,    0.066262,    0.065814,    0.065814,    0.065476,    0.065476,    0.065476,    0.065262,    0.065262,\n",
              "           0.065262,    0.064902,    0.064902,    0.064338,    0.064338,    0.064338,    0.063457,    0.063457,    0.061224,    0.061224,    0.061224,    0.057263,    0.057263,    0.055722,    0.055722,    0.055722,     0.05433,     0.05433,    0.053799,    0.053799,    0.053799,    0.052568,    0.052568,\n",
              "           0.051084,    0.051084,    0.051084,    0.049665,    0.049665,    0.049665,    0.049665,    0.049665,    0.049665,    0.049665,    0.049538,    0.049538,    0.049538,    0.049394,    0.049394,    0.049394,    0.047966,    0.047966,    0.047544,    0.047544,    0.047544,    0.047126,    0.047126,\n",
              "           0.047126,    0.047126,    0.047126,    0.045919,    0.045919,    0.045826,    0.045826,    0.045826,    0.043942,    0.043942,    0.043822,    0.043822,    0.043822,    0.043745,    0.043745,    0.042897,    0.042897,    0.042897,    0.042827,    0.042827,    0.041915,    0.041915,    0.041915,\n",
              "           0.041809,    0.041809,    0.041809,    0.041435,    0.041435,    0.041393,    0.041393,    0.041393,    0.040621,    0.040621,    0.040544,    0.040544,    0.040544,    0.040101,    0.040101,    0.039216,    0.039216,    0.039216,    0.039216,    0.039216,    0.039216,    0.039216,    0.039216,\n",
              "           0.039134,    0.039134,     0.03812,     0.03812,     0.03812,    0.037244,    0.037244,    0.036216,    0.036216,    0.036216,    0.034862,    0.034862,    0.034125,    0.034125,    0.034125,    0.033651,    0.033651,    0.033651,    0.033476,    0.033476,    0.033274,    0.033274,    0.033274,\n",
              "           0.033043,    0.033043,    0.032689,    0.032689,    0.032689,    0.030939,    0.030939,    0.029864,    0.029864,    0.029864,    0.029412,    0.029412,    0.029412,    0.029412,    0.029412,    0.028868,    0.028868,     0.02807,     0.02807,     0.02807,    0.026211,    0.026211,     0.02566,\n",
              "            0.02566,     0.02566,     0.02566,     0.02566,     0.02566,     0.02566,     0.02566,    0.024523,    0.024523,    0.024523,    0.024241,    0.024241,    0.023927,    0.023927,    0.023927,    0.023927,    0.023927,    0.022304,    0.022304,    0.022304,    0.022114,    0.022114,    0.021705,\n",
              "           0.021705,    0.021705,    0.021553,    0.021553,    0.020235,    0.020235,    0.020235,    0.019988,    0.019988,    0.019988,    0.019988,    0.019988,    0.019803,    0.019803,    0.019605,    0.019605,    0.019605,    0.019448,    0.019448,    0.019448,     0.01941,     0.01941,     0.01941,\n",
              "            0.01941,     0.01941,    0.019287,    0.019287,    0.018055,    0.018055,    0.018055,    0.017927,    0.017927,    0.017406,    0.017406,    0.017406,    0.016656,    0.016656,    0.016476,    0.016476,    0.016476,    0.015993,    0.015993,    0.015285,    0.015285,    0.015285,    0.013511,\n",
              "           0.013511,    0.013511,    0.013511,    0.013511,    0.013297,    0.013205,    0.013113,     0.01302,    0.012928,    0.012836,    0.012743,    0.012651,    0.012559,    0.012466,    0.012374,    0.012282,    0.012189,    0.012097,    0.012005,    0.011912,     0.01182,    0.011728,    0.011635,\n",
              "           0.011543,    0.011451,    0.011358,    0.011266,    0.011174,    0.011081,    0.010989,    0.010897,    0.010804,    0.010712,     0.01062,    0.010527,    0.010435,    0.010342,     0.01025,    0.010158,    0.010065,   0.0099731,   0.0098808,   0.0097884,   0.0096961,   0.0096037,   0.0095114,\n",
              "          0.0094191,   0.0093267,   0.0092344,    0.009142,   0.0090497,   0.0089573,    0.008865,   0.0087726,   0.0086803,    0.008588,   0.0084956,   0.0084033,   0.0083109,   0.0082186,   0.0081262,   0.0080339,   0.0079416,   0.0078492,   0.0077569,   0.0076645,   0.0075722,   0.0074798,   0.0073875,\n",
              "          0.0072952,   0.0072028,   0.0071105,   0.0070181,   0.0069258,   0.0068334,   0.0067411,   0.0066487,   0.0065564,   0.0064641,   0.0063717,   0.0062794,    0.006187,   0.0060947,   0.0060023,     0.00591,   0.0058177,   0.0057253,    0.005633,   0.0055406,   0.0054483,   0.0053559,   0.0052636,\n",
              "          0.0051712,   0.0050789,   0.0049866,   0.0048942,   0.0048019,   0.0047095,   0.0046172,   0.0045248,   0.0044325,   0.0043402,   0.0042478,   0.0041555,   0.0040631,   0.0039708,   0.0038784,   0.0037861,   0.0036937,   0.0036014,   0.0035091,   0.0034167,   0.0033244,    0.003232,   0.0031397,\n",
              "          0.0030473,    0.002955,   0.0028627,   0.0027703,    0.002678,   0.0025856,   0.0024933,   0.0024009,   0.0023086,   0.0022162,   0.0021239,   0.0020316,   0.0019392,   0.0018469,   0.0017545,   0.0016622,   0.0015698,   0.0014775,   0.0013852,   0.0012928,   0.0012005,   0.0011081,   0.0010158,\n",
              "         0.00092344,  0.00083109,  0.00073875,  0.00064641,  0.00055406,  0.00046172,  0.00036937,  0.00027703,  0.00018469,  9.2344e-05,           0]]), 'Recall', 'Precision'], [array([          0,    0.001001,    0.002002,    0.003003,    0.004004,    0.005005,    0.006006,    0.007007,    0.008008,    0.009009,     0.01001,    0.011011,    0.012012,    0.013013,    0.014014,    0.015015,    0.016016,    0.017017,    0.018018,    0.019019,     0.02002,    0.021021,    0.022022,    0.023023,\n",
              "          0.024024,    0.025025,    0.026026,    0.027027,    0.028028,    0.029029,     0.03003,    0.031031,    0.032032,    0.033033,    0.034034,    0.035035,    0.036036,    0.037037,    0.038038,    0.039039,     0.04004,    0.041041,    0.042042,    0.043043,    0.044044,    0.045045,    0.046046,    0.047047,\n",
              "          0.048048,    0.049049,     0.05005,    0.051051,    0.052052,    0.053053,    0.054054,    0.055055,    0.056056,    0.057057,    0.058058,    0.059059,     0.06006,    0.061061,    0.062062,    0.063063,    0.064064,    0.065065,    0.066066,    0.067067,    0.068068,    0.069069,     0.07007,    0.071071,\n",
              "          0.072072,    0.073073,    0.074074,    0.075075,    0.076076,    0.077077,    0.078078,    0.079079,     0.08008,    0.081081,    0.082082,    0.083083,    0.084084,    0.085085,    0.086086,    0.087087,    0.088088,    0.089089,     0.09009,    0.091091,    0.092092,    0.093093,    0.094094,    0.095095,\n",
              "          0.096096,    0.097097,    0.098098,    0.099099,      0.1001,      0.1011,      0.1021,      0.1031,      0.1041,     0.10511,     0.10611,     0.10711,     0.10811,     0.10911,     0.11011,     0.11111,     0.11211,     0.11311,     0.11411,     0.11512,     0.11612,     0.11712,     0.11812,     0.11912,\n",
              "           0.12012,     0.12112,     0.12212,     0.12312,     0.12412,     0.12513,     0.12613,     0.12713,     0.12813,     0.12913,     0.13013,     0.13113,     0.13213,     0.13313,     0.13413,     0.13514,     0.13614,     0.13714,     0.13814,     0.13914,     0.14014,     0.14114,     0.14214,     0.14314,\n",
              "           0.14414,     0.14515,     0.14615,     0.14715,     0.14815,     0.14915,     0.15015,     0.15115,     0.15215,     0.15315,     0.15415,     0.15516,     0.15616,     0.15716,     0.15816,     0.15916,     0.16016,     0.16116,     0.16216,     0.16316,     0.16416,     0.16517,     0.16617,     0.16717,\n",
              "           0.16817,     0.16917,     0.17017,     0.17117,     0.17217,     0.17317,     0.17417,     0.17518,     0.17618,     0.17718,     0.17818,     0.17918,     0.18018,     0.18118,     0.18218,     0.18318,     0.18418,     0.18519,     0.18619,     0.18719,     0.18819,     0.18919,     0.19019,     0.19119,\n",
              "           0.19219,     0.19319,     0.19419,      0.1952,      0.1962,      0.1972,      0.1982,      0.1992,      0.2002,      0.2012,      0.2022,      0.2032,      0.2042,     0.20521,     0.20621,     0.20721,     0.20821,     0.20921,     0.21021,     0.21121,     0.21221,     0.21321,     0.21421,     0.21522,\n",
              "           0.21622,     0.21722,     0.21822,     0.21922,     0.22022,     0.22122,     0.22222,     0.22322,     0.22422,     0.22523,     0.22623,     0.22723,     0.22823,     0.22923,     0.23023,     0.23123,     0.23223,     0.23323,     0.23423,     0.23524,     0.23624,     0.23724,     0.23824,     0.23924,\n",
              "           0.24024,     0.24124,     0.24224,     0.24324,     0.24424,     0.24525,     0.24625,     0.24725,     0.24825,     0.24925,     0.25025,     0.25125,     0.25225,     0.25325,     0.25425,     0.25526,     0.25626,     0.25726,     0.25826,     0.25926,     0.26026,     0.26126,     0.26226,     0.26326,\n",
              "           0.26426,     0.26527,     0.26627,     0.26727,     0.26827,     0.26927,     0.27027,     0.27127,     0.27227,     0.27327,     0.27427,     0.27528,     0.27628,     0.27728,     0.27828,     0.27928,     0.28028,     0.28128,     0.28228,     0.28328,     0.28428,     0.28529,     0.28629,     0.28729,\n",
              "           0.28829,     0.28929,     0.29029,     0.29129,     0.29229,     0.29329,     0.29429,      0.2953,      0.2963,      0.2973,      0.2983,      0.2993,      0.3003,      0.3013,      0.3023,      0.3033,      0.3043,     0.30531,     0.30631,     0.30731,     0.30831,     0.30931,     0.31031,     0.31131,\n",
              "           0.31231,     0.31331,     0.31431,     0.31532,     0.31632,     0.31732,     0.31832,     0.31932,     0.32032,     0.32132,     0.32232,     0.32332,     0.32432,     0.32533,     0.32633,     0.32733,     0.32833,     0.32933,     0.33033,     0.33133,     0.33233,     0.33333,     0.33433,     0.33534,\n",
              "           0.33634,     0.33734,     0.33834,     0.33934,     0.34034,     0.34134,     0.34234,     0.34334,     0.34434,     0.34535,     0.34635,     0.34735,     0.34835,     0.34935,     0.35035,     0.35135,     0.35235,     0.35335,     0.35435,     0.35536,     0.35636,     0.35736,     0.35836,     0.35936,\n",
              "           0.36036,     0.36136,     0.36236,     0.36336,     0.36436,     0.36537,     0.36637,     0.36737,     0.36837,     0.36937,     0.37037,     0.37137,     0.37237,     0.37337,     0.37437,     0.37538,     0.37638,     0.37738,     0.37838,     0.37938,     0.38038,     0.38138,     0.38238,     0.38338,\n",
              "           0.38438,     0.38539,     0.38639,     0.38739,     0.38839,     0.38939,     0.39039,     0.39139,     0.39239,     0.39339,     0.39439,      0.3954,      0.3964,      0.3974,      0.3984,      0.3994,      0.4004,      0.4014,      0.4024,      0.4034,      0.4044,     0.40541,     0.40641,     0.40741,\n",
              "           0.40841,     0.40941,     0.41041,     0.41141,     0.41241,     0.41341,     0.41441,     0.41542,     0.41642,     0.41742,     0.41842,     0.41942,     0.42042,     0.42142,     0.42242,     0.42342,     0.42442,     0.42543,     0.42643,     0.42743,     0.42843,     0.42943,     0.43043,     0.43143,\n",
              "           0.43243,     0.43343,     0.43443,     0.43544,     0.43644,     0.43744,     0.43844,     0.43944,     0.44044,     0.44144,     0.44244,     0.44344,     0.44444,     0.44545,     0.44645,     0.44745,     0.44845,     0.44945,     0.45045,     0.45145,     0.45245,     0.45345,     0.45445,     0.45546,\n",
              "           0.45646,     0.45746,     0.45846,     0.45946,     0.46046,     0.46146,     0.46246,     0.46346,     0.46446,     0.46547,     0.46647,     0.46747,     0.46847,     0.46947,     0.47047,     0.47147,     0.47247,     0.47347,     0.47447,     0.47548,     0.47648,     0.47748,     0.47848,     0.47948,\n",
              "           0.48048,     0.48148,     0.48248,     0.48348,     0.48448,     0.48549,     0.48649,     0.48749,     0.48849,     0.48949,     0.49049,     0.49149,     0.49249,     0.49349,     0.49449,      0.4955,      0.4965,      0.4975,      0.4985,      0.4995,      0.5005,      0.5015,      0.5025,      0.5035,\n",
              "            0.5045,     0.50551,     0.50651,     0.50751,     0.50851,     0.50951,     0.51051,     0.51151,     0.51251,     0.51351,     0.51451,     0.51552,     0.51652,     0.51752,     0.51852,     0.51952,     0.52052,     0.52152,     0.52252,     0.52352,     0.52452,     0.52553,     0.52653,     0.52753,\n",
              "           0.52853,     0.52953,     0.53053,     0.53153,     0.53253,     0.53353,     0.53453,     0.53554,     0.53654,     0.53754,     0.53854,     0.53954,     0.54054,     0.54154,     0.54254,     0.54354,     0.54454,     0.54555,     0.54655,     0.54755,     0.54855,     0.54955,     0.55055,     0.55155,\n",
              "           0.55255,     0.55355,     0.55455,     0.55556,     0.55656,     0.55756,     0.55856,     0.55956,     0.56056,     0.56156,     0.56256,     0.56356,     0.56456,     0.56557,     0.56657,     0.56757,     0.56857,     0.56957,     0.57057,     0.57157,     0.57257,     0.57357,     0.57457,     0.57558,\n",
              "           0.57658,     0.57758,     0.57858,     0.57958,     0.58058,     0.58158,     0.58258,     0.58358,     0.58458,     0.58559,     0.58659,     0.58759,     0.58859,     0.58959,     0.59059,     0.59159,     0.59259,     0.59359,     0.59459,      0.5956,      0.5966,      0.5976,      0.5986,      0.5996,\n",
              "            0.6006,      0.6016,      0.6026,      0.6036,      0.6046,     0.60561,     0.60661,     0.60761,     0.60861,     0.60961,     0.61061,     0.61161,     0.61261,     0.61361,     0.61461,     0.61562,     0.61662,     0.61762,     0.61862,     0.61962,     0.62062,     0.62162,     0.62262,     0.62362,\n",
              "           0.62462,     0.62563,     0.62663,     0.62763,     0.62863,     0.62963,     0.63063,     0.63163,     0.63263,     0.63363,     0.63463,     0.63564,     0.63664,     0.63764,     0.63864,     0.63964,     0.64064,     0.64164,     0.64264,     0.64364,     0.64464,     0.64565,     0.64665,     0.64765,\n",
              "           0.64865,     0.64965,     0.65065,     0.65165,     0.65265,     0.65365,     0.65465,     0.65566,     0.65666,     0.65766,     0.65866,     0.65966,     0.66066,     0.66166,     0.66266,     0.66366,     0.66466,     0.66567,     0.66667,     0.66767,     0.66867,     0.66967,     0.67067,     0.67167,\n",
              "           0.67267,     0.67367,     0.67467,     0.67568,     0.67668,     0.67768,     0.67868,     0.67968,     0.68068,     0.68168,     0.68268,     0.68368,     0.68468,     0.68569,     0.68669,     0.68769,     0.68869,     0.68969,     0.69069,     0.69169,     0.69269,     0.69369,     0.69469,      0.6957,\n",
              "            0.6967,      0.6977,      0.6987,      0.6997,      0.7007,      0.7017,      0.7027,      0.7037,      0.7047,     0.70571,     0.70671,     0.70771,     0.70871,     0.70971,     0.71071,     0.71171,     0.71271,     0.71371,     0.71471,     0.71572,     0.71672,     0.71772,     0.71872,     0.71972,\n",
              "           0.72072,     0.72172,     0.72272,     0.72372,     0.72472,     0.72573,     0.72673,     0.72773,     0.72873,     0.72973,     0.73073,     0.73173,     0.73273,     0.73373,     0.73473,     0.73574,     0.73674,     0.73774,     0.73874,     0.73974,     0.74074,     0.74174,     0.74274,     0.74374,\n",
              "           0.74474,     0.74575,     0.74675,     0.74775,     0.74875,     0.74975,     0.75075,     0.75175,     0.75275,     0.75375,     0.75475,     0.75576,     0.75676,     0.75776,     0.75876,     0.75976,     0.76076,     0.76176,     0.76276,     0.76376,     0.76476,     0.76577,     0.76677,     0.76777,\n",
              "           0.76877,     0.76977,     0.77077,     0.77177,     0.77277,     0.77377,     0.77477,     0.77578,     0.77678,     0.77778,     0.77878,     0.77978,     0.78078,     0.78178,     0.78278,     0.78378,     0.78478,     0.78579,     0.78679,     0.78779,     0.78879,     0.78979,     0.79079,     0.79179,\n",
              "           0.79279,     0.79379,     0.79479,      0.7958,      0.7968,      0.7978,      0.7988,      0.7998,      0.8008,      0.8018,      0.8028,      0.8038,      0.8048,     0.80581,     0.80681,     0.80781,     0.80881,     0.80981,     0.81081,     0.81181,     0.81281,     0.81381,     0.81481,     0.81582,\n",
              "           0.81682,     0.81782,     0.81882,     0.81982,     0.82082,     0.82182,     0.82282,     0.82382,     0.82482,     0.82583,     0.82683,     0.82783,     0.82883,     0.82983,     0.83083,     0.83183,     0.83283,     0.83383,     0.83483,     0.83584,     0.83684,     0.83784,     0.83884,     0.83984,\n",
              "           0.84084,     0.84184,     0.84284,     0.84384,     0.84484,     0.84585,     0.84685,     0.84785,     0.84885,     0.84985,     0.85085,     0.85185,     0.85285,     0.85385,     0.85485,     0.85586,     0.85686,     0.85786,     0.85886,     0.85986,     0.86086,     0.86186,     0.86286,     0.86386,\n",
              "           0.86486,     0.86587,     0.86687,     0.86787,     0.86887,     0.86987,     0.87087,     0.87187,     0.87287,     0.87387,     0.87487,     0.87588,     0.87688,     0.87788,     0.87888,     0.87988,     0.88088,     0.88188,     0.88288,     0.88388,     0.88488,     0.88589,     0.88689,     0.88789,\n",
              "           0.88889,     0.88989,     0.89089,     0.89189,     0.89289,     0.89389,     0.89489,      0.8959,      0.8969,      0.8979,      0.8989,      0.8999,      0.9009,      0.9019,      0.9029,      0.9039,      0.9049,     0.90591,     0.90691,     0.90791,     0.90891,     0.90991,     0.91091,     0.91191,\n",
              "           0.91291,     0.91391,     0.91491,     0.91592,     0.91692,     0.91792,     0.91892,     0.91992,     0.92092,     0.92192,     0.92292,     0.92392,     0.92492,     0.92593,     0.92693,     0.92793,     0.92893,     0.92993,     0.93093,     0.93193,     0.93293,     0.93393,     0.93493,     0.93594,\n",
              "           0.93694,     0.93794,     0.93894,     0.93994,     0.94094,     0.94194,     0.94294,     0.94394,     0.94494,     0.94595,     0.94695,     0.94795,     0.94895,     0.94995,     0.95095,     0.95195,     0.95295,     0.95395,     0.95495,     0.95596,     0.95696,     0.95796,     0.95896,     0.95996,\n",
              "           0.96096,     0.96196,     0.96296,     0.96396,     0.96496,     0.96597,     0.96697,     0.96797,     0.96897,     0.96997,     0.97097,     0.97197,     0.97297,     0.97397,     0.97497,     0.97598,     0.97698,     0.97798,     0.97898,     0.97998,     0.98098,     0.98198,     0.98298,     0.98398,\n",
              "           0.98498,     0.98599,     0.98699,     0.98799,     0.98899,     0.98999,     0.99099,     0.99199,     0.99299,     0.99399,     0.99499,       0.996,       0.997,       0.998,       0.999,           1]), array([[   0.026282,    0.026298,     0.03744,    0.045206,    0.052226,    0.058539,    0.064402,     0.07006,    0.074895,    0.078879,    0.082946,    0.087781,    0.091647,    0.094666,    0.098697,      0.1024,     0.10645,     0.11063,     0.11395,      0.1169,     0.11916,     0.12041,      0.1239,\n",
              "            0.12757,     0.13123,     0.13314,     0.13506,     0.13786,     0.13992,     0.14304,     0.14527,     0.14702,     0.14764,     0.15032,     0.15336,     0.15621,     0.15939,     0.16146,     0.16432,     0.16708,     0.16846,     0.16961,     0.16977,     0.17051,     0.17274,     0.17438,\n",
              "            0.17511,     0.17739,      0.1794,     0.18194,     0.18398,     0.18564,     0.18692,     0.18878,     0.19043,     0.19167,     0.19274,     0.19398,     0.19555,     0.19698,     0.19503,     0.19535,     0.19772,      0.1998,     0.20095,     0.20227,     0.20404,     0.20619,     0.20672,\n",
              "            0.20862,     0.20942,     0.20995,     0.21081,     0.21195,     0.21388,     0.21593,     0.21715,     0.21852,     0.22033,     0.22109,     0.22248,     0.22239,     0.22379,     0.22475,     0.22648,      0.2263,     0.22817,     0.22987,     0.23164,     0.23228,     0.23283,     0.23419,\n",
              "            0.23633,     0.23381,     0.23484,     0.23622,     0.23682,     0.23836,     0.23903,     0.23948,     0.23869,     0.24122,     0.24366,     0.24578,     0.24646,      0.2467,     0.24799,     0.24803,     0.24993,     0.25043,     0.25204,     0.25361,     0.25357,     0.25488,     0.25249,\n",
              "            0.25367,     0.25443,     0.25614,      0.2555,     0.25648,     0.25759,     0.25606,     0.25491,     0.25578,     0.25691,      0.2563,     0.25658,      0.2572,     0.25693,     0.25439,     0.25546,     0.25637,     0.25847,      0.2601,     0.26159,     0.26293,     0.26191,     0.26374,\n",
              "            0.26292,     0.26435,     0.26405,     0.26467,     0.26542,     0.26505,     0.26642,     0.26637,     0.26728,     0.26808,      0.2679,     0.26769,     0.26931,     0.27097,     0.27199,     0.27179,     0.27306,     0.27404,     0.27559,     0.27622,     0.27683,     0.27783,     0.27798,\n",
              "            0.27825,     0.28001,     0.28144,     0.27996,     0.27962,      0.2792,     0.28032,     0.28073,     0.28145,     0.28367,     0.28255,     0.28234,     0.28344,     0.28378,     0.28495,     0.28606,     0.28732,      0.2883,     0.28716,     0.28587,     0.28626,     0.28629,     0.28581,\n",
              "            0.28585,     0.28604,     0.28643,     0.28601,      0.2865,      0.2884,     0.28817,     0.28863,     0.28839,      0.2891,     0.28855,     0.28734,     0.28792,     0.28822,     0.28525,     0.28761,     0.28856,     0.28901,     0.29059,     0.29177,     0.29075,     0.28951,     0.28896,\n",
              "            0.28761,      0.2861,      0.2865,     0.28776,     0.28875,     0.29019,     0.29038,     0.29072,      0.2913,     0.29152,     0.29273,     0.29324,     0.29514,     0.29587,     0.29538,     0.29597,     0.29652,     0.29816,     0.29891,      0.3002,     0.30138,     0.30171,     0.30226,\n",
              "            0.30379,     0.30504,     0.30414,     0.30409,     0.30454,     0.30322,      0.3044,     0.30279,     0.30002,     0.30129,     0.30207,     0.30276,     0.30321,     0.30368,     0.30233,     0.30164,     0.30089,     0.30059,     0.30174,     0.30219,     0.30246,     0.30175,     0.30254,\n",
              "            0.30309,     0.30332,     0.30354,     0.30377,     0.30429,     0.30515,      0.3055,     0.30629,      0.3069,     0.30576,     0.30682,      0.3079,     0.30894,     0.30931,     0.30939,     0.30855,     0.30951,     0.31064,     0.31089,     0.31214,      0.3113,     0.31242,     0.31274,\n",
              "            0.31337,     0.31367,      0.3145,     0.31511,     0.31535,     0.31688,     0.31543,     0.31375,     0.31395,     0.31296,     0.31461,     0.31508,     0.31603,     0.31688,     0.31753,     0.31819,     0.31624,     0.31222,     0.30989,     0.31015,     0.31098,     0.30887,     0.30902,\n",
              "            0.30916,      0.3093,     0.30943,     0.30957,      0.3059,     0.30743,     0.30553,     0.30446,     0.30435,     0.30468,     0.30281,     0.30298,     0.30315,      0.3035,     0.30146,     0.29991,     0.30052,     0.30062,     0.30073,     0.30083,     0.30118,     0.30186,     0.30214,\n",
              "            0.30279,      0.3031,     0.30427,     0.30292,      0.3036,     0.30278,     0.30074,     0.29907,     0.29991,     0.29856,     0.29764,     0.29852,     0.29861,     0.29641,      0.2944,     0.29186,     0.29221,     0.29268,     0.28801,     0.28826,     0.28937,     0.29111,     0.29138,\n",
              "            0.28965,     0.28936,     0.29026,     0.29049,     0.29146,     0.29231,     0.29283,     0.29186,     0.28964,     0.28545,     0.28504,     0.28554,     0.28394,     0.28103,     0.28113,     0.27928,     0.27965,     0.27817,     0.27948,     0.27994,     0.27985,     0.27701,     0.27484,\n",
              "            0.27495,     0.27506,     0.27517,     0.27527,     0.27552,     0.27582,     0.27563,     0.27336,     0.27353,     0.27369,     0.27394,     0.27471,     0.27546,     0.27518,     0.27097,      0.2684,     0.26717,     0.26603,     0.26636,     0.26659,     0.26696,     0.26432,      0.2627,\n",
              "             0.2597,     0.25796,     0.25857,     0.25615,     0.25633,      0.2565,     0.25719,     0.25275,     0.25213,     0.25254,     0.25196,     0.25082,     0.24967,     0.24761,     0.24616,     0.24535,     0.24453,     0.24368,     0.24161,     0.23839,     0.23768,     0.23804,     0.23836,\n",
              "            0.23862,     0.23577,     0.23406,     0.23301,     0.23042,     0.23189,      0.2287,     0.22678,      0.2234,     0.22266,      0.2228,     0.22294,     0.22242,     0.21979,     0.21998,     0.21996,     0.21877,     0.21758,     0.21765,     0.21771,     0.21778,     0.21784,     0.21791,\n",
              "            0.21797,     0.21804,     0.21848,     0.21862,     0.21877,     0.21777,     0.21615,     0.21657,     0.21527,     0.21315,     0.21257,     0.21199,     0.21141,     0.21083,     0.21025,     0.21025,     0.21044,     0.21056,     0.21068,     0.20781,      0.2056,     0.20122,     0.19823,\n",
              "            0.19801,     0.19846,     0.19883,     0.19925,     0.19951,     0.19973,     0.19993,     0.20083,     0.20105,      0.2017,     0.19911,     0.19693,      0.1949,     0.19236,     0.19214,     0.19229,     0.19267,      0.1916,     0.19024,     0.18829,     0.18492,     0.18179,     0.17419,\n",
              "            0.17152,     0.17154,     0.17175,     0.17197,     0.16876,     0.16538,      0.1656,     0.16613,     0.16634,     0.16641,     0.16649,     0.16656,     0.16664,       0.164,     0.16326,     0.16339,     0.16351,     0.16362,     0.16374,     0.16385,     0.16372,     0.16257,     0.16141,\n",
              "            0.16016,     0.15751,     0.15338,      0.1529,     0.15302,     0.15314,     0.15338,      0.1536,     0.15374,     0.15006,     0.15035,     0.14958,     0.14882,     0.14805,     0.14728,     0.14656,     0.14677,     0.14618,      0.1448,     0.14341,     0.14228,     0.14132,     0.14035,\n",
              "            0.13939,     0.13743,     0.13455,     0.13344,     0.13234,     0.13124,     0.13032,     0.12957,     0.12882,     0.12807,     0.12732,     0.12665,     0.12674,     0.12683,     0.12692,     0.12703,     0.12714,     0.12675,      0.1258,     0.12485,      0.1239,     0.12309,     0.12319,\n",
              "            0.12329,     0.12364,     0.12371,     0.12378,     0.12385,     0.12294,     0.11975,      0.1199,     0.11765,     0.11601,     0.11258,     0.11202,     0.11217,     0.11229,     0.10981,    0.099818,    0.099918,    0.096998,     0.09572,    0.095771,    0.095822,    0.095872,    0.096128,\n",
              "           0.096219,    0.096309,    0.096375,    0.096433,    0.096491,    0.096548,    0.096623,    0.096698,    0.096772,    0.092597,    0.092637,    0.092678,    0.092717,    0.092757,    0.092796,    0.092942,    0.088658,    0.084177,    0.082746,    0.081314,    0.079881,    0.079973,    0.080143,\n",
              "           0.079765,    0.079184,    0.078603,    0.078022,     0.07744,    0.076859,    0.076277,    0.075695,    0.075672,    0.075696,     0.07572,    0.075743,    0.075766,    0.075789,    0.075812,    0.075682,    0.075006,    0.074329,    0.073653,    0.072976,    0.072299,    0.071621,    0.068987,\n",
              "           0.066708,    0.066785,    0.066854,    0.066914,    0.066972,    0.066664,    0.066238,    0.065813,    0.065387,    0.064962,    0.064536,     0.06411,    0.063684,    0.063258,    0.062832,    0.062406,    0.057757,    0.056399,    0.045267,     0.04372,    0.043755,    0.043788,    0.043829,\n",
              "            0.04387,    0.043599,     0.04207,     0.04054,    0.039175,    0.034418,    0.034449,    0.034479,    0.034491,    0.034502,    0.034511,    0.034521,    0.034531,     0.03454,    0.034549,    0.034558,    0.034567,    0.034584,    0.034601,    0.034618,    0.034634,     0.03465,     0.03402,\n",
              "           0.033202,    0.032383,    0.031564,    0.030744,    0.029924,    0.028845,    0.027708,    0.026571,    0.025433,    0.024885,    0.024904,    0.024921,    0.024936,    0.023441,    0.021796,    0.020149,    0.019601,    0.019163,    0.018725,    0.018287,    0.017848,    0.017409,    0.016971,\n",
              "           0.016532,    0.016093,    0.015654,    0.015214,    0.015039,    0.015043,    0.015046,    0.015048,    0.015051,    0.015054,    0.015057,    0.015059,    0.015062,    0.015064,    0.015066,    0.015069,    0.015071,    0.015073,    0.015075,    0.014664,    0.014162,    0.013661,    0.013159,\n",
              "           0.012657,    0.012155,    0.011652,     0.01115,    0.010647,    0.010144,    0.010079,    0.010082,    0.010085,    0.010087,     0.01009,    0.010092,    0.010094,    0.010096,    0.010098,      0.0101,    0.010078,   0.0099985,   0.0099189,   0.0098393,   0.0097596,     0.00968,   0.0096003,\n",
              "          0.0095207,    0.009441,   0.0093613,   0.0092817,    0.009202,   0.0091223,   0.0090426,   0.0089629,   0.0088832,   0.0088035,   0.0087238,    0.008644,   0.0085643,   0.0084846,   0.0084048,   0.0083251,   0.0082453,   0.0081656,   0.0080858,    0.008006,   0.0079262,   0.0078464,   0.0077666,\n",
              "          0.0076868,    0.007607,   0.0075272,   0.0074474,   0.0073676,   0.0072877,   0.0072079,    0.007128,   0.0070482,   0.0069683,   0.0068885,   0.0068086,   0.0067287,   0.0066488,   0.0065689,    0.006489,   0.0064091,   0.0063292,   0.0062493,   0.0061694,   0.0060894,   0.0060095,   0.0059296,\n",
              "          0.0058496,   0.0057697,   0.0056897,   0.0056097,   0.0055298,   0.0054498,   0.0053698,   0.0052898,   0.0052098,   0.0051298,           0,           0,           0,           0,           0,           0,           0,           0,           0,           0,           0,           0,           0,\n",
              "                  0,           0,           0,           0,           0,           0,           0,           0,           0,           0,           0,           0,           0,           0,           0,           0,           0,           0,           0,           0,           0,           0,           0,\n",
              "                  0,           0,           0,           0,           0,           0,           0,           0,           0,           0,           0,           0,           0,           0,           0,           0,           0,           0,           0,           0,           0,           0,           0,\n",
              "                  0,           0,           0,           0,           0,           0,           0,           0,           0,           0,           0,           0,           0,           0,           0,           0,           0,           0,           0,           0,           0,           0,           0,\n",
              "                  0,           0,           0,           0,           0,           0,           0,           0,           0,           0,           0,           0,           0,           0,           0,           0,           0,           0,           0,           0,           0,           0,           0,\n",
              "                  0,           0,           0,           0,           0,           0,           0,           0,           0,           0,           0,           0,           0,           0,           0,           0,           0,           0,           0,           0,           0,           0,           0,\n",
              "                  0,           0,           0,           0,           0,           0,           0,           0,           0,           0,           0,           0,           0,           0,           0,           0,           0,           0,           0,           0,           0,           0,           0,\n",
              "                  0,           0,           0,           0,           0,           0,           0,           0,           0,           0,           0,           0,           0,           0,           0,           0,           0,           0,           0,           0,           0,           0,           0,\n",
              "                  0,           0,           0,           0,           0,           0,           0,           0,           0,           0,           0,           0,           0,           0,           0,           0,           0,           0,           0,           0,           0,           0,           0,\n",
              "                  0,           0,           0,           0,           0,           0,           0,           0,           0,           0,           0]]), 'Confidence', 'F1'], [array([          0,    0.001001,    0.002002,    0.003003,    0.004004,    0.005005,    0.006006,    0.007007,    0.008008,    0.009009,     0.01001,    0.011011,    0.012012,    0.013013,    0.014014,    0.015015,    0.016016,    0.017017,    0.018018,    0.019019,     0.02002,    0.021021,    0.022022,    0.023023,\n",
              "          0.024024,    0.025025,    0.026026,    0.027027,    0.028028,    0.029029,     0.03003,    0.031031,    0.032032,    0.033033,    0.034034,    0.035035,    0.036036,    0.037037,    0.038038,    0.039039,     0.04004,    0.041041,    0.042042,    0.043043,    0.044044,    0.045045,    0.046046,    0.047047,\n",
              "          0.048048,    0.049049,     0.05005,    0.051051,    0.052052,    0.053053,    0.054054,    0.055055,    0.056056,    0.057057,    0.058058,    0.059059,     0.06006,    0.061061,    0.062062,    0.063063,    0.064064,    0.065065,    0.066066,    0.067067,    0.068068,    0.069069,     0.07007,    0.071071,\n",
              "          0.072072,    0.073073,    0.074074,    0.075075,    0.076076,    0.077077,    0.078078,    0.079079,     0.08008,    0.081081,    0.082082,    0.083083,    0.084084,    0.085085,    0.086086,    0.087087,    0.088088,    0.089089,     0.09009,    0.091091,    0.092092,    0.093093,    0.094094,    0.095095,\n",
              "          0.096096,    0.097097,    0.098098,    0.099099,      0.1001,      0.1011,      0.1021,      0.1031,      0.1041,     0.10511,     0.10611,     0.10711,     0.10811,     0.10911,     0.11011,     0.11111,     0.11211,     0.11311,     0.11411,     0.11512,     0.11612,     0.11712,     0.11812,     0.11912,\n",
              "           0.12012,     0.12112,     0.12212,     0.12312,     0.12412,     0.12513,     0.12613,     0.12713,     0.12813,     0.12913,     0.13013,     0.13113,     0.13213,     0.13313,     0.13413,     0.13514,     0.13614,     0.13714,     0.13814,     0.13914,     0.14014,     0.14114,     0.14214,     0.14314,\n",
              "           0.14414,     0.14515,     0.14615,     0.14715,     0.14815,     0.14915,     0.15015,     0.15115,     0.15215,     0.15315,     0.15415,     0.15516,     0.15616,     0.15716,     0.15816,     0.15916,     0.16016,     0.16116,     0.16216,     0.16316,     0.16416,     0.16517,     0.16617,     0.16717,\n",
              "           0.16817,     0.16917,     0.17017,     0.17117,     0.17217,     0.17317,     0.17417,     0.17518,     0.17618,     0.17718,     0.17818,     0.17918,     0.18018,     0.18118,     0.18218,     0.18318,     0.18418,     0.18519,     0.18619,     0.18719,     0.18819,     0.18919,     0.19019,     0.19119,\n",
              "           0.19219,     0.19319,     0.19419,      0.1952,      0.1962,      0.1972,      0.1982,      0.1992,      0.2002,      0.2012,      0.2022,      0.2032,      0.2042,     0.20521,     0.20621,     0.20721,     0.20821,     0.20921,     0.21021,     0.21121,     0.21221,     0.21321,     0.21421,     0.21522,\n",
              "           0.21622,     0.21722,     0.21822,     0.21922,     0.22022,     0.22122,     0.22222,     0.22322,     0.22422,     0.22523,     0.22623,     0.22723,     0.22823,     0.22923,     0.23023,     0.23123,     0.23223,     0.23323,     0.23423,     0.23524,     0.23624,     0.23724,     0.23824,     0.23924,\n",
              "           0.24024,     0.24124,     0.24224,     0.24324,     0.24424,     0.24525,     0.24625,     0.24725,     0.24825,     0.24925,     0.25025,     0.25125,     0.25225,     0.25325,     0.25425,     0.25526,     0.25626,     0.25726,     0.25826,     0.25926,     0.26026,     0.26126,     0.26226,     0.26326,\n",
              "           0.26426,     0.26527,     0.26627,     0.26727,     0.26827,     0.26927,     0.27027,     0.27127,     0.27227,     0.27327,     0.27427,     0.27528,     0.27628,     0.27728,     0.27828,     0.27928,     0.28028,     0.28128,     0.28228,     0.28328,     0.28428,     0.28529,     0.28629,     0.28729,\n",
              "           0.28829,     0.28929,     0.29029,     0.29129,     0.29229,     0.29329,     0.29429,      0.2953,      0.2963,      0.2973,      0.2983,      0.2993,      0.3003,      0.3013,      0.3023,      0.3033,      0.3043,     0.30531,     0.30631,     0.30731,     0.30831,     0.30931,     0.31031,     0.31131,\n",
              "           0.31231,     0.31331,     0.31431,     0.31532,     0.31632,     0.31732,     0.31832,     0.31932,     0.32032,     0.32132,     0.32232,     0.32332,     0.32432,     0.32533,     0.32633,     0.32733,     0.32833,     0.32933,     0.33033,     0.33133,     0.33233,     0.33333,     0.33433,     0.33534,\n",
              "           0.33634,     0.33734,     0.33834,     0.33934,     0.34034,     0.34134,     0.34234,     0.34334,     0.34434,     0.34535,     0.34635,     0.34735,     0.34835,     0.34935,     0.35035,     0.35135,     0.35235,     0.35335,     0.35435,     0.35536,     0.35636,     0.35736,     0.35836,     0.35936,\n",
              "           0.36036,     0.36136,     0.36236,     0.36336,     0.36436,     0.36537,     0.36637,     0.36737,     0.36837,     0.36937,     0.37037,     0.37137,     0.37237,     0.37337,     0.37437,     0.37538,     0.37638,     0.37738,     0.37838,     0.37938,     0.38038,     0.38138,     0.38238,     0.38338,\n",
              "           0.38438,     0.38539,     0.38639,     0.38739,     0.38839,     0.38939,     0.39039,     0.39139,     0.39239,     0.39339,     0.39439,      0.3954,      0.3964,      0.3974,      0.3984,      0.3994,      0.4004,      0.4014,      0.4024,      0.4034,      0.4044,     0.40541,     0.40641,     0.40741,\n",
              "           0.40841,     0.40941,     0.41041,     0.41141,     0.41241,     0.41341,     0.41441,     0.41542,     0.41642,     0.41742,     0.41842,     0.41942,     0.42042,     0.42142,     0.42242,     0.42342,     0.42442,     0.42543,     0.42643,     0.42743,     0.42843,     0.42943,     0.43043,     0.43143,\n",
              "           0.43243,     0.43343,     0.43443,     0.43544,     0.43644,     0.43744,     0.43844,     0.43944,     0.44044,     0.44144,     0.44244,     0.44344,     0.44444,     0.44545,     0.44645,     0.44745,     0.44845,     0.44945,     0.45045,     0.45145,     0.45245,     0.45345,     0.45445,     0.45546,\n",
              "           0.45646,     0.45746,     0.45846,     0.45946,     0.46046,     0.46146,     0.46246,     0.46346,     0.46446,     0.46547,     0.46647,     0.46747,     0.46847,     0.46947,     0.47047,     0.47147,     0.47247,     0.47347,     0.47447,     0.47548,     0.47648,     0.47748,     0.47848,     0.47948,\n",
              "           0.48048,     0.48148,     0.48248,     0.48348,     0.48448,     0.48549,     0.48649,     0.48749,     0.48849,     0.48949,     0.49049,     0.49149,     0.49249,     0.49349,     0.49449,      0.4955,      0.4965,      0.4975,      0.4985,      0.4995,      0.5005,      0.5015,      0.5025,      0.5035,\n",
              "            0.5045,     0.50551,     0.50651,     0.50751,     0.50851,     0.50951,     0.51051,     0.51151,     0.51251,     0.51351,     0.51451,     0.51552,     0.51652,     0.51752,     0.51852,     0.51952,     0.52052,     0.52152,     0.52252,     0.52352,     0.52452,     0.52553,     0.52653,     0.52753,\n",
              "           0.52853,     0.52953,     0.53053,     0.53153,     0.53253,     0.53353,     0.53453,     0.53554,     0.53654,     0.53754,     0.53854,     0.53954,     0.54054,     0.54154,     0.54254,     0.54354,     0.54454,     0.54555,     0.54655,     0.54755,     0.54855,     0.54955,     0.55055,     0.55155,\n",
              "           0.55255,     0.55355,     0.55455,     0.55556,     0.55656,     0.55756,     0.55856,     0.55956,     0.56056,     0.56156,     0.56256,     0.56356,     0.56456,     0.56557,     0.56657,     0.56757,     0.56857,     0.56957,     0.57057,     0.57157,     0.57257,     0.57357,     0.57457,     0.57558,\n",
              "           0.57658,     0.57758,     0.57858,     0.57958,     0.58058,     0.58158,     0.58258,     0.58358,     0.58458,     0.58559,     0.58659,     0.58759,     0.58859,     0.58959,     0.59059,     0.59159,     0.59259,     0.59359,     0.59459,      0.5956,      0.5966,      0.5976,      0.5986,      0.5996,\n",
              "            0.6006,      0.6016,      0.6026,      0.6036,      0.6046,     0.60561,     0.60661,     0.60761,     0.60861,     0.60961,     0.61061,     0.61161,     0.61261,     0.61361,     0.61461,     0.61562,     0.61662,     0.61762,     0.61862,     0.61962,     0.62062,     0.62162,     0.62262,     0.62362,\n",
              "           0.62462,     0.62563,     0.62663,     0.62763,     0.62863,     0.62963,     0.63063,     0.63163,     0.63263,     0.63363,     0.63463,     0.63564,     0.63664,     0.63764,     0.63864,     0.63964,     0.64064,     0.64164,     0.64264,     0.64364,     0.64464,     0.64565,     0.64665,     0.64765,\n",
              "           0.64865,     0.64965,     0.65065,     0.65165,     0.65265,     0.65365,     0.65465,     0.65566,     0.65666,     0.65766,     0.65866,     0.65966,     0.66066,     0.66166,     0.66266,     0.66366,     0.66466,     0.66567,     0.66667,     0.66767,     0.66867,     0.66967,     0.67067,     0.67167,\n",
              "           0.67267,     0.67367,     0.67467,     0.67568,     0.67668,     0.67768,     0.67868,     0.67968,     0.68068,     0.68168,     0.68268,     0.68368,     0.68468,     0.68569,     0.68669,     0.68769,     0.68869,     0.68969,     0.69069,     0.69169,     0.69269,     0.69369,     0.69469,      0.6957,\n",
              "            0.6967,      0.6977,      0.6987,      0.6997,      0.7007,      0.7017,      0.7027,      0.7037,      0.7047,     0.70571,     0.70671,     0.70771,     0.70871,     0.70971,     0.71071,     0.71171,     0.71271,     0.71371,     0.71471,     0.71572,     0.71672,     0.71772,     0.71872,     0.71972,\n",
              "           0.72072,     0.72172,     0.72272,     0.72372,     0.72472,     0.72573,     0.72673,     0.72773,     0.72873,     0.72973,     0.73073,     0.73173,     0.73273,     0.73373,     0.73473,     0.73574,     0.73674,     0.73774,     0.73874,     0.73974,     0.74074,     0.74174,     0.74274,     0.74374,\n",
              "           0.74474,     0.74575,     0.74675,     0.74775,     0.74875,     0.74975,     0.75075,     0.75175,     0.75275,     0.75375,     0.75475,     0.75576,     0.75676,     0.75776,     0.75876,     0.75976,     0.76076,     0.76176,     0.76276,     0.76376,     0.76476,     0.76577,     0.76677,     0.76777,\n",
              "           0.76877,     0.76977,     0.77077,     0.77177,     0.77277,     0.77377,     0.77477,     0.77578,     0.77678,     0.77778,     0.77878,     0.77978,     0.78078,     0.78178,     0.78278,     0.78378,     0.78478,     0.78579,     0.78679,     0.78779,     0.78879,     0.78979,     0.79079,     0.79179,\n",
              "           0.79279,     0.79379,     0.79479,      0.7958,      0.7968,      0.7978,      0.7988,      0.7998,      0.8008,      0.8018,      0.8028,      0.8038,      0.8048,     0.80581,     0.80681,     0.80781,     0.80881,     0.80981,     0.81081,     0.81181,     0.81281,     0.81381,     0.81481,     0.81582,\n",
              "           0.81682,     0.81782,     0.81882,     0.81982,     0.82082,     0.82182,     0.82282,     0.82382,     0.82482,     0.82583,     0.82683,     0.82783,     0.82883,     0.82983,     0.83083,     0.83183,     0.83283,     0.83383,     0.83483,     0.83584,     0.83684,     0.83784,     0.83884,     0.83984,\n",
              "           0.84084,     0.84184,     0.84284,     0.84384,     0.84484,     0.84585,     0.84685,     0.84785,     0.84885,     0.84985,     0.85085,     0.85185,     0.85285,     0.85385,     0.85485,     0.85586,     0.85686,     0.85786,     0.85886,     0.85986,     0.86086,     0.86186,     0.86286,     0.86386,\n",
              "           0.86486,     0.86587,     0.86687,     0.86787,     0.86887,     0.86987,     0.87087,     0.87187,     0.87287,     0.87387,     0.87487,     0.87588,     0.87688,     0.87788,     0.87888,     0.87988,     0.88088,     0.88188,     0.88288,     0.88388,     0.88488,     0.88589,     0.88689,     0.88789,\n",
              "           0.88889,     0.88989,     0.89089,     0.89189,     0.89289,     0.89389,     0.89489,      0.8959,      0.8969,      0.8979,      0.8989,      0.8999,      0.9009,      0.9019,      0.9029,      0.9039,      0.9049,     0.90591,     0.90691,     0.90791,     0.90891,     0.90991,     0.91091,     0.91191,\n",
              "           0.91291,     0.91391,     0.91491,     0.91592,     0.91692,     0.91792,     0.91892,     0.91992,     0.92092,     0.92192,     0.92292,     0.92392,     0.92492,     0.92593,     0.92693,     0.92793,     0.92893,     0.92993,     0.93093,     0.93193,     0.93293,     0.93393,     0.93493,     0.93594,\n",
              "           0.93694,     0.93794,     0.93894,     0.93994,     0.94094,     0.94194,     0.94294,     0.94394,     0.94494,     0.94595,     0.94695,     0.94795,     0.94895,     0.94995,     0.95095,     0.95195,     0.95295,     0.95395,     0.95495,     0.95596,     0.95696,     0.95796,     0.95896,     0.95996,\n",
              "           0.96096,     0.96196,     0.96296,     0.96396,     0.96496,     0.96597,     0.96697,     0.96797,     0.96897,     0.96997,     0.97097,     0.97197,     0.97297,     0.97397,     0.97497,     0.97598,     0.97698,     0.97798,     0.97898,     0.97998,     0.98098,     0.98198,     0.98298,     0.98398,\n",
              "           0.98498,     0.98599,     0.98699,     0.98799,     0.98899,     0.98999,     0.99099,     0.99199,     0.99299,     0.99399,     0.99499,       0.996,       0.997,       0.998,       0.999,           1]), array([[   0.013346,    0.013354,     0.01915,    0.023261,    0.027019,    0.030432,    0.033643,    0.036762,    0.039477,    0.041748,    0.044093,    0.046859,     0.04912,    0.050931,    0.053304,    0.055522,    0.057934,    0.060418,     0.06243,    0.064252,    0.065709,    0.066631,    0.068805,\n",
              "           0.071107,    0.073389,    0.074662,    0.075947,    0.077768,    0.079126,    0.081122,    0.082656,    0.083846,    0.084402,    0.086213,    0.088219,     0.09011,    0.092229,    0.093751,    0.095684,     0.09756,    0.098581,    0.099519,    0.099865,     0.10054,     0.10209,     0.10341,\n",
              "            0.10411,     0.10572,     0.10715,     0.10897,     0.11044,     0.11163,     0.11267,     0.11402,     0.11534,     0.11637,      0.1174,     0.11844,     0.11974,     0.12095,     0.12001,     0.12052,     0.12248,     0.12408,     0.12511,      0.1263,     0.12768,     0.12937,     0.13012,\n",
              "            0.13163,     0.13249,     0.13305,     0.13393,     0.13504,     0.13661,     0.13828,     0.13949,     0.14062,     0.14213,     0.14298,     0.14414,      0.1443,     0.14547,     0.14629,     0.14784,     0.14808,     0.14969,     0.15115,     0.15268,     0.15324,     0.15398,     0.15517,\n",
              "            0.15706,     0.15566,     0.15658,      0.1578,     0.15863,     0.16032,     0.16131,     0.16195,     0.16187,      0.1642,     0.16647,     0.16846,     0.16927,     0.17004,     0.17127,     0.17167,      0.1735,     0.17437,     0.17594,     0.17747,     0.17784,     0.17913,     0.17782,\n",
              "            0.17921,     0.17996,     0.18168,     0.18194,     0.18293,     0.18406,     0.18361,     0.18321,     0.18412,     0.18529,     0.18516,     0.18596,     0.18661,     0.18654,     0.18521,     0.18634,     0.18731,     0.18956,     0.19132,     0.19293,      0.1944,     0.19387,     0.19588,\n",
              "            0.19557,     0.19716,     0.19744,     0.19813,     0.19898,      0.1992,     0.20075,     0.20135,     0.20239,     0.20331,     0.20379,     0.20425,     0.20613,     0.20808,     0.20929,      0.2098,     0.21131,      0.2125,     0.21436,     0.21513,     0.21586,     0.21708,     0.21773,\n",
              "            0.21841,     0.22059,     0.22237,     0.22138,     0.22136,     0.22129,      0.2227,     0.22321,     0.22413,     0.22703,     0.22644,     0.22684,     0.22852,     0.22897,     0.23049,     0.23195,     0.23361,     0.23491,     0.23455,      0.2337,     0.23423,      0.2353,     0.23512,\n",
              "            0.23576,     0.23673,     0.23765,     0.23818,     0.23886,     0.24152,     0.24236,     0.24301,     0.24388,     0.24489,     0.24481,     0.24483,     0.24568,     0.24625,     0.24432,     0.24782,     0.24923,     0.24989,     0.25227,     0.25405,      0.2539,     0.25344,     0.25369,\n",
              "            0.25341,     0.25254,     0.25316,     0.25514,      0.2567,     0.25898,     0.25929,     0.25982,     0.26076,      0.2611,     0.26306,     0.26388,     0.26697,     0.26817,     0.26905,      0.2718,     0.27272,     0.27551,      0.2768,       0.279,     0.28106,     0.28163,     0.28258,\n",
              "            0.28528,      0.2875,     0.28722,     0.28779,     0.28861,     0.28828,     0.29074,     0.28958,     0.28876,     0.29114,     0.29259,     0.29389,     0.29474,     0.29563,     0.29536,     0.29482,     0.29421,     0.29434,     0.29656,     0.29743,     0.29795,     0.29899,     0.30054,\n",
              "            0.30162,     0.30208,     0.30253,     0.30297,     0.30401,     0.30574,     0.30643,     0.30802,     0.30927,     0.30959,     0.31177,     0.31401,     0.31617,     0.31695,     0.31828,     0.31817,     0.32022,     0.32264,     0.32319,      0.3259,     0.32711,     0.32959,     0.33031,\n",
              "             0.3317,     0.33238,     0.33424,     0.33563,     0.33617,     0.33995,     0.33966,     0.33857,     0.33963,     0.34078,     0.34472,     0.34584,     0.34814,     0.35023,      0.3518,     0.35342,     0.35216,     0.35012,     0.34818,     0.34883,     0.35094,     0.34958,     0.34996,\n",
              "            0.35034,     0.35069,     0.35103,     0.35137,     0.35016,     0.35418,     0.35348,     0.35323,     0.35474,     0.35563,     0.35506,     0.35553,     0.35599,     0.35699,     0.35711,      0.3564,     0.35811,     0.35841,     0.35871,       0.359,     0.35999,     0.36195,     0.36275,\n",
              "            0.36462,     0.36553,     0.36895,     0.37019,      0.3722,      0.3718,     0.36995,     0.36932,      0.3721,     0.37086,      0.3705,     0.37322,     0.37389,     0.37236,       0.371,     0.36964,     0.37078,      0.3723,     0.36932,     0.37016,     0.37383,      0.3797,      0.3806,\n",
              "            0.37935,     0.38033,     0.38346,     0.38429,     0.38767,      0.3907,     0.39257,     0.39207,     0.38995,     0.38591,     0.38618,     0.38802,     0.38818,     0.38641,     0.38927,     0.38763,     0.38905,     0.39147,     0.39668,     0.39854,     0.40027,     0.39742,     0.39528,\n",
              "            0.39573,     0.39617,     0.39661,     0.39706,     0.39808,     0.39936,     0.40038,     0.39817,     0.39888,     0.39958,     0.40063,     0.40395,     0.40722,     0.40907,     0.40716,     0.40578,     0.40561,     0.40542,     0.40692,     0.40801,     0.41376,     0.41099,     0.40926,\n",
              "            0.40854,     0.41172,     0.41486,     0.41484,     0.41575,     0.41667,     0.42034,     0.41677,     0.41961,     0.42188,     0.42184,     0.42056,     0.41929,     0.41902,     0.41738,     0.41646,     0.41554,     0.41458,     0.41222,     0.40853,     0.40903,     0.41115,     0.41307,\n",
              "            0.41462,     0.41299,     0.41182,     0.41203,      0.4122,     0.42181,     0.41882,      0.4165,      0.4124,       0.414,     0.41495,     0.41589,     0.41589,     0.41292,     0.41432,     0.41525,     0.41377,     0.41229,     0.41736,     0.41784,     0.41832,      0.4188,     0.41928,\n",
              "            0.41976,     0.42024,     0.42353,     0.42462,     0.42571,     0.42509,     0.42723,     0.43058,     0.42996,     0.42724,     0.42649,     0.42574,     0.42499,     0.42424,     0.42349,     0.42574,     0.42727,     0.42828,      0.4293,     0.42957,      0.4287,     0.42284,     0.41879,\n",
              "            0.42108,     0.42511,     0.42857,     0.43254,     0.43497,     0.43707,     0.43895,     0.44777,     0.45002,     0.45907,      0.4555,     0.45247,     0.44963,     0.45334,     0.45443,     0.45611,     0.46036,     0.45985,      0.4579,     0.45507,     0.45406,      0.4494,     0.43784,\n",
              "            0.43368,     0.43895,     0.44166,      0.4446,     0.44621,     0.44578,     0.44891,     0.45692,     0.46007,     0.46122,     0.46237,     0.46352,     0.46467,     0.46073,     0.46559,     0.46764,     0.46969,     0.47157,     0.47343,     0.47529,     0.48066,     0.47873,      0.4768,\n",
              "            0.47469,     0.47017,       0.463,     0.46819,     0.47047,     0.47275,     0.47722,     0.48151,     0.48435,     0.48287,     0.49262,     0.49123,     0.48983,     0.48843,     0.48703,     0.48598,     0.49049,     0.49147,      0.4889,     0.48632,     0.48419,     0.48236,     0.48052,\n",
              "            0.47868,     0.47487,     0.46922,     0.46701,     0.46479,     0.46258,     0.46072,     0.45917,     0.45762,     0.45607,     0.45453,     0.45335,     0.45575,     0.45814,     0.46058,     0.46341,     0.46624,      0.4668,     0.46479,     0.46278,     0.46077,     0.45938,     0.46219,\n",
              "              0.465,     0.47528,     0.47728,     0.47928,     0.48128,     0.48068,     0.47423,     0.47886,     0.47687,     0.47943,     0.47337,      0.4774,     0.48305,      0.4876,     0.48407,     0.47006,     0.47452,     0.47022,     0.46896,     0.47142,     0.47389,     0.47636,     0.48932,\n",
              "            0.49409,     0.49887,     0.50243,     0.50562,     0.50881,     0.51199,     0.51625,     0.52057,      0.5249,     0.52659,     0.52922,     0.53186,     0.53449,     0.53713,     0.53976,     0.54981,     0.54893,     0.54504,     0.54051,     0.53599,     0.53147,     0.54585,     0.56219,\n",
              "            0.56527,     0.56336,     0.56144,     0.55953,     0.55761,      0.5557,     0.55379,     0.55187,     0.55409,     0.55664,      0.5592,     0.56176,     0.56432,     0.56687,     0.56943,     0.57091,     0.56856,     0.56621,     0.56386,     0.56151,     0.55916,     0.55681,     0.54709,\n",
              "            0.54393,     0.55435,     0.56395,      0.5726,     0.58124,     0.58207,     0.58041,     0.57875,     0.57708,     0.57542,     0.57375,     0.57209,     0.57043,     0.56876,      0.5671,     0.56544,     0.55721,     0.56488,     0.50876,     0.50819,     0.51767,     0.52716,     0.53925,\n",
              "            0.55216,     0.56065,     0.55132,     0.54199,      0.5548,     0.54855,     0.56476,     0.58096,     0.58837,     0.59427,     0.60018,     0.60608,     0.61198,     0.61788,     0.62379,     0.62969,     0.63559,     0.64722,     0.65971,     0.67219,     0.68468,     0.69717,     0.69567,\n",
              "            0.69007,     0.68447,     0.67887,     0.67327,     0.66767,     0.65873,     0.64907,      0.6394,     0.62974,     0.63765,     0.66246,     0.68726,     0.71207,     0.69984,     0.68397,      0.6681,     0.66131,     0.65541,     0.64952,     0.64363,     0.63773,     0.63184,     0.62595,\n",
              "            0.62005,     0.61416,     0.60827,     0.60237,     0.60607,     0.61622,     0.62637,     0.63652,     0.64667,     0.65682,     0.66697,     0.67712,     0.68727,     0.69743,     0.70758,     0.71773,     0.72788,     0.73803,     0.74818,     0.74313,     0.73476,     0.72639,     0.71802,\n",
              "            0.70965,     0.70128,     0.69291,     0.68454,     0.67617,     0.66781,      0.6939,     0.72541,     0.75693,     0.78844,     0.81996,     0.85148,     0.88299,     0.91451,     0.94603,     0.97754,           1,           1,           1,           1,           1,           1,           1,\n",
              "                  1,           1,           1,           1,           1,           1,           1,           1,           1,           1,           1,           1,           1,           1,           1,           1,           1,           1,           1,           1,           1,           1,           1,\n",
              "                  1,           1,           1,           1,           1,           1,           1,           1,           1,           1,           1,           1,           1,           1,           1,           1,           1,           1,           1,           1,           1,           1,           1,\n",
              "                  1,           1,           1,           1,           1,           1,           1,           1,           1,           1,           1,           1,           1,           1,           1,           1,           1,           1,           1,           1,           1,           1,           1,\n",
              "                  1,           1,           1,           1,           1,           1,           1,           1,           1,           1,           1,           1,           1,           1,           1,           1,           1,           1,           1,           1,           1,           1,           1,\n",
              "                  1,           1,           1,           1,           1,           1,           1,           1,           1,           1,           1,           1,           1,           1,           1,           1,           1,           1,           1,           1,           1,           1,           1,\n",
              "                  1,           1,           1,           1,           1,           1,           1,           1,           1,           1,           1,           1,           1,           1,           1,           1,           1,           1,           1,           1,           1,           1,           1,\n",
              "                  1,           1,           1,           1,           1,           1,           1,           1,           1,           1,           1,           1,           1,           1,           1,           1,           1,           1,           1,           1,           1,           1,           1,\n",
              "                  1,           1,           1,           1,           1,           1,           1,           1,           1,           1,           1,           1,           1,           1,           1,           1,           1,           1,           1,           1,           1,           1,           1,\n",
              "                  1,           1,           1,           1,           1,           1,           1,           1,           1,           1,           1,           1,           1,           1,           1,           1,           1,           1,           1,           1,           1,           1,           1,\n",
              "                  1,           1,           1,           1,           1,           1,           1,           1,           1,           1,           1,           1,           1,           1,           1,           1,           1,           1,           1,           1,           1,           1,           1,\n",
              "                  1,           1,           1,           1,           1,           1,           1,           1,           1,           1,           1,           1,           1,           1,           1,           1,           1,           1,           1,           1,           1,           1,           1,\n",
              "                  1,           1,           1,           1,           1,           1,           1,           1,           1,           1,           1]]), 'Confidence', 'Precision'], [array([          0,    0.001001,    0.002002,    0.003003,    0.004004,    0.005005,    0.006006,    0.007007,    0.008008,    0.009009,     0.01001,    0.011011,    0.012012,    0.013013,    0.014014,    0.015015,    0.016016,    0.017017,    0.018018,    0.019019,     0.02002,    0.021021,    0.022022,    0.023023,\n",
              "          0.024024,    0.025025,    0.026026,    0.027027,    0.028028,    0.029029,     0.03003,    0.031031,    0.032032,    0.033033,    0.034034,    0.035035,    0.036036,    0.037037,    0.038038,    0.039039,     0.04004,    0.041041,    0.042042,    0.043043,    0.044044,    0.045045,    0.046046,    0.047047,\n",
              "          0.048048,    0.049049,     0.05005,    0.051051,    0.052052,    0.053053,    0.054054,    0.055055,    0.056056,    0.057057,    0.058058,    0.059059,     0.06006,    0.061061,    0.062062,    0.063063,    0.064064,    0.065065,    0.066066,    0.067067,    0.068068,    0.069069,     0.07007,    0.071071,\n",
              "          0.072072,    0.073073,    0.074074,    0.075075,    0.076076,    0.077077,    0.078078,    0.079079,     0.08008,    0.081081,    0.082082,    0.083083,    0.084084,    0.085085,    0.086086,    0.087087,    0.088088,    0.089089,     0.09009,    0.091091,    0.092092,    0.093093,    0.094094,    0.095095,\n",
              "          0.096096,    0.097097,    0.098098,    0.099099,      0.1001,      0.1011,      0.1021,      0.1031,      0.1041,     0.10511,     0.10611,     0.10711,     0.10811,     0.10911,     0.11011,     0.11111,     0.11211,     0.11311,     0.11411,     0.11512,     0.11612,     0.11712,     0.11812,     0.11912,\n",
              "           0.12012,     0.12112,     0.12212,     0.12312,     0.12412,     0.12513,     0.12613,     0.12713,     0.12813,     0.12913,     0.13013,     0.13113,     0.13213,     0.13313,     0.13413,     0.13514,     0.13614,     0.13714,     0.13814,     0.13914,     0.14014,     0.14114,     0.14214,     0.14314,\n",
              "           0.14414,     0.14515,     0.14615,     0.14715,     0.14815,     0.14915,     0.15015,     0.15115,     0.15215,     0.15315,     0.15415,     0.15516,     0.15616,     0.15716,     0.15816,     0.15916,     0.16016,     0.16116,     0.16216,     0.16316,     0.16416,     0.16517,     0.16617,     0.16717,\n",
              "           0.16817,     0.16917,     0.17017,     0.17117,     0.17217,     0.17317,     0.17417,     0.17518,     0.17618,     0.17718,     0.17818,     0.17918,     0.18018,     0.18118,     0.18218,     0.18318,     0.18418,     0.18519,     0.18619,     0.18719,     0.18819,     0.18919,     0.19019,     0.19119,\n",
              "           0.19219,     0.19319,     0.19419,      0.1952,      0.1962,      0.1972,      0.1982,      0.1992,      0.2002,      0.2012,      0.2022,      0.2032,      0.2042,     0.20521,     0.20621,     0.20721,     0.20821,     0.20921,     0.21021,     0.21121,     0.21221,     0.21321,     0.21421,     0.21522,\n",
              "           0.21622,     0.21722,     0.21822,     0.21922,     0.22022,     0.22122,     0.22222,     0.22322,     0.22422,     0.22523,     0.22623,     0.22723,     0.22823,     0.22923,     0.23023,     0.23123,     0.23223,     0.23323,     0.23423,     0.23524,     0.23624,     0.23724,     0.23824,     0.23924,\n",
              "           0.24024,     0.24124,     0.24224,     0.24324,     0.24424,     0.24525,     0.24625,     0.24725,     0.24825,     0.24925,     0.25025,     0.25125,     0.25225,     0.25325,     0.25425,     0.25526,     0.25626,     0.25726,     0.25826,     0.25926,     0.26026,     0.26126,     0.26226,     0.26326,\n",
              "           0.26426,     0.26527,     0.26627,     0.26727,     0.26827,     0.26927,     0.27027,     0.27127,     0.27227,     0.27327,     0.27427,     0.27528,     0.27628,     0.27728,     0.27828,     0.27928,     0.28028,     0.28128,     0.28228,     0.28328,     0.28428,     0.28529,     0.28629,     0.28729,\n",
              "           0.28829,     0.28929,     0.29029,     0.29129,     0.29229,     0.29329,     0.29429,      0.2953,      0.2963,      0.2973,      0.2983,      0.2993,      0.3003,      0.3013,      0.3023,      0.3033,      0.3043,     0.30531,     0.30631,     0.30731,     0.30831,     0.30931,     0.31031,     0.31131,\n",
              "           0.31231,     0.31331,     0.31431,     0.31532,     0.31632,     0.31732,     0.31832,     0.31932,     0.32032,     0.32132,     0.32232,     0.32332,     0.32432,     0.32533,     0.32633,     0.32733,     0.32833,     0.32933,     0.33033,     0.33133,     0.33233,     0.33333,     0.33433,     0.33534,\n",
              "           0.33634,     0.33734,     0.33834,     0.33934,     0.34034,     0.34134,     0.34234,     0.34334,     0.34434,     0.34535,     0.34635,     0.34735,     0.34835,     0.34935,     0.35035,     0.35135,     0.35235,     0.35335,     0.35435,     0.35536,     0.35636,     0.35736,     0.35836,     0.35936,\n",
              "           0.36036,     0.36136,     0.36236,     0.36336,     0.36436,     0.36537,     0.36637,     0.36737,     0.36837,     0.36937,     0.37037,     0.37137,     0.37237,     0.37337,     0.37437,     0.37538,     0.37638,     0.37738,     0.37838,     0.37938,     0.38038,     0.38138,     0.38238,     0.38338,\n",
              "           0.38438,     0.38539,     0.38639,     0.38739,     0.38839,     0.38939,     0.39039,     0.39139,     0.39239,     0.39339,     0.39439,      0.3954,      0.3964,      0.3974,      0.3984,      0.3994,      0.4004,      0.4014,      0.4024,      0.4034,      0.4044,     0.40541,     0.40641,     0.40741,\n",
              "           0.40841,     0.40941,     0.41041,     0.41141,     0.41241,     0.41341,     0.41441,     0.41542,     0.41642,     0.41742,     0.41842,     0.41942,     0.42042,     0.42142,     0.42242,     0.42342,     0.42442,     0.42543,     0.42643,     0.42743,     0.42843,     0.42943,     0.43043,     0.43143,\n",
              "           0.43243,     0.43343,     0.43443,     0.43544,     0.43644,     0.43744,     0.43844,     0.43944,     0.44044,     0.44144,     0.44244,     0.44344,     0.44444,     0.44545,     0.44645,     0.44745,     0.44845,     0.44945,     0.45045,     0.45145,     0.45245,     0.45345,     0.45445,     0.45546,\n",
              "           0.45646,     0.45746,     0.45846,     0.45946,     0.46046,     0.46146,     0.46246,     0.46346,     0.46446,     0.46547,     0.46647,     0.46747,     0.46847,     0.46947,     0.47047,     0.47147,     0.47247,     0.47347,     0.47447,     0.47548,     0.47648,     0.47748,     0.47848,     0.47948,\n",
              "           0.48048,     0.48148,     0.48248,     0.48348,     0.48448,     0.48549,     0.48649,     0.48749,     0.48849,     0.48949,     0.49049,     0.49149,     0.49249,     0.49349,     0.49449,      0.4955,      0.4965,      0.4975,      0.4985,      0.4995,      0.5005,      0.5015,      0.5025,      0.5035,\n",
              "            0.5045,     0.50551,     0.50651,     0.50751,     0.50851,     0.50951,     0.51051,     0.51151,     0.51251,     0.51351,     0.51451,     0.51552,     0.51652,     0.51752,     0.51852,     0.51952,     0.52052,     0.52152,     0.52252,     0.52352,     0.52452,     0.52553,     0.52653,     0.52753,\n",
              "           0.52853,     0.52953,     0.53053,     0.53153,     0.53253,     0.53353,     0.53453,     0.53554,     0.53654,     0.53754,     0.53854,     0.53954,     0.54054,     0.54154,     0.54254,     0.54354,     0.54454,     0.54555,     0.54655,     0.54755,     0.54855,     0.54955,     0.55055,     0.55155,\n",
              "           0.55255,     0.55355,     0.55455,     0.55556,     0.55656,     0.55756,     0.55856,     0.55956,     0.56056,     0.56156,     0.56256,     0.56356,     0.56456,     0.56557,     0.56657,     0.56757,     0.56857,     0.56957,     0.57057,     0.57157,     0.57257,     0.57357,     0.57457,     0.57558,\n",
              "           0.57658,     0.57758,     0.57858,     0.57958,     0.58058,     0.58158,     0.58258,     0.58358,     0.58458,     0.58559,     0.58659,     0.58759,     0.58859,     0.58959,     0.59059,     0.59159,     0.59259,     0.59359,     0.59459,      0.5956,      0.5966,      0.5976,      0.5986,      0.5996,\n",
              "            0.6006,      0.6016,      0.6026,      0.6036,      0.6046,     0.60561,     0.60661,     0.60761,     0.60861,     0.60961,     0.61061,     0.61161,     0.61261,     0.61361,     0.61461,     0.61562,     0.61662,     0.61762,     0.61862,     0.61962,     0.62062,     0.62162,     0.62262,     0.62362,\n",
              "           0.62462,     0.62563,     0.62663,     0.62763,     0.62863,     0.62963,     0.63063,     0.63163,     0.63263,     0.63363,     0.63463,     0.63564,     0.63664,     0.63764,     0.63864,     0.63964,     0.64064,     0.64164,     0.64264,     0.64364,     0.64464,     0.64565,     0.64665,     0.64765,\n",
              "           0.64865,     0.64965,     0.65065,     0.65165,     0.65265,     0.65365,     0.65465,     0.65566,     0.65666,     0.65766,     0.65866,     0.65966,     0.66066,     0.66166,     0.66266,     0.66366,     0.66466,     0.66567,     0.66667,     0.66767,     0.66867,     0.66967,     0.67067,     0.67167,\n",
              "           0.67267,     0.67367,     0.67467,     0.67568,     0.67668,     0.67768,     0.67868,     0.67968,     0.68068,     0.68168,     0.68268,     0.68368,     0.68468,     0.68569,     0.68669,     0.68769,     0.68869,     0.68969,     0.69069,     0.69169,     0.69269,     0.69369,     0.69469,      0.6957,\n",
              "            0.6967,      0.6977,      0.6987,      0.6997,      0.7007,      0.7017,      0.7027,      0.7037,      0.7047,     0.70571,     0.70671,     0.70771,     0.70871,     0.70971,     0.71071,     0.71171,     0.71271,     0.71371,     0.71471,     0.71572,     0.71672,     0.71772,     0.71872,     0.71972,\n",
              "           0.72072,     0.72172,     0.72272,     0.72372,     0.72472,     0.72573,     0.72673,     0.72773,     0.72873,     0.72973,     0.73073,     0.73173,     0.73273,     0.73373,     0.73473,     0.73574,     0.73674,     0.73774,     0.73874,     0.73974,     0.74074,     0.74174,     0.74274,     0.74374,\n",
              "           0.74474,     0.74575,     0.74675,     0.74775,     0.74875,     0.74975,     0.75075,     0.75175,     0.75275,     0.75375,     0.75475,     0.75576,     0.75676,     0.75776,     0.75876,     0.75976,     0.76076,     0.76176,     0.76276,     0.76376,     0.76476,     0.76577,     0.76677,     0.76777,\n",
              "           0.76877,     0.76977,     0.77077,     0.77177,     0.77277,     0.77377,     0.77477,     0.77578,     0.77678,     0.77778,     0.77878,     0.77978,     0.78078,     0.78178,     0.78278,     0.78378,     0.78478,     0.78579,     0.78679,     0.78779,     0.78879,     0.78979,     0.79079,     0.79179,\n",
              "           0.79279,     0.79379,     0.79479,      0.7958,      0.7968,      0.7978,      0.7988,      0.7998,      0.8008,      0.8018,      0.8028,      0.8038,      0.8048,     0.80581,     0.80681,     0.80781,     0.80881,     0.80981,     0.81081,     0.81181,     0.81281,     0.81381,     0.81481,     0.81582,\n",
              "           0.81682,     0.81782,     0.81882,     0.81982,     0.82082,     0.82182,     0.82282,     0.82382,     0.82482,     0.82583,     0.82683,     0.82783,     0.82883,     0.82983,     0.83083,     0.83183,     0.83283,     0.83383,     0.83483,     0.83584,     0.83684,     0.83784,     0.83884,     0.83984,\n",
              "           0.84084,     0.84184,     0.84284,     0.84384,     0.84484,     0.84585,     0.84685,     0.84785,     0.84885,     0.84985,     0.85085,     0.85185,     0.85285,     0.85385,     0.85485,     0.85586,     0.85686,     0.85786,     0.85886,     0.85986,     0.86086,     0.86186,     0.86286,     0.86386,\n",
              "           0.86486,     0.86587,     0.86687,     0.86787,     0.86887,     0.86987,     0.87087,     0.87187,     0.87287,     0.87387,     0.87487,     0.87588,     0.87688,     0.87788,     0.87888,     0.87988,     0.88088,     0.88188,     0.88288,     0.88388,     0.88488,     0.88589,     0.88689,     0.88789,\n",
              "           0.88889,     0.88989,     0.89089,     0.89189,     0.89289,     0.89389,     0.89489,      0.8959,      0.8969,      0.8979,      0.8989,      0.8999,      0.9009,      0.9019,      0.9029,      0.9039,      0.9049,     0.90591,     0.90691,     0.90791,     0.90891,     0.90991,     0.91091,     0.91191,\n",
              "           0.91291,     0.91391,     0.91491,     0.91592,     0.91692,     0.91792,     0.91892,     0.91992,     0.92092,     0.92192,     0.92292,     0.92392,     0.92492,     0.92593,     0.92693,     0.92793,     0.92893,     0.92993,     0.93093,     0.93193,     0.93293,     0.93393,     0.93493,     0.93594,\n",
              "           0.93694,     0.93794,     0.93894,     0.93994,     0.94094,     0.94194,     0.94294,     0.94394,     0.94494,     0.94595,     0.94695,     0.94795,     0.94895,     0.94995,     0.95095,     0.95195,     0.95295,     0.95395,     0.95495,     0.95596,     0.95696,     0.95796,     0.95896,     0.95996,\n",
              "           0.96096,     0.96196,     0.96296,     0.96396,     0.96496,     0.96597,     0.96697,     0.96797,     0.96897,     0.96997,     0.97097,     0.97197,     0.97297,     0.97397,     0.97497,     0.97598,     0.97698,     0.97798,     0.97898,     0.97998,     0.98098,     0.98198,     0.98298,     0.98398,\n",
              "           0.98498,     0.98599,     0.98699,     0.98799,     0.98899,     0.98999,     0.99099,     0.99199,     0.99299,     0.99399,     0.99499,       0.996,       0.997,       0.998,       0.999,           1]), array([[    0.85533,     0.85533,     0.83249,     0.79949,     0.77919,      0.7665,     0.75127,     0.74365,     0.72843,      0.7132,     0.69797,     0.69289,     0.68274,     0.67005,     0.66497,     0.65736,     0.65482,     0.65482,     0.65228,     0.64721,     0.63851,     0.62437,     0.62183,\n",
              "            0.61929,     0.61929,     0.61421,     0.60914,      0.6066,     0.60406,     0.60406,     0.59898,     0.59645,     0.58883,     0.58629,     0.58629,     0.58629,     0.58629,     0.58122,     0.58122,     0.58122,     0.57868,      0.5736,     0.56599,     0.56091,     0.56091,     0.55584,\n",
              "            0.55076,     0.55076,     0.55076,     0.55076,     0.55076,     0.55076,     0.54822,     0.54822,     0.54569,     0.54315,     0.53807,     0.53553,     0.53299,     0.53046,      0.5203,     0.51523,     0.51269,     0.51269,     0.51015,     0.50761,     0.50761,     0.50761,     0.50266,\n",
              "            0.50254,     0.49928,     0.49746,     0.49492,     0.49239,     0.49239,     0.49239,     0.48985,     0.48985,     0.48985,     0.48731,     0.48731,     0.48477,     0.48477,     0.48477,     0.48391,      0.4797,      0.4797,      0.4797,      0.4797,      0.4797,     0.47716,     0.47716,\n",
              "            0.47716,     0.46954,     0.46954,     0.46954,     0.46701,     0.46447,      0.4613,     0.45939,     0.45431,     0.45431,     0.45431,     0.45431,     0.45303,     0.44924,     0.44924,      0.4467,      0.4467,     0.44416,     0.44416,     0.44416,     0.44162,     0.44162,     0.43529,\n",
              "            0.43401,     0.43401,     0.43401,     0.42893,     0.42893,     0.42893,     0.42297,     0.41878,     0.41878,     0.41878,     0.41624,     0.41371,     0.41371,     0.41265,     0.40609,     0.40609,     0.40609,     0.40609,     0.40609,     0.40609,     0.40609,     0.40355,     0.40355,\n",
              "            0.40102,     0.40102,     0.39848,     0.39848,     0.39848,     0.39594,     0.39594,      0.3934,      0.3934,      0.3934,     0.39086,     0.38832,     0.38832,     0.38832,     0.38832,     0.38579,     0.38579,     0.38579,     0.38579,     0.38579,     0.38579,     0.38579,      0.3843,\n",
              "            0.38325,     0.38325,     0.38325,     0.38071,     0.37953,     0.37817,     0.37817,     0.37817,     0.37817,     0.37796,     0.37563,     0.37381,      0.3731,      0.3731,      0.3731,      0.3731,      0.3731,      0.3731,      0.3702,     0.36802,     0.36802,     0.36548,     0.36435,\n",
              "            0.36294,     0.36131,     0.36041,     0.35787,     0.35787,     0.35787,     0.35533,     0.35533,     0.35279,     0.35279,     0.35132,     0.34772,     0.34772,     0.34744,     0.34264,     0.34264,     0.34264,     0.34264,     0.34264,     0.34264,      0.3401,     0.33756,     0.33561,\n",
              "            0.33249,     0.32995,     0.32995,     0.32995,     0.32995,     0.32995,     0.32995,     0.32995,     0.32995,     0.32995,     0.32995,     0.32995,     0.32995,     0.32995,     0.32741,     0.32487,     0.32487,     0.32487,     0.32487,     0.32487,     0.32487,     0.32487,     0.32487,\n",
              "            0.32487,     0.32487,     0.32319,     0.32234,     0.32234,      0.3198,     0.31941,     0.31726,     0.31218,     0.31218,     0.31218,     0.31218,     0.31218,     0.31218,     0.30964,     0.30878,     0.30789,     0.30711,     0.30711,     0.30711,     0.30711,     0.30457,     0.30457,\n",
              "            0.30457,     0.30457,     0.30457,     0.30457,     0.30457,     0.30457,     0.30457,     0.30457,     0.30457,     0.30203,     0.30203,     0.30203,     0.30203,     0.30203,     0.30099,     0.29949,     0.29949,     0.29949,     0.29949,     0.29949,     0.29695,     0.29695,     0.29695,\n",
              "            0.29695,     0.29695,     0.29695,     0.29695,     0.29695,     0.29674,     0.29442,     0.29231,     0.29188,     0.28934,     0.28934,     0.28934,     0.28934,     0.28934,     0.28934,     0.28934,     0.28697,     0.28173,     0.27919,     0.27919,     0.27919,     0.27665,     0.27665,\n",
              "            0.27665,     0.27665,     0.27665,     0.27665,     0.27157,     0.27157,     0.26904,     0.26753,      0.2665,      0.2665,     0.26396,     0.26396,     0.26396,     0.26396,     0.26082,     0.25888,     0.25888,     0.25888,     0.25888,     0.25888,     0.25888,     0.25888,     0.25888,\n",
              "            0.25888,     0.25888,     0.25888,     0.25635,     0.25635,     0.25537,     0.25335,     0.25127,     0.25118,     0.24985,     0.24873,     0.24873,     0.24856,     0.24619,     0.24401,     0.24112,     0.24112,     0.24112,     0.23604,     0.23604,     0.23604,     0.23604,     0.23604,\n",
              "            0.23425,      0.2335,      0.2335,      0.2335,      0.2335,      0.2335,      0.2335,     0.23244,     0.23038,     0.22649,     0.22589,     0.22589,     0.22383,     0.22081,     0.22001,     0.21827,     0.21827,     0.21574,     0.21574,     0.21574,     0.21513,      0.2126,     0.21066,\n",
              "            0.21066,     0.21066,     0.21066,     0.21066,     0.21066,     0.21066,     0.21015,     0.20812,     0.20812,     0.20812,     0.20812,     0.20812,     0.20812,     0.20732,     0.20305,     0.20051,     0.19918,     0.19797,     0.19797,     0.19797,     0.19705,     0.19481,     0.19343,\n",
              "            0.19036,     0.18782,     0.18782,     0.18528,     0.18528,     0.18528,     0.18528,     0.18137,      0.1802,      0.1802,     0.17963,     0.17869,     0.17776,     0.17573,     0.17456,      0.1739,     0.17324,     0.17255,     0.17088,      0.1683,     0.16751,     0.16751,     0.16751,\n",
              "            0.16751,     0.16497,     0.16349,     0.16244,      0.1599,      0.1599,      0.1573,     0.15581,      0.1532,     0.15228,     0.15228,     0.15228,      0.1518,     0.14975,     0.14975,      0.1496,     0.14869,     0.14778,     0.14721,     0.14721,     0.14721,     0.14721,     0.14721,\n",
              "            0.14721,     0.14721,     0.14721,     0.14721,     0.14721,     0.14638,     0.14467,     0.14467,     0.14358,     0.14199,     0.14156,     0.14113,      0.1407,     0.14027,     0.13983,     0.13959,     0.13959,     0.13959,     0.13959,     0.13706,     0.13523,     0.13202,     0.12985,\n",
              "            0.12944,     0.12944,     0.12944,     0.12944,     0.12944,     0.12944,     0.12944,     0.12944,     0.12944,     0.12924,      0.1274,     0.12585,     0.12441,     0.12208,     0.12183,     0.12183,     0.12183,     0.12101,     0.12006,      0.1187,      0.1161,     0.11394,     0.10872,\n",
              "             0.1069,      0.1066,      0.1066,      0.1066,     0.10406,     0.10152,     0.10152,     0.10152,     0.10152,     0.10152,     0.10152,     0.10152,     0.10152,    0.099754,    0.098985,    0.098985,    0.098985,    0.098985,    0.098985,    0.098985,    0.098662,    0.097906,    0.097151,\n",
              "           0.096328,    0.094601,    0.091916,    0.091371,    0.091371,    0.091371,    0.091371,    0.091371,    0.091371,    0.088832,    0.088715,    0.088225,    0.087735,    0.087245,    0.086755,    0.086294,    0.086294,    0.085859,    0.084983,    0.084106,    0.083392,    0.082785,    0.082179,\n",
              "           0.081572,    0.080339,    0.078533,    0.077844,    0.077155,    0.076466,    0.075895,    0.075428,    0.074961,    0.074494,    0.074027,    0.073604,    0.073604,    0.073604,    0.073604,    0.073604,    0.073604,     0.07333,    0.072745,     0.07216,    0.071575,    0.071066,    0.071066,\n",
              "           0.071066,    0.071066,    0.071066,    0.071066,    0.071066,    0.070485,    0.068528,    0.068528,    0.067105,     0.06599,    0.063885,    0.063452,    0.063452,    0.063452,    0.061928,    0.055838,    0.055838,    0.054077,    0.053299,    0.053299,    0.053299,    0.053299,    0.053299,\n",
              "           0.053299,    0.053299,    0.053299,    0.053299,    0.053299,    0.053299,    0.053299,    0.053299,    0.053299,    0.050761,    0.050761,    0.050761,    0.050761,    0.050761,    0.050761,    0.050761,    0.048223,    0.045611,    0.044802,    0.043994,    0.043186,    0.043147,    0.043147,\n",
              "            0.04291,    0.042585,     0.04226,    0.041935,     0.04161,    0.041284,    0.040959,    0.040634,    0.040609,    0.040609,    0.040609,    0.040609,    0.040609,    0.040609,    0.040609,    0.040527,    0.040151,    0.039775,    0.039399,    0.039024,    0.038648,    0.038272,    0.036815,\n",
              "           0.035533,    0.035533,    0.035533,    0.035533,    0.035533,    0.035356,    0.035123,     0.03489,    0.034657,    0.034424,    0.034191,    0.033958,    0.033725,    0.033492,    0.033259,    0.033025,    0.030457,    0.029681,    0.023687,    0.022843,    0.022843,    0.022843,    0.022843,\n",
              "           0.022843,    0.022681,     0.02187,    0.021058,    0.020305,    0.017766,    0.017766,    0.017766,    0.017766,    0.017766,    0.017766,    0.017766,    0.017766,    0.017766,    0.017766,    0.017766,    0.017766,    0.017766,    0.017766,    0.017766,    0.017766,    0.017766,    0.017437,\n",
              "            0.01701,    0.016584,    0.016158,    0.015731,    0.015305,    0.014745,    0.014156,    0.013568,    0.012979,     0.01269,     0.01269,     0.01269,     0.01269,     0.01192,    0.011074,    0.010229,   0.0099482,   0.0097238,   0.0094994,   0.0092751,   0.0090507,   0.0088263,    0.008602,\n",
              "          0.0083776,   0.0081532,   0.0079289,   0.0077045,   0.0076142,   0.0076142,   0.0076142,   0.0076142,   0.0076142,   0.0076142,   0.0076142,   0.0076142,   0.0076142,   0.0076142,   0.0076142,   0.0076142,   0.0076142,   0.0076142,   0.0076142,    0.007405,   0.0071501,   0.0068952,   0.0066403,\n",
              "          0.0063854,   0.0061305,   0.0058755,   0.0056206,   0.0053657,   0.0051108,   0.0050761,   0.0050761,   0.0050761,   0.0050761,   0.0050761,   0.0050761,   0.0050761,   0.0050761,   0.0050761,   0.0050761,   0.0050646,   0.0050244,   0.0049842,    0.004944,   0.0049037,   0.0048635,   0.0048233,\n",
              "          0.0047831,   0.0047429,   0.0047027,   0.0046625,   0.0046223,    0.004582,   0.0045418,   0.0045016,   0.0044614,   0.0044212,    0.004381,   0.0043408,   0.0043006,   0.0042604,   0.0042201,   0.0041799,   0.0041397,   0.0040995,   0.0040593,   0.0040191,   0.0039789,   0.0039387,   0.0038985,\n",
              "          0.0038582,    0.003818,   0.0037778,   0.0037376,   0.0036974,   0.0036572,    0.003617,   0.0035768,   0.0035366,   0.0034963,   0.0034561,   0.0034159,   0.0033757,   0.0033355,   0.0032953,   0.0032551,   0.0032149,   0.0031747,   0.0031344,   0.0030942,    0.003054,   0.0030138,   0.0029736,\n",
              "          0.0029334,   0.0028932,    0.002853,   0.0028128,   0.0027725,   0.0027323,   0.0026921,   0.0026519,   0.0026117,   0.0025715,           0,           0,           0,           0,           0,           0,           0,           0,           0,           0,           0,           0,           0,\n",
              "                  0,           0,           0,           0,           0,           0,           0,           0,           0,           0,           0,           0,           0,           0,           0,           0,           0,           0,           0,           0,           0,           0,           0,\n",
              "                  0,           0,           0,           0,           0,           0,           0,           0,           0,           0,           0,           0,           0,           0,           0,           0,           0,           0,           0,           0,           0,           0,           0,\n",
              "                  0,           0,           0,           0,           0,           0,           0,           0,           0,           0,           0,           0,           0,           0,           0,           0,           0,           0,           0,           0,           0,           0,           0,\n",
              "                  0,           0,           0,           0,           0,           0,           0,           0,           0,           0,           0,           0,           0,           0,           0,           0,           0,           0,           0,           0,           0,           0,           0,\n",
              "                  0,           0,           0,           0,           0,           0,           0,           0,           0,           0,           0,           0,           0,           0,           0,           0,           0,           0,           0,           0,           0,           0,           0,\n",
              "                  0,           0,           0,           0,           0,           0,           0,           0,           0,           0,           0,           0,           0,           0,           0,           0,           0,           0,           0,           0,           0,           0,           0,\n",
              "                  0,           0,           0,           0,           0,           0,           0,           0,           0,           0,           0,           0,           0,           0,           0,           0,           0,           0,           0,           0,           0,           0,           0,\n",
              "                  0,           0,           0,           0,           0,           0,           0,           0,           0,           0,           0,           0,           0,           0,           0,           0,           0,           0,           0,           0,           0,           0,           0,\n",
              "                  0,           0,           0,           0,           0,           0,           0,           0,           0,           0,           0]]), 'Confidence', 'Recall']]\n",
              "fitness: np.float64(0.08880396756331041)\n",
              "keys: ['metrics/precision(B)', 'metrics/recall(B)', 'metrics/mAP50(B)', 'metrics/mAP50-95(B)']\n",
              "maps: array([   0.076272])\n",
              "names: {0: 'pothole'}\n",
              "nt_per_class: array([394])\n",
              "nt_per_image: array([220])\n",
              "results_dict: {'metrics/precision(B)': np.float64(0.33237537247168847), 'metrics/recall(B)': np.float64(0.2969543147208122), 'metrics/mAP50(B)': np.float64(0.20159457513874746), 'metrics/mAP50-95(B)': np.float64(0.07627167783270627), 'fitness': np.float64(0.08880396756331041)}\n",
              "save_dir: PosixPath('runs/detect/train27')\n",
              "speed: {'preprocess': 5.847260727685755, 'inference': 7.049324612707262, 'loss': 0.00029993797302825173, 'postprocess': 2.008615515884497}\n",
              "stats: {'tp': [], 'conf': [], 'pred_cls': [], 'target_cls': [], 'target_img': []}\n",
              "task: 'detect'"
            ]
          },
          "metadata": {},
          "execution_count": 23
        }
      ]
    }
  ]
}